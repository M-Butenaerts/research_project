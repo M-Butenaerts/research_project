{
 "cells": [
  {
   "cell_type": "code",
   "execution_count": 2,
   "metadata": {},
   "outputs": [],
   "source": [
    "using ScikitLearn\n",
    "using ScikitLearn.Pipelines: Pipeline, FeatureUnion\n",
    "using XGBoost"
   ]
  },
  {
   "cell_type": "code",
   "execution_count": 11,
   "metadata": {},
   "outputs": [
    {
     "data": {
      "text/plain": [
       "Main.Herb"
      ]
     },
     "metadata": {},
     "output_type": "display_data"
    }
   ],
   "source": [
    "using Revise\n",
    "\n",
    "include(\"../../Herb.jl/src/Herb.jl\")"
   ]
  },
  {
   "cell_type": "code",
   "execution_count": null,
   "metadata": {},
   "outputs": [],
   "source": [
    "@sk_import decomposition: (PCA)\n",
    "@sk_import preprocessing: (StandardScaler, RobustScaler, MinMaxScaler, MaxAbsScaler, Binarizer, PolynomialFeatures)\n",
    "@sk_import feature_selection: (VarianceThreshold, SelectKBest, SelectPercentile, SelectFwe, RFE)\n",
    "@sk_import tree: (DecisionTreeClassifier)\n",
    "@sk_import ensemble: (RandomForestClassifier, GradientBoostingClassifier)\n",
    "@sk_import linear_model: (LogisticRegression)\n",
    "@sk_import neighbors: (NearestNeighbors)\n",
    "@sk_import svm: (LinearSVC)"
   ]
  },
  {
   "cell_type": "code",
   "execution_count": 33,
   "metadata": {},
   "outputs": [
    {
     "data": {
      "text/plain": [
       "1: Start = Pipeline([PRE, EST])\n",
       "2: PRE = PASS\n",
       "3: PRE = TFM\n",
       "4: PRE = EST\n",
       "5: PRE = Pipeline([PRE, PRE])\n",
       "6: PRE = FeatureUnion([PRE, PRE])\n",
       "7: EST = (\"linear_pca\", PCA())\n",
       "8: EST = (\"kernel_pca\", KernelPCA())\n",
       "9: TFM = ()\n",
       "10: PASS = (\"id\", FunctionTransformer((x->begin\n",
       "                \u001b[90m#= c:\\Users\\denys\\Programming\\BEP\\Grammar\\HerbExamples.jl\\notebooks\\grammar.ipynb:9 =#\u001b[39m\n",
       "                x\n",
       "            end)))\n"
      ]
     },
     "metadata": {},
     "output_type": "display_data"
    }
   ],
   "source": [
    "# Need to import:\n",
    "# FeatureUnion\n",
    "\n",
    "g = Herb.HerbGrammar.@cfgrammar begin\n",
    "    Start = Pipeline([PRE, EST]) \n",
    "    PRE   = PASS | TFM | EST | Pipeline([PRE, PRE]) | FeatureUnion([PRE, PRE])\n",
    "    EST   = (\"linear_pca\", PCA()) | (\"kernel_pca\", KernelPCA())\n",
    "    TFM   = () \n",
    "    PASS  = (\"id\", FunctionTransformer(x -> x))     # this transformer leaves the input unchanged\n",
    "end"
   ]
  },
  {
   "cell_type": "code",
   "execution_count": 43,
   "metadata": {},
   "outputs": [
    {
     "data": {
      "text/plain": [
       "1: START = EST\n",
       "2: START = sequence(PRE, CLASSIF)\n",
       "3: PRE = PREPROC\n",
       "4: PRE = FSELECT\n",
       "5: PRE = sequence(PRE, PRE)\n",
       "6: PRE = parallel(PRE, PRE)\n",
       "7: PREPROC = (\"StandardScaler\", StandardScaler)\n",
       "8: PREPROC = (\"RobustScaler\", RobustScaler)\n",
       "9: PREPROC = (\"MinMaxScaler\", MinMaxScaler)\n",
       "10: PREPROC = (\"MaxAbsScaler\", MaxAbsScaler)\n",
       "11: PREPROC = (\"RandomizedPCA\", RandomizedPCA)\n",
       "12: PREPROC = (\"Binarizer\", Binarizer)\n",
       "13: PREPROC = (\"PolynomialFeatures\", PolynomialFeatures)\n",
       "14: CLASSIF = (\"DecisionTree\", DecisionTree)\n",
       "15: CLASSIF = (\"RandomForest\", RandomForest)\n",
       "16: CLASSIF = (\"eXtreme Gradient Boosting Classifier\", eXtremeGradientBoostingClassifier)\n",
       "17: CLASSIF = (\"LogisticRegression\", LogisticRegression)\n",
       "18: CLASSIF = (\"KNearestNeighborClassifier\", KNearestNeighborClassifier)\n",
       "19: FSELECT = (\"VarianceThreshold\", VarianceThreshold)\n",
       "20: FSELECT = (\"SelectKBest\", SelectKBest)\n",
       "21: FSELECT = (\"SelectPercentile\", SelectPercentile)\n",
       "22: FSELECT = (\"SelectFwe\", SelectFwe)\n",
       "23: FSELECT = (\"Recursive Feature Elimination (RFE)\", RecursiveFeatureElimination)\n"
      ]
     },
     "metadata": {},
     "output_type": "display_data"
    }
   ],
   "source": [
    "sequence(a, b) = Pipeline([a, b]) \n",
    "parallel(a, b) = FeatureUnion([a, b]) \n",
    "\n",
    "g = Herb.HerbGrammar.@cfgrammar begin\n",
    "    # START   = CLASSIF | sequence(PRE, CLASSIF)\n",
    "    # PRE     = PREPROC | FSELECT | sequence(PRE, PRE) | parallel(BRANCH, BRANCH)\n",
    "    # BRANCH  = PRE | CLASSIF | sequence(PRE, CLASSIF) \n",
    "\n",
    "    \n",
    "    START   = Pipeline([CLASSIF]) | Pipeline([PRE, CLASSIF])\n",
    "    PRE     = PREPROC | FSELECT | (\"seq\", Pipeline([PRE, PRE]))  | (\"par\", FeatureUnion([PRE, PRE])) \n",
    "    # BRANCH  = PRE | CLASSIF | Pipeline([PRE, CLASSIF]) \n",
    "\n",
    "    PREPROC =   \n",
    "        (\"StandardScaler\", StandardScaler()) |\n",
    "        (\"RobustScaler\", RobustScaler()) |\n",
    "        (\"MinMaxScaler\", MinMaxScaler()) |\n",
    "        (\"MaxAbsScaler\", MaxAbsScaler()) |\n",
    "        (\"PCA\", PCA()) |\n",
    "        (\"Binarizer\", Binarizer()) |\n",
    "        (\"PolynomialFeatures\", PolynomialFeatures())\n",
    "    FSELECT =  \n",
    "        (\"VarianceThreshold\", VarianceThreshold()) |\n",
    "        (\"SelectKBest\",  SelectKBest()) |\n",
    "        (\"SelectPercentile\",  SelectPercentile()) |\n",
    "        (\"SelectFwe\",  SelectFwe()) |\n",
    "        (\"Recursive Feature Elimination\",  RFE(LinearSVC())) \n",
    "    CLASSIF =\n",
    "        (\"DecisionTree\", DecisionTreeClassifier()) |\n",
    "        (\"RandomForest\", RandomForestClassifier()) |\n",
    "        (\"Gradient Boosting Classifier\", GradientBoostingClassifier()) |\n",
    "        (\"LogisticRegression\", LogisticRegression()) |\n",
    "        (\"NearestNeighborClassifier\", NearestNeighbors())\n",
    "end"
   ]
  },
  {
   "cell_type": "code",
   "execution_count": null,
   "metadata": {},
   "outputs": [],
   "source": [
    "cfe = Herb.HerbSearch.ContextFreeEnumerator(g, 3, :START)\n",
    "for rule in cfe\n",
    "    println(Herb.HerbSearch.rulenode2expr(rule, g))\n",
    "end"
   ]
  },
  {
   "cell_type": "code",
   "execution_count": null,
   "metadata": {},
   "outputs": [],
   "source": [
    "# easy pipeline:\n",
    "Pipeline([(\"Recursive Feature Elimination\", RFE(LinearSVC())), (\"DecisionTree\", DecisionTreeClassifier())])\n",
    "\n",
    "# more complex pipeline\n",
    "Pipeline([(\"seq\", Pipeline([(\"par\", FeatureUnion([(\"PolynomialFeatures\", PolynomialFeatures()), (\"SelectFwe\", SelectFwe())])), (\"seq\", Pipeline([(\"SelectPercentile\", SelectPercentile()), (\"PolynomialFeatures\", PolynomialFeatures())]))])), (\"NearestNeighborClassifier\", NearestNeighbors())])"
   ]
  }
 ],
 "metadata": {
  "kernelspec": {
   "display_name": "Julia 1.7.3",
   "language": "julia",
   "name": "julia-1.7"
  },
  "language_info": {
   "file_extension": ".jl",
   "mimetype": "application/julia",
   "name": "julia",
   "version": "1.7.3"
  },
  "orig_nbformat": 4
 },
 "nbformat": 4,
 "nbformat_minor": 2
}
