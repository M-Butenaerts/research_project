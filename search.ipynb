{
 "cells": [
  {
   "cell_type": "code",
   "execution_count": 1,
   "metadata": {},
   "outputs": [
    {
     "data": {
      "text/plain": [
       "PyObject <class 'sklearn.svm._classes.LinearSVC'>"
      ]
     },
     "metadata": {},
     "output_type": "display_data"
    }
   ],
   "source": [
    "using ScikitLearn\n",
    "using ScikitLearn.Pipelines: Pipeline, FeatureUnion\n",
    "using XGBoost\n",
    "using Revise\n",
    "using Random\n",
    "using Statistics: mean\n",
    "include(\"helper.jl\")\n",
    "include(\"lib/Herb.jl/src/Herb.jl\")\n",
    "\n",
    "@sk_import decomposition: (PCA)\n",
    "@sk_import preprocessing: (StandardScaler, RobustScaler, MinMaxScaler, MaxAbsScaler, Binarizer, PolynomialFeatures)\n",
    "@sk_import feature_selection: (VarianceThreshold, SelectKBest, SelectPercentile, SelectFwe, RFE)\n",
    "@sk_import tree: (DecisionTreeClassifier)\n",
    "@sk_import ensemble: (RandomForestClassifier, GradientBoostingClassifier)\n",
    "@sk_import linear_model: (LogisticRegression)\n",
    "@sk_import neighbors: (NearestNeighbors)\n",
    "@sk_import svm: (LinearSVC)"
   ]
  },
  {
   "cell_type": "code",
   "execution_count": 2,
   "metadata": {},
   "outputs": [
    {
     "data": {
      "text/plain": [
       "1: START = Pipeline([CLASSIF])\n",
       "2: START = Pipeline([PRE, CLASSIF])\n",
       "3: PRE = PREPROC\n",
       "4: PRE = FSELECT\n",
       "5: PRE = (\"seq\", Pipeline([PRE, PRE]))\n",
       "6: PRE = (\"par\", FeatureUnion([PRE, PRE]))\n",
       "7: PREPROC = (\"StandardScaler\", StandardScaler())\n",
       "8: PREPROC = (\"RobustScaler\", RobustScaler())\n",
       "9: PREPROC = (\"MinMaxScaler\", MinMaxScaler())\n",
       "10: PREPROC = (\"MaxAbsScaler\", MaxAbsScaler())\n",
       "11: PREPROC = (\"PCA\", PCA())\n",
       "12: PREPROC = (\"Binarizer\", Binarizer())\n",
       "13: PREPROC = (\"PolynomialFeatures\", PolynomialFeatures())\n",
       "14: FSELECT = (\"VarianceThreshold\", VarianceThreshold())\n",
       "15: FSELECT = (\"SelectKBest\", SelectKBest())\n",
       "16: FSELECT = (\"SelectPercentile\", SelectPercentile())\n",
       "17: FSELECT = (\"SelectFwe\", SelectFwe())\n",
       "18: FSELECT = (\"Recursive Feature Elimination\", RFE(LinearSVC()))\n",
       "19: CLASSIF = (\"DecisionTree\", DecisionTreeClassifier())\n",
       "20: CLASSIF = (\"RandomForest\", RandomForestClassifier())\n",
       "21: CLASSIF = (\"Gradient Boosting Classifier\", GradientBoostingClassifier())\n",
       "22: CLASSIF = (\"LogisticRegression\", LogisticRegression())\n",
       "23: CLASSIF = (\"NearestNeighborClassifier\", NearestNeighbors())\n"
      ]
     },
     "metadata": {},
     "output_type": "display_data"
    }
   ],
   "source": [
    "sequence(a, b) = Pipeline([a, b]) \n",
    "parallel(a, b) = FeatureUnion([a, b]) \n",
    "\n",
    "g = Herb.HerbGrammar.@cfgrammar begin\n",
    "    # START   = CLASSIF | sequence(PRE, CLASSIF)\n",
    "    # PRE     = PREPROC | FSELECT | sequence(PRE, PRE) | parallel(BRANCH, BRANCH)\n",
    "    # BRANCH  = PRE | CLASSIF | sequence(PRE, CLASSIF) \n",
    "\n",
    "    START   = Pipeline([CLASSIF]) | Pipeline([PRE, CLASSIF])\n",
    "    PRE     = PREPROC | FSELECT | (\"seq\", Pipeline([PRE, PRE]))  | (\"par\", FeatureUnion([PRE, PRE])) \n",
    "    # BRANCH  = PRE | CLASSIF | Pipeline([PRE, CLASSIF]) \n",
    "\n",
    "    PREPROC =   \n",
    "        (\"StandardScaler\", StandardScaler()) |\n",
    "        (\"RobustScaler\", RobustScaler()) |\n",
    "        (\"MinMaxScaler\", MinMaxScaler()) |\n",
    "        (\"MaxAbsScaler\", MaxAbsScaler()) |\n",
    "        (\"PCA\", PCA()) |\n",
    "        (\"Binarizer\", Binarizer()) |\n",
    "        (\"PolynomialFeatures\", PolynomialFeatures())\n",
    "    FSELECT =  \n",
    "        (\"VarianceThreshold\", VarianceThreshold()) |\n",
    "        (\"SelectKBest\",  SelectKBest()) |\n",
    "        (\"SelectPercentile\",  SelectPercentile()) |\n",
    "        (\"SelectFwe\",  SelectFwe()) |\n",
    "        (\"Recursive Feature Elimination\",  RFE(LinearSVC())) \n",
    "    CLASSIF =\n",
    "        (\"DecisionTree\", DecisionTreeClassifier()) |\n",
    "        (\"RandomForest\", RandomForestClassifier()) |\n",
    "        (\"Gradient Boosting Classifier\", GradientBoostingClassifier()) |\n",
    "        (\"LogisticRegression\", LogisticRegression()) |\n",
    "        (\"NearestNeighborClassifier\", NearestNeighbors())\n",
    "end"
   ]
  },
  {
   "cell_type": "code",
   "execution_count": 3,
   "metadata": {},
   "outputs": [
    {
     "data": {
      "text/plain": [
       "get_accuracy (generic function with 1 method)"
      ]
     },
     "metadata": {},
     "output_type": "display_data"
    }
   ],
   "source": [
    "function get_accuracy(pipeline, dataset)\n",
    "\n",
    "    dataset_shuffled = dataset[shuffle(1:end), :]\n",
    "\n",
    "    # Calculate the split index\n",
    "    split_index = floor(Int, size(dataset_shuffled, 1) * 0.9)\n",
    "\n",
    "    # Split the data\n",
    "    train_df = dataset_shuffled[1:split_index, :]\n",
    "    test_df = dataset_shuffled[split_index+1:end, :]\n",
    "\n",
    "    # Get the train and test features and labels\n",
    "    train_features = train_df[:, 1:end-1]\n",
    "    train_labels = train_df[:, end]\n",
    "    test_features = test_df[:, 1:end-1]\n",
    "    test_labels = test_df[:, end]\n",
    "    try\n",
    "        # Fit the pipeline\n",
    "        ScikitLearn.fit!(pipeline, Matrix(train_features), Array(train_labels))\n",
    "\n",
    "    \n",
    "        predictions = ScikitLearn.predict(pipeline, Matrix(test_features))\n",
    "\n",
    "        accuracy = mean(predictions .== test_labels)\n",
    "\n",
    "        return accuracy\n",
    "    catch\n",
    "        return 0\n",
    "    end\n",
    "end"
   ]
  },
  {
   "cell_type": "code",
   "execution_count": 7,
   "metadata": {},
   "outputs": [
    {
     "name": "stdout",
     "output_type": "stream",
     "text": [
      "Accuracy: 0.76\n",
      "Pipeline(Tuple{Any, Any}[(\"DecisionTree\", PyObject DecisionTreeClassifier())], Any[PyObject DecisionTreeClassifier()])"
     ]
    },
    {
     "name": "stdout",
     "output_type": "stream",
     "text": [
      "\n",
      "Accuracy: 0.7866666666666666\n",
      "Pipeline(Tuple{Any, Any}[(\"Gradient Boosting Classifier\", PyObject GradientBoostingClassifier())], Any[PyObject GradientBoostingClassifier()])"
     ]
    },
    {
     "name": "stdout",
     "output_type": "stream",
     "text": [
      "\n",
      "Accuracy: 0.8266666666666667\n",
      "Pipeline(Tuple{Any, Any}[(\"StandardScaler\", PyObject StandardScaler()), (\"Gradient Boosting Classifier\", PyObject GradientBoostingClassifier())], Any[PyObject StandardScaler(), PyObject GradientBoostingClassifier()])\n"
     ]
    },
    {
     "name": "stdout",
     "output_type": "stream",
     "text": [
      "Accuracy: 0.8266666666666667\n",
      "Pipeline(Tuple{Any, Any}[(\"RobustScaler\", PyObject RobustScaler()), (\"LogisticRegression\", PyObject LogisticRegression())], Any[PyObject RobustScaler(), PyObject LogisticRegression()])"
     ]
    },
    {
     "name": "stdout",
     "output_type": "stream",
     "text": [
      "\n",
      "Accuracy: 0.8533333333333334\n",
      "Pipeline(Tuple{Any, Any}[(\"MaxAbsScaler\", PyObject MaxAbsScaler()), (\"LogisticRegression\", PyObject LogisticRegression())], Any[PyObject MaxAbsScaler(), PyObject LogisticRegression()])\n"
     ]
    },
    {
     "name": "stderr",
     "output_type": "stream",
     "text": [
      "C:\\Users\\remil\\.julia\\conda\\3\\x86_64\\lib\\site-packages\\sklearn\\svm\\_base.py:1244: ConvergenceWarning: Liblinear failed to converge, increase the number of iterations.\r\n",
      "  warnings.warn(\r\n",
      "C:\\Users\\remil\\.julia\\conda\\3\\x86_64\\lib\\site-packages\\sklearn\\svm\\_base.py:1244: ConvergenceWarning: Liblinear failed to converge, increase the number of iterations.\r\n",
      "  warnings.warn(\r\n",
      "C:\\Users\\remil\\.julia\\conda\\3\\x86_64\\lib\\site-packages\\sklearn\\svm\\_base.py:1244: ConvergenceWarning: Liblinear failed to converge, increase the number of iterations.\r\n",
      "  warnings.warn(\r\n",
      "C:\\Users\\remil\\.julia\\conda\\3\\x86_64\\lib\\site-packages\\sklearn\\svm\\_base.py:1244: ConvergenceWarning: Liblinear failed to converge, increase the number of iterations.\r\n",
      "  warnings.warn(\r\n",
      "C:\\Users\\remil\\.julia\\conda\\3\\x86_64\\lib\\site-packages\\sklearn\\svm\\_base.py:1244: ConvergenceWarning: Liblinear failed to converge, increase the number of iterations.\r\n",
      "  warnings.warn(\r\n",
      "C:\\Users\\remil\\.julia\\conda\\3\\x86_64\\lib\\site-packages\\sklearn\\svm\\_base.py:1244: ConvergenceWarning: Liblinear failed to converge, increase the number of iterations.\r\n",
      "  warnings.warn(\r\n",
      "C:\\Users\\remil\\.julia\\conda\\3\\x86_64\\lib\\site-packages\\sklearn\\svm\\_base.py:1244: ConvergenceWarning: Liblinear failed to converge, increase the number of iterations.\r\n",
      "  warnings.warn(\r\n",
      "C:\\Users\\remil\\.julia\\conda\\3\\x86_64\\lib\\site-packages\\sklearn\\svm\\_base.py:1244: ConvergenceWarning: Liblinear failed to converge, increase the number of iterations.\r\n",
      "  warnings.warn(\r\n",
      "C:\\Users\\remil\\.julia\\conda\\3\\x86_64\\lib\\site-packages\\sklearn\\svm\\_base.py:1244: ConvergenceWarning: Liblinear failed to converge, increase the number of iterations.\r\n",
      "  warnings.warn(\r\n",
      "C:\\Users\\remil\\.julia\\conda\\3\\x86_64\\lib\\site-packages\\sklearn\\svm\\_base.py:1244: ConvergenceWarning: Liblinear failed to converge, increase the number of iterations.\r\n",
      "  warnings.warn(\r\n",
      "C:\\Users\\remil\\.julia\\conda\\3\\x86_64\\lib\\site-packages\\sklearn\\svm\\_base.py:1244: ConvergenceWarning: Liblinear failed to converge, increase the number of iterations.\r\n",
      "  warnings.warn(\r\n",
      "C:\\Users\\remil\\.julia\\conda\\3\\x86_64\\lib\\site-packages\\sklearn\\svm\\_base.py:1244: ConvergenceWarning: Liblinear failed to converge, increase the number of iterations.\r\n",
      "  warnings.warn(\r\n",
      "C:\\Users\\remil\\.julia\\conda\\3\\x86_64\\lib\\site-packages\\sklearn\\svm\\_base.py:1244: ConvergenceWarning: Liblinear failed to converge, increase the number of iterations.\r\n",
      "  warnings.warn(\r\n",
      "C:\\Users\\remil\\.julia\\conda\\3\\x86_64\\lib\\site-packages\\sklearn\\svm\\_base.py:1244: ConvergenceWarning: Liblinear failed to converge, increase the number of iterations.\r\n",
      "  warnings.warn(\r\n",
      "C:\\Users\\remil\\.julia\\conda\\3\\x86_64\\lib\\site-packages\\sklearn\\svm\\_base.py:1244: ConvergenceWarning: Liblinear failed to converge, increase the number of iterations.\r\n",
      "  warnings.warn(\r\n"
     ]
    }
   ],
   "source": [
    "using ExprRules\n",
    "cfe = Herb.HerbSearch.ContextFreeEnumerator(g, 3, :START)\n",
    "\n",
    "max = -1 \n",
    "\n",
    "dataset = get_dataset(1464)\n",
    "max_pipeline = nothing\n",
    "\n",
    "for rule in cfe\n",
    "    try\n",
    "        pipeline = eval(Herb.HerbSearch.rulenode2expr(rule, g))\n",
    "\n",
    "        accuracy = get_accuracy(pipeline, dataset)\n",
    "        if accuracy >= max\n",
    "            max = accuracy\n",
    "            max_pipeline = pipeline\n",
    "            println(\"Accuracy: \", accuracy)\n",
    "            println(pipeline)\n",
    "        end\n",
    "    catch\n",
    "        continue\n",
    "    end\n",
    "    \n",
    "end"
   ]
  },
  {
   "cell_type": "code",
   "execution_count": 9,
   "metadata": {},
   "outputs": [
    {
     "data": {
      "text/plain": [
       "(0.8533333333333334, Pipeline(Tuple{Any, Any}[(\"MaxAbsScaler\", PyObject MaxAbsScaler()), (\"LogisticRegression\", PyObject LogisticRegression())], Any[PyObject MaxAbsScaler(), PyObject LogisticRegression()]))"
      ]
     },
     "metadata": {},
     "output_type": "display_data"
    }
   ],
   "source": [
    "max, max_pipeline"
   ]
  }
 ],
 "metadata": {
  "kernelspec": {
   "display_name": "Julia 1.8.5",
   "language": "julia",
   "name": "julia-1.8"
  },
  "language_info": {
   "file_extension": ".jl",
   "mimetype": "application/julia",
   "name": "julia",
   "version": "1.8.5"
  },
  "orig_nbformat": 4
 },
 "nbformat": 4,
 "nbformat_minor": 2
}
