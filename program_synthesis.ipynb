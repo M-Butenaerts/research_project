{
 "cells": [
  {
   "attachments": {},
   "cell_type": "markdown",
   "metadata": {},
   "source": [
    "# Full notebook\n",
    "This notebook has the whole process put together:\n",
    "1. Loading dataset\n",
    "2. Defining grammar\n",
    "3. Searching through the grammar and evaluating candidate pipelines"
   ]
  },
  {
   "attachments": {},
   "cell_type": "markdown",
   "metadata": {},
   "source": [
    "## 0. Imports"
   ]
  },
  {
   "cell_type": "code",
   "execution_count": 54,
   "metadata": {},
   "outputs": [],
   "source": [
    "# uncomment the following if not all packages are added.\n",
    "\n",
    "# import Pkg\n",
    "# using Pkg\n",
    "# Pkg.add(\"HTTP\")\n",
    "# Pkg.add(\"JSON\")\n",
    "# Pkg.add(\"DataFrames\")\n",
    "# Pkg.add(\"OpenML\")\n",
    "# Pkg.add(\"DataFrames\") \n",
    "# Pkg.add(\"CSV\") \n",
    "# Pkg.add(\"Suppressor\")"
   ]
  },
  {
   "cell_type": "code",
   "execution_count": 55,
   "metadata": {},
   "outputs": [
    {
     "name": "stderr",
     "output_type": "stream",
     "text": [
      "WARNING: replacing module Herb.\n"
     ]
    },
    {
     "data": {
      "text/plain": [
       "get_class_type_dataset (generic function with 1 method)"
      ]
     },
     "metadata": {},
     "output_type": "display_data"
    }
   ],
   "source": [
    "using ScikitLearn\n",
    "using ScikitLearn.Pipelines: Pipeline, FeatureUnion\n",
    "using ScikitLearn.CrossValidation: cross_val_score\n",
    "using XGBoost\n",
    "using Revise\n",
    "using Random\n",
    "using Statistics: mean\n",
    "using ExprRules: get_executable\n",
    "using Suppressor\n",
    "\n",
    "include(\"../Herb.jl/src/Herb.jl\")\n",
    "include(\"helper.jl\")"
   ]
  },
  {
   "cell_type": "code",
   "execution_count": 56,
   "metadata": {},
   "outputs": [
    {
     "name": "stderr",
     "output_type": "stream",
     "text": [
      "WARNING: redefinition of constant PCA. This may fail, cause incorrect answers, or produce other errors.\n",
      "WARNING: redefinition of constant StandardScaler. This may fail, cause incorrect answers, or produce other errors.\n",
      "WARNING: redefinition of constant RobustScaler. This may fail, cause incorrect answers, or produce other errors.\n",
      "WARNING: redefinition of constant MinMaxScaler. This may fail, cause incorrect answers, or produce other errors.\n",
      "WARNING: redefinition of constant MaxAbsScaler. This may fail, cause incorrect answers, or produce other errors.\n",
      "WARNING: redefinition of constant Binarizer. This may fail, cause incorrect answers, or produce other errors.\n",
      "WARNING: redefinition of constant PolynomialFeatures. This may fail, cause incorrect answers, or produce other errors.\n",
      "WARNING: redefinition of constant VarianceThreshold. This may fail, cause incorrect answers, or produce other errors.\n",
      "WARNING: redefinition of constant SelectKBest. This may fail, cause incorrect answers, or produce other errors.\n",
      "WARNING: redefinition of constant SelectPercentile. This may fail, cause incorrect answers, or produce other errors.\n",
      "WARNING: redefinition of constant SelectFwe. This may fail, cause incorrect answers, or produce other errors.\n",
      "WARNING: redefinition of constant RFE. This may fail, cause incorrect answers, or produce other errors.\n",
      "WARNING: redefinition of constant DecisionTreeClassifier. This may fail, cause incorrect answers, or produce other errors.\n",
      "WARNING: redefinition of constant RandomForestClassifier. This may fail, cause incorrect answers, or produce other errors.\n",
      "WARNING: redefinition of constant GradientBoostingClassifier. This may fail, cause incorrect answers, or produce other errors.\n",
      "WARNING: redefinition of constant LogisticRegression. This may fail, cause incorrect answers, or produce other errors.\n",
      "WARNING: redefinition of constant NearestNeighbors. This may fail, cause incorrect answers, or produce other errors.\n",
      "WARNING: redefinition of constant LinearSVC. This may fail, cause incorrect answers, or produce other errors.\n"
     ]
    },
    {
     "data": {
      "text/plain": [
       "PyObject <class 'sklearn.svm._classes.LinearSVC'>"
      ]
     },
     "metadata": {},
     "output_type": "display_data"
    }
   ],
   "source": [
    "# import the sk-learn functions\n",
    "@sk_import decomposition: (PCA)\n",
    "@sk_import preprocessing: (StandardScaler, RobustScaler, MinMaxScaler, MaxAbsScaler, Binarizer, PolynomialFeatures)\n",
    "@sk_import feature_selection: (VarianceThreshold, SelectKBest, SelectPercentile, SelectFwe, RFE)\n",
    "@sk_import tree: (DecisionTreeClassifier)\n",
    "@sk_import ensemble: (RandomForestClassifier, GradientBoostingClassifier)\n",
    "@sk_import linear_model: (LogisticRegression)\n",
    "@sk_import neighbors: (NearestNeighbors)\n",
    "@sk_import svm: (LinearSVC)"
   ]
  },
  {
   "attachments": {},
   "cell_type": "markdown",
   "metadata": {},
   "source": [
    "## 1. Loading datasets"
   ]
  },
  {
   "cell_type": "code",
   "execution_count": 57,
   "metadata": {},
   "outputs": [
    {
     "data": {
      "text/html": [
       "<div><div style = \"float: left;\"><span>5×8 DataFrame</span></div><div style = \"clear: both;\"></div></div><div class = \"data-frame\" style = \"overflow-x: scroll;\"><table class = \"data-frame\" style = \"margin-bottom: 6px;\"><thead><tr class = \"header\"><th class = \"rowNumber\" style = \"font-weight: bold; text-align: right;\">Row</th><th style = \"text-align: left;\">V1</th><th style = \"text-align: left;\">V2</th><th style = \"text-align: left;\">V3</th><th style = \"text-align: left;\">V4</th><th style = \"text-align: left;\">V5</th><th style = \"text-align: left;\">V6</th><th style = \"text-align: left;\">V7</th><th style = \"text-align: left;\">Class</th></tr><tr class = \"subheader headerLastRow\"><th class = \"rowNumber\" style = \"font-weight: bold; text-align: right;\"></th><th title = \"Float64\" style = \"text-align: left;\">Float64</th><th title = \"Float64\" style = \"text-align: left;\">Float64</th><th title = \"Float64\" style = \"text-align: left;\">Float64</th><th title = \"Float64\" style = \"text-align: left;\">Float64</th><th title = \"Float64\" style = \"text-align: left;\">Float64</th><th title = \"Float64\" style = \"text-align: left;\">Float64</th><th title = \"Float64\" style = \"text-align: left;\">Float64</th><th title = \"CategoricalArrays.CategoricalValue{String, UInt32}\" style = \"text-align: left;\">Cat…</th></tr></thead><tbody><tr><td class = \"rowNumber\" style = \"font-weight: bold; text-align: right;\">1</td><td style = \"text-align: right;\">19.11</td><td style = \"text-align: right;\">16.26</td><td style = \"text-align: right;\">0.9081</td><td style = \"text-align: right;\">6.154</td><td style = \"text-align: right;\">3.93</td><td style = \"text-align: right;\">2.936</td><td style = \"text-align: right;\">6.079</td><td style = \"text-align: left;\">2</td></tr><tr><td class = \"rowNumber\" style = \"font-weight: bold; text-align: right;\">2</td><td style = \"text-align: right;\">11.27</td><td style = \"text-align: right;\">12.97</td><td style = \"text-align: right;\">0.8419</td><td style = \"text-align: right;\">5.088</td><td style = \"text-align: right;\">2.763</td><td style = \"text-align: right;\">4.309</td><td style = \"text-align: right;\">5.0</td><td style = \"text-align: left;\">3</td></tr><tr><td class = \"rowNumber\" style = \"font-weight: bold; text-align: right;\">3</td><td style = \"text-align: right;\">12.13</td><td style = \"text-align: right;\">13.73</td><td style = \"text-align: right;\">0.8081</td><td style = \"text-align: right;\">5.394</td><td style = \"text-align: right;\">2.745</td><td style = \"text-align: right;\">4.825</td><td style = \"text-align: right;\">5.22</td><td style = \"text-align: left;\">3</td></tr><tr><td class = \"rowNumber\" style = \"font-weight: bold; text-align: right;\">4</td><td style = \"text-align: right;\">13.89</td><td style = \"text-align: right;\">14.02</td><td style = \"text-align: right;\">0.888</td><td style = \"text-align: right;\">5.439</td><td style = \"text-align: right;\">3.199</td><td style = \"text-align: right;\">3.986</td><td style = \"text-align: right;\">4.738</td><td style = \"text-align: left;\">1</td></tr><tr><td class = \"rowNumber\" style = \"font-weight: bold; text-align: right;\">5</td><td style = \"text-align: right;\">10.91</td><td style = \"text-align: right;\">12.8</td><td style = \"text-align: right;\">0.8372</td><td style = \"text-align: right;\">5.088</td><td style = \"text-align: right;\">2.675</td><td style = \"text-align: right;\">4.179</td><td style = \"text-align: right;\">4.956</td><td style = \"text-align: left;\">3</td></tr></tbody></table></div>"
      ],
      "text/latex": [
       "\\begin{tabular}{r|cccccccc}\n",
       "\t& V1 & V2 & V3 & V4 & V5 & V6 & V7 & Class\\\\\n",
       "\t\\hline\n",
       "\t& Float64 & Float64 & Float64 & Float64 & Float64 & Float64 & Float64 & Cat…\\\\\n",
       "\t\\hline\n",
       "\t1 & 19.11 & 16.26 & 0.9081 & 6.154 & 3.93 & 2.936 & 6.079 & 2 \\\\\n",
       "\t2 & 11.27 & 12.97 & 0.8419 & 5.088 & 2.763 & 4.309 & 5.0 & 3 \\\\\n",
       "\t3 & 12.13 & 13.73 & 0.8081 & 5.394 & 2.745 & 4.825 & 5.22 & 3 \\\\\n",
       "\t4 & 13.89 & 14.02 & 0.888 & 5.439 & 3.199 & 3.986 & 4.738 & 1 \\\\\n",
       "\t5 & 10.91 & 12.8 & 0.8372 & 5.088 & 2.675 & 4.179 & 4.956 & 3 \\\\\n",
       "\\end{tabular}\n"
      ],
      "text/plain": [
       "\u001b[1m5×8 DataFrame\u001b[0m\n",
       "\u001b[1m Row \u001b[0m│\u001b[1m V1      \u001b[0m\u001b[1m V2      \u001b[0m\u001b[1m V3      \u001b[0m\u001b[1m V4      \u001b[0m\u001b[1m V5      \u001b[0m\u001b[1m V6      \u001b[0m\u001b[1m V7      \u001b[0m\u001b[1m Class \u001b[0m\n",
       "     │\u001b[90m Float64 \u001b[0m\u001b[90m Float64 \u001b[0m\u001b[90m Float64 \u001b[0m\u001b[90m Float64 \u001b[0m\u001b[90m Float64 \u001b[0m\u001b[90m Float64 \u001b[0m\u001b[90m Float64 \u001b[0m\u001b[90m Cat…  \u001b[0m\n",
       "─────┼──────────────────────────────────────────────────────────────────────\n",
       "   1 │   19.11    16.26   0.9081    6.154    3.93     2.936    6.079  2\n",
       "   2 │   11.27    12.97   0.8419    5.088    2.763    4.309    5.0    3\n",
       "   3 │   12.13    13.73   0.8081    5.394    2.745    4.825    5.22   3\n",
       "   4 │   13.89    14.02   0.888     5.439    3.199    3.986    4.738  1\n",
       "   5 │   10.91    12.8    0.8372    5.088    2.675    4.179    4.956  3"
      ]
     },
     "metadata": {},
     "output_type": "display_data"
    }
   ],
   "source": [
    "# load dataset\n",
    "dataset = get_dataset(1499)\n",
    "\n",
    "# it does not work for the seeds table dataset!\n",
    "# dataset = get_dataset(1499)\n",
    "\n",
    "# does not work either on dataset 1464!\n",
    "\n",
    "# shuffle the dataset\n",
    "dataset_shuffled = dataset[shuffle(1:end), :]\n",
    "\n",
    "# split into train and test sets (90:10)\n",
    "split_index = floor(Int, size(dataset_shuffled, 1) * 0.9)\n",
    "train_df = dataset_shuffled[1:split_index, :]\n",
    "test_df = dataset_shuffled[split_index+1:end, :]\n",
    "\n",
    "# show first five entries\n",
    "first(dataset_shuffled, 5)"
   ]
  },
  {
   "cell_type": "code",
   "execution_count": 58,
   "metadata": {},
   "outputs": [
    {
     "name": "stdout",
     "output_type": "stream",
     "text": [
      "size: (210, 8)"
     ]
    },
    {
     "data": {
      "text/html": [
       "<div><div style = \"float: left;\"><span>8×7 DataFrame</span></div><div style = \"clear: both;\"></div></div><div class = \"data-frame\" style = \"overflow-x: scroll;\"><table class = \"data-frame\" style = \"margin-bottom: 6px;\"><thead><tr class = \"header\"><th class = \"rowNumber\" style = \"font-weight: bold; text-align: right;\">Row</th><th style = \"text-align: left;\">variable</th><th style = \"text-align: left;\">mean</th><th style = \"text-align: left;\">min</th><th style = \"text-align: left;\">median</th><th style = \"text-align: left;\">max</th><th style = \"text-align: left;\">nmissing</th><th style = \"text-align: left;\">eltype</th></tr><tr class = \"subheader headerLastRow\"><th class = \"rowNumber\" style = \"font-weight: bold; text-align: right;\"></th><th title = \"Symbol\" style = \"text-align: left;\">Symbol</th><th title = \"Union{Nothing, Float64}\" style = \"text-align: left;\">Union…</th><th title = \"Any\" style = \"text-align: left;\">Any</th><th title = \"Union{Nothing, Float64}\" style = \"text-align: left;\">Union…</th><th title = \"Any\" style = \"text-align: left;\">Any</th><th title = \"Int64\" style = \"text-align: left;\">Int64</th><th title = \"DataType\" style = \"text-align: left;\">DataType</th></tr></thead><tbody><tr><td class = \"rowNumber\" style = \"font-weight: bold; text-align: right;\">1</td><td style = \"text-align: left;\">V1</td><td style = \"text-align: left;\">14.8475</td><td style = \"text-align: left;\">10.59</td><td style = \"text-align: left;\">14.355</td><td style = \"text-align: left;\">21.18</td><td style = \"text-align: right;\">0</td><td style = \"text-align: left;\">Float64</td></tr><tr><td class = \"rowNumber\" style = \"font-weight: bold; text-align: right;\">2</td><td style = \"text-align: left;\">V2</td><td style = \"text-align: left;\">14.5593</td><td style = \"text-align: left;\">12.41</td><td style = \"text-align: left;\">14.32</td><td style = \"text-align: left;\">17.25</td><td style = \"text-align: right;\">0</td><td style = \"text-align: left;\">Float64</td></tr><tr><td class = \"rowNumber\" style = \"font-weight: bold; text-align: right;\">3</td><td style = \"text-align: left;\">V3</td><td style = \"text-align: left;\">0.870999</td><td style = \"text-align: left;\">0.8081</td><td style = \"text-align: left;\">0.87345</td><td style = \"text-align: left;\">0.9183</td><td style = \"text-align: right;\">0</td><td style = \"text-align: left;\">Float64</td></tr><tr><td class = \"rowNumber\" style = \"font-weight: bold; text-align: right;\">4</td><td style = \"text-align: left;\">V4</td><td style = \"text-align: left;\">5.62853</td><td style = \"text-align: left;\">4.899</td><td style = \"text-align: left;\">5.5235</td><td style = \"text-align: left;\">6.675</td><td style = \"text-align: right;\">0</td><td style = \"text-align: left;\">Float64</td></tr><tr><td class = \"rowNumber\" style = \"font-weight: bold; text-align: right;\">5</td><td style = \"text-align: left;\">V5</td><td style = \"text-align: left;\">3.2586</td><td style = \"text-align: left;\">2.63</td><td style = \"text-align: left;\">3.237</td><td style = \"text-align: left;\">4.033</td><td style = \"text-align: right;\">0</td><td style = \"text-align: left;\">Float64</td></tr><tr><td class = \"rowNumber\" style = \"font-weight: bold; text-align: right;\">6</td><td style = \"text-align: left;\">V6</td><td style = \"text-align: left;\">3.7002</td><td style = \"text-align: left;\">0.7651</td><td style = \"text-align: left;\">3.599</td><td style = \"text-align: left;\">8.456</td><td style = \"text-align: right;\">0</td><td style = \"text-align: left;\">Float64</td></tr><tr><td class = \"rowNumber\" style = \"font-weight: bold; text-align: right;\">7</td><td style = \"text-align: left;\">V7</td><td style = \"text-align: left;\">5.40807</td><td style = \"text-align: left;\">4.519</td><td style = \"text-align: left;\">5.223</td><td style = \"text-align: left;\">6.55</td><td style = \"text-align: right;\">0</td><td style = \"text-align: left;\">Float64</td></tr><tr><td class = \"rowNumber\" style = \"font-weight: bold; text-align: right;\">8</td><td style = \"text-align: left;\">Class</td><td style = \"font-style: italic; text-align: left;\"></td><td style = \"text-align: left;\">1</td><td style = \"font-style: italic; text-align: left;\"></td><td style = \"text-align: left;\">3</td><td style = \"text-align: right;\">0</td><td style = \"text-align: left;\">CategoricalValue{String, UInt32}</td></tr></tbody></table></div>"
      ],
      "text/latex": [
       "\\begin{tabular}{r|ccccccc}\n",
       "\t& variable & mean & min & median & max & nmissing & eltype\\\\\n",
       "\t\\hline\n",
       "\t& Symbol & Union… & Any & Union… & Any & Int64 & DataType\\\\\n",
       "\t\\hline\n",
       "\t1 & V1 & 14.8475 & 10.59 & 14.355 & 21.18 & 0 & Float64 \\\\\n",
       "\t2 & V2 & 14.5593 & 12.41 & 14.32 & 17.25 & 0 & Float64 \\\\\n",
       "\t3 & V3 & 0.870999 & 0.8081 & 0.87345 & 0.9183 & 0 & Float64 \\\\\n",
       "\t4 & V4 & 5.62853 & 4.899 & 5.5235 & 6.675 & 0 & Float64 \\\\\n",
       "\t5 & V5 & 3.2586 & 2.63 & 3.237 & 4.033 & 0 & Float64 \\\\\n",
       "\t6 & V6 & 3.7002 & 0.7651 & 3.599 & 8.456 & 0 & Float64 \\\\\n",
       "\t7 & V7 & 5.40807 & 4.519 & 5.223 & 6.55 & 0 & Float64 \\\\\n",
       "\t8 & Class &  & 1 &  & 3 & 0 & CategoricalValue\\{String, UInt32\\} \\\\\n",
       "\\end{tabular}\n"
      ],
      "text/plain": [
       "\u001b[1m8×7 DataFrame\u001b[0m\n",
       "\u001b[1m Row \u001b[0m│\u001b[1m variable \u001b[0m\u001b[1m mean     \u001b[0m\u001b[1m min    \u001b[0m\u001b[1m median  \u001b[0m\u001b[1m max    \u001b[0m\u001b[1m nmissing \u001b[0m\u001b[1m eltype          \u001b[0m ⋯\n",
       "     │\u001b[90m Symbol   \u001b[0m\u001b[90m Union…   \u001b[0m\u001b[90m Any    \u001b[0m\u001b[90m Union…  \u001b[0m\u001b[90m Any    \u001b[0m\u001b[90m Int64    \u001b[0m\u001b[90m DataType        \u001b[0m ⋯\n",
       "─────┼──────────────────────────────────────────────────────────────────────────\n",
       "   1 │ V1        14.8475   10.59   14.355   21.18          0  Float64          ⋯\n",
       "   2 │ V2        14.5593   12.41   14.32    17.25          0  Float64\n",
       "   3 │ V3        0.870999  0.8081  0.87345  0.9183         0  Float64\n",
       "   4 │ V4        5.62853   4.899   5.5235   6.675          0  Float64\n",
       "   5 │ V5        3.2586    2.63    3.237    4.033          0  Float64          ⋯\n",
       "   6 │ V6        3.7002    0.7651  3.599    8.456          0  Float64\n",
       "   7 │ V7        5.40807   4.519   5.223    6.55           0  Float64\n",
       "   8 │ Class    \u001b[90m          \u001b[0m 1      \u001b[90m         \u001b[0m 3              0  CategoricalValue\n",
       "\u001b[36m                                                                1 column omitted\u001b[0m"
      ]
     },
     "metadata": {},
     "output_type": "display_data"
    }
   ],
   "source": [
    "# show metadata\n",
    "print(\"size: \", size(dataset_shuffled))\n",
    "describe(dataset_shuffled)"
   ]
  },
  {
   "cell_type": "code",
   "execution_count": 59,
   "metadata": {},
   "outputs": [
    {
     "name": "stdout",
     "output_type": "stream",
     "text": [
      "train:test ratio = 9:1"
     ]
    }
   ],
   "source": [
    "# split into features and labels\n",
    "train_X = train_df[:, 1:end-1]\n",
    "train_Y = train_df[:, end]\n",
    "test_X = test_df[:, 1:end-1]\n",
    "test_Y = test_df[:, end]\n",
    "\n",
    "# print ratio train/test\n",
    "ratio = trunc(Int, 10.0 * (size(train_df)[1] / (size(train_df)[1] + size(test_df)[1])))\n",
    "print(\"train:test ratio = \", ratio , \":\", (10-ratio))"
   ]
  },
  {
   "attachments": {},
   "cell_type": "markdown",
   "metadata": {},
   "source": [
    "## 2. Defining grammar"
   ]
  },
  {
   "cell_type": "code",
   "execution_count": 60,
   "metadata": {},
   "outputs": [],
   "source": [
    "grammar = Herb.HerbGrammar.@cfgrammar begin\n",
    "\n",
    "    # this is the version with multiple classifiers possible\n",
    "    # START   = CLASSIF | sequence(PRE, CLASSIF)\n",
    "    # PRE     = PREPROC | FSELECT | sequence(PRE, PRE) | parallel(BRANCH, BRANCH)\n",
    "    # BRANCH  = PRE | CLASSIF | sequence(PRE, CLASSIF) \n",
    "\n",
    "    # this is the version with only one classifier\n",
    "    START   = Pipeline([CLASSIF]) | Pipeline([PRE, CLASSIF])\n",
    "    PRE     = PREPROC | FSELECT | (\"seq\", Pipeline([PRE, PRE]))  | (\"par\", FeatureUnion([PRE, PRE])) \n",
    "\n",
    "    # preprocessing functions\n",
    "    PREPROC =   \n",
    "        (\"StandardScaler\", StandardScaler()) |\n",
    "        (\"RobustScaler\", RobustScaler()) |\n",
    "        (\"MinMaxScaler\", MinMaxScaler()) |\n",
    "        (\"MaxAbsScaler\", MaxAbsScaler()) |\n",
    "        (\"PCA\", PCA()) |\n",
    "        (\"Binarizer\", Binarizer()) |\n",
    "        (\"PolynomialFeatures\", PolynomialFeatures())\n",
    "\n",
    "    # feature selection functions\n",
    "    FSELECT =  \n",
    "        (\"VarianceThreshold\", VarianceThreshold()) |\n",
    "        (\"SelectKBest\",  SelectKBest()) |\n",
    "        (\"SelectPercentile\",  SelectPercentile()) |\n",
    "        (\"SelectFwe\",  SelectFwe()) |\n",
    "        (\"Recursive Feature Elimination\",  RFE(LinearSVC())) \n",
    "\n",
    "    # classifiers\n",
    "    CLASSIF =\n",
    "        (\"DecisionTree\", DecisionTreeClassifier()) |\n",
    "        (\"RandomForest\", RandomForestClassifier()) |\n",
    "        (\"Gradient Boosting Classifier\", GradientBoostingClassifier()) |\n",
    "        (\"LogisticRegression\", LogisticRegression()) #|\n",
    "        # (\"NearestNeighborClassifier\", NearestNeighbors())\n",
    "end\n",
    ";"
   ]
  },
  {
   "cell_type": "code",
   "execution_count": 61,
   "metadata": {},
   "outputs": [
    {
     "name": "stdout",
     "output_type": "stream",
     "text": [
      "Pipeline([(\"DecisionTree\", DecisionTreeClassifier())])\n",
      "Pipeline([(\"RandomForest\", RandomForestClassifier())])\n",
      "Pipeline([(\"Gradient Boosting Classifier\", GradientBoostingClassifier())])\n",
      "Pipeline([(\"LogisticRegression\", LogisticRegression())])\n"
     ]
    }
   ],
   "source": [
    "# print out all pipelines that can be assembled in two steps\n",
    "cfe_print = Herb.HerbSearch.ContextFreeEnumerator(grammar, 2, :START)\n",
    "for rule in cfe_print\n",
    "    println(Herb.HerbSearch.rulenode2expr(rule, grammar))\n",
    "end"
   ]
  },
  {
   "attachments": {},
   "cell_type": "markdown",
   "metadata": {},
   "source": [
    "## 3. Search"
   ]
  },
  {
   "cell_type": "code",
   "execution_count": 62,
   "metadata": {},
   "outputs": [
    {
     "data": {
      "text/plain": [
       "evaluate_pipeline"
      ]
     },
     "metadata": {},
     "output_type": "display_data"
    }
   ],
   "source": [
    "\"\"\"\n",
    "Fits the pipeline to the training set and measures the accuracy on test set.\n",
    "input:  pipeline, train_X, train_Y, test_X, test_Y\n",
    "output: accuracy of pipeline\n",
    "\"\"\"\n",
    "function evaluate_pipeline(pipeline, train_X, train_Y, test_X, test_Y)\n",
    "\n",
    "    # # this gives the following warning often, so it is suppressed for now.\n",
    "    # # ConvergenceWarning: lbfgs failed to converge\n",
    "    # @suppress_err begin\n",
    "        \n",
    "    # fit the pipeline\n",
    "    model = ScikitLearn.fit!(pipeline, Matrix(train_X), Array(train_Y))\n",
    "\n",
    "    # make predictions\n",
    "    predictions = ScikitLearn.predict(model, Matrix(test_X))\n",
    "\n",
    "    # measure the accuracy\n",
    "    accuracy = mean(predictions .== test_Y)\n",
    "end"
   ]
  },
  {
   "cell_type": "code",
   "execution_count": 63,
   "metadata": {},
   "outputs": [
    {
     "data": {
      "text/plain": [
       "find_best_pipeline_with_bfs_search"
      ]
     },
     "metadata": {},
     "output_type": "display_data"
    }
   ],
   "source": [
    "\"\"\"This function enumerates the grammar and finds the best pipeline. \"\"\"\n",
    "function find_best_pipeline_with_bfs_search(pipeline, train_X, train_Y, test_X, test_Y, search_depth)\n",
    "    best_accuracy = 0.0\n",
    "    best_pipeline = nothing\n",
    "\n",
    "    enumerator = Herb.HerbSearch.ContextFreeEnumerator(grammar, search_depth, :START)\n",
    "    for rule in enumerator\n",
    "        try\n",
    "            # get pipeline and calculate accuracy\n",
    "            pipeline = eval(Herb.HerbSearch.rulenode2expr(rule, grammar))\n",
    "            accuracy = evaluate_pipeline(pipeline, train_X, train_Y, test_X, test_Y)\n",
    "\n",
    "            # update best pipeline\n",
    "            if (accuracy > best_accuracy) \n",
    "                best_accuracy = accuracy\n",
    "                best_pipeline = pipeline\n",
    "            end\n",
    "            \n",
    "            # print accuracy of pipeline\n",
    "            print(\"\\n accuracy: \", round(accuracy, digits=2), \" by \", string(pipeline))\n",
    "        catch\n",
    "            continue\n",
    "        end\n",
    "    end\n",
    "    return (best_accuracy, best_pipeline)\n",
    "end"
   ]
  },
  {
   "cell_type": "code",
   "execution_count": 64,
   "metadata": {},
   "outputs": [
    {
     "name": "stdout",
     "output_type": "stream",
     "text": [
      "\n",
      " accuracy: 0.86 by Pipeline(Tuple{Any, Any}[(\"DecisionTree\", PyObject DecisionTreeClassifier())], Any[PyObject DecisionTreeClassifier()])"
     ]
    },
    {
     "name": "stdout",
     "output_type": "stream",
     "text": [
      "\n",
      " accuracy: 0.95 by "
     ]
    },
    {
     "name": "stdout",
     "output_type": "stream",
     "text": [
      "Pipeline(Tuple{Any, Any}[(\"RandomForest\", PyObject RandomForestClassifier())], Any[PyObject RandomForestClassifier()])\n",
      " accuracy: 0.95 by Pipeline(Tuple{Any, Any}[(\"Gradient Boosting Classifier\", PyObject GradientBoostingClassifier())], Any[PyObject GradientBoostingClassifier()])\n",
      " accuracy: 0.9 by Pipeline(Tuple{Any, Any}[(\"LogisticRegression\", PyObject LogisticRegression())], Any[PyObject LogisticRegression()])\n",
      "\n",
      "Best pipeline: 0.95\n",
      "Pipeline(Tuple{Any, Any}[(\"RandomForest\", PyObject RandomForestClassifier())], Any[PyObject RandomForestClassifier()])"
     ]
    },
    {
     "name": "stderr",
     "output_type": "stream",
     "text": [
      "C:\\Users\\denys\\.julia\\conda\\3\\x86_64\\lib\\site-packages\\sklearn\\linear_model\\_logistic.py:458: ConvergenceWarning: lbfgs failed to converge (status=1):\r\n",
      "STOP: TOTAL NO. of ITERATIONS REACHED LIMIT.\r\n",
      "\r\n",
      "Increase the number of iterations (max_iter) or scale the data as shown in:\r\n",
      "    https://scikit-learn.org/stable/modules/preprocessing.html\r\n",
      "Please also refer to the documentation for alternative solver options:\r\n",
      "    https://scikit-learn.org/stable/modules/linear_model.html#logistic-regression\r\n",
      "  n_iter_i = _check_optimize_result(\r\n"
     ]
    }
   ],
   "source": [
    "# find the best pipeline and accuracy with depth 2\n",
    "(best_accuracy, best_pipeline) = find_best_pipeline_with_bfs_search(pipeline, train_X, train_Y, test_X, test_Y, 2)\n",
    "println(\"\\n\\nBest pipeline: \", round(best_accuracy, digits=2))\n",
    "print(best_pipeline)"
   ]
  }
 ],
 "metadata": {
  "kernelspec": {
   "display_name": "Julia 1.7.3",
   "language": "julia",
   "name": "julia-1.7"
  },
  "language_info": {
   "file_extension": ".jl",
   "mimetype": "application/julia",
   "name": "julia",
   "version": "1.7.3"
  },
  "orig_nbformat": 4
 },
 "nbformat": 4,
 "nbformat_minor": 2
}
