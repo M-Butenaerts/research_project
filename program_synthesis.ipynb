{
 "cells": [
  {
   "attachments": {},
   "cell_type": "markdown",
   "metadata": {},
   "source": [
    "# Full notebook\n",
    "This notebook has the whole process put together:\n",
    "1. Loading dataset\n",
    "2. Defining grammar\n",
    "3. Searching through the grammar and evaluating candidate pipelines"
   ]
  },
  {
   "attachments": {},
   "cell_type": "markdown",
   "metadata": {},
   "source": [
    "## 0. Imports"
   ]
  },
  {
   "cell_type": "code",
   "execution_count": 6,
   "metadata": {},
   "outputs": [],
   "source": [
    "# uncomment the following if not all packages are added.\n",
    "\n",
    "# import Pkg\n",
    "# using Pkg\n",
    "# Pkg.add(\"HTTP\")\n",
    "# Pkg.add(\"JSON\")\n",
    "# Pkg.add(\"DataFrames\")\n",
    "# Pkg.add(\"OpenML\")\n",
    "# Pkg.add(\"DataFrames\") \n",
    "# Pkg.add(\"CSV\") \n",
    "# Pkg.add(\"Suppressor\")\n",
    "# Pkg.add(\"StatsBase\")"
   ]
  },
  {
   "cell_type": "code",
   "execution_count": 7,
   "metadata": {},
   "outputs": [
    {
     "data": {
      "text/plain": [
       "get_class_type_dataset (generic function with 1 method)"
      ]
     },
     "metadata": {},
     "output_type": "display_data"
    }
   ],
   "source": [
    "using ScikitLearn\n",
    "using ScikitLearn.Pipelines: Pipeline, FeatureUnion\n",
    "using ScikitLearn.CrossValidation: cross_val_score\n",
    "using XGBoost\n",
    "using Revise\n",
    "using Random\n",
    "using Statistics: mean\n",
    "using ExprRules: get_executable\n",
    "using Suppressor\n",
    "\n",
    "include(\"./Herb.jl/src/Herb.jl\")\n",
    "include(\"./Herb.jl/HerbGrammar.jl/src/HerbGrammar.jl\")\n",
    "include(\"./Herb.jl/HerbData.jl/src/HerbData.jl\")\n",
    "include(\"./Herb.jl/HerbEvaluation.jl/src/HerbEvaluation.jl\")\n",
    "include(\"./Herb.jl/HerbConstraints.jl/src/HerbConstraints.jl\")\n",
    "include(\"./Herb.jl/HerbSearch.jl/src/HerbSearch.jl\")\n",
    "include(\"helper.jl\")"
   ]
  },
  {
   "cell_type": "code",
   "execution_count": 8,
   "metadata": {},
   "outputs": [
    {
     "data": {
      "text/plain": [
       "PyObject <class 'sklearn.svm._classes.LinearSVC'>"
      ]
     },
     "metadata": {},
     "output_type": "display_data"
    }
   ],
   "source": [
    "# import the sk-learn functions\n",
    "@sk_import decomposition: (PCA)\n",
    "@sk_import preprocessing: (StandardScaler, RobustScaler, MinMaxScaler, MaxAbsScaler, Binarizer, PolynomialFeatures)\n",
    "@sk_import feature_selection: (VarianceThreshold, SelectKBest, SelectPercentile, SelectFwe, RFE)\n",
    "@sk_import tree: (DecisionTreeClassifier)\n",
    "@sk_import ensemble: (RandomForestClassifier, GradientBoostingClassifier)\n",
    "@sk_import linear_model: (LogisticRegression)\n",
    "@sk_import neighbors: (NearestNeighbors)\n",
    "@sk_import svm: (LinearSVC)"
   ]
  },
  {
   "attachments": {},
   "cell_type": "markdown",
   "metadata": {},
   "source": [
    "## 1. Loading datasets"
   ]
  },
  {
   "cell_type": "code",
   "execution_count": 9,
   "metadata": {},
   "outputs": [
    {
     "data": {
      "text/html": [
       "<div><div style = \"float: left;\"><span>5×8 DataFrame</span></div><div style = \"clear: both;\"></div></div><div class = \"data-frame\" style = \"overflow-x: scroll;\"><table class = \"data-frame\" style = \"margin-bottom: 6px;\"><thead><tr class = \"header\"><th class = \"rowNumber\" style = \"font-weight: bold; text-align: right;\">Row</th><th style = \"text-align: left;\">V1</th><th style = \"text-align: left;\">V2</th><th style = \"text-align: left;\">V3</th><th style = \"text-align: left;\">V4</th><th style = \"text-align: left;\">V5</th><th style = \"text-align: left;\">V6</th><th style = \"text-align: left;\">V7</th><th style = \"text-align: left;\">Class</th></tr><tr class = \"subheader headerLastRow\"><th class = \"rowNumber\" style = \"font-weight: bold; text-align: right;\"></th><th title = \"Float64\" style = \"text-align: left;\">Float64</th><th title = \"Float64\" style = \"text-align: left;\">Float64</th><th title = \"Float64\" style = \"text-align: left;\">Float64</th><th title = \"Float64\" style = \"text-align: left;\">Float64</th><th title = \"Float64\" style = \"text-align: left;\">Float64</th><th title = \"Float64\" style = \"text-align: left;\">Float64</th><th title = \"Float64\" style = \"text-align: left;\">Float64</th><th title = \"CategoricalArrays.CategoricalValue{String, UInt32}\" style = \"text-align: left;\">Cat…</th></tr></thead><tbody><tr><td class = \"rowNumber\" style = \"font-weight: bold; text-align: right;\">1</td><td style = \"text-align: right;\">12.8</td><td style = \"text-align: right;\">13.47</td><td style = \"text-align: right;\">0.886</td><td style = \"text-align: right;\">5.16</td><td style = \"text-align: right;\">3.126</td><td style = \"text-align: right;\">4.873</td><td style = \"text-align: right;\">4.914</td><td style = \"text-align: left;\">3</td></tr><tr><td class = \"rowNumber\" style = \"font-weight: bold; text-align: right;\">2</td><td style = \"text-align: right;\">12.37</td><td style = \"text-align: right;\">13.47</td><td style = \"text-align: right;\">0.8567</td><td style = \"text-align: right;\">5.204</td><td style = \"text-align: right;\">2.96</td><td style = \"text-align: right;\">3.919</td><td style = \"text-align: right;\">5.001</td><td style = \"text-align: left;\">3</td></tr><tr><td class = \"rowNumber\" style = \"font-weight: bold; text-align: right;\">3</td><td style = \"text-align: right;\">14.99</td><td style = \"text-align: right;\">14.56</td><td style = \"text-align: right;\">0.8883</td><td style = \"text-align: right;\">5.57</td><td style = \"text-align: right;\">3.377</td><td style = \"text-align: right;\">2.958</td><td style = \"text-align: right;\">5.175</td><td style = \"text-align: left;\">1</td></tr><tr><td class = \"rowNumber\" style = \"font-weight: bold; text-align: right;\">4</td><td style = \"text-align: right;\">11.18</td><td style = \"text-align: right;\">13.04</td><td style = \"text-align: right;\">0.8266</td><td style = \"text-align: right;\">5.22</td><td style = \"text-align: right;\">2.693</td><td style = \"text-align: right;\">3.332</td><td style = \"text-align: right;\">5.001</td><td style = \"text-align: left;\">3</td></tr><tr><td class = \"rowNumber\" style = \"font-weight: bold; text-align: right;\">5</td><td style = \"text-align: right;\">11.48</td><td style = \"text-align: right;\">13.05</td><td style = \"text-align: right;\">0.8473</td><td style = \"text-align: right;\">5.18</td><td style = \"text-align: right;\">2.758</td><td style = \"text-align: right;\">5.876</td><td style = \"text-align: right;\">5.002</td><td style = \"text-align: left;\">3</td></tr></tbody></table></div>"
      ],
      "text/latex": [
       "\\begin{tabular}{r|cccccccc}\n",
       "\t& V1 & V2 & V3 & V4 & V5 & V6 & V7 & Class\\\\\n",
       "\t\\hline\n",
       "\t& Float64 & Float64 & Float64 & Float64 & Float64 & Float64 & Float64 & Cat…\\\\\n",
       "\t\\hline\n",
       "\t1 & 12.8 & 13.47 & 0.886 & 5.16 & 3.126 & 4.873 & 4.914 & 3 \\\\\n",
       "\t2 & 12.37 & 13.47 & 0.8567 & 5.204 & 2.96 & 3.919 & 5.001 & 3 \\\\\n",
       "\t3 & 14.99 & 14.56 & 0.8883 & 5.57 & 3.377 & 2.958 & 5.175 & 1 \\\\\n",
       "\t4 & 11.18 & 13.04 & 0.8266 & 5.22 & 2.693 & 3.332 & 5.001 & 3 \\\\\n",
       "\t5 & 11.48 & 13.05 & 0.8473 & 5.18 & 2.758 & 5.876 & 5.002 & 3 \\\\\n",
       "\\end{tabular}\n"
      ],
      "text/plain": [
       "\u001b[1m5×8 DataFrame\u001b[0m\n",
       "\u001b[1m Row \u001b[0m│\u001b[1m V1      \u001b[0m\u001b[1m V2      \u001b[0m\u001b[1m V3      \u001b[0m\u001b[1m V4      \u001b[0m\u001b[1m V5      \u001b[0m\u001b[1m V6      \u001b[0m\u001b[1m V7      \u001b[0m\u001b[1m Class \u001b[0m\n",
       "     │\u001b[90m Float64 \u001b[0m\u001b[90m Float64 \u001b[0m\u001b[90m Float64 \u001b[0m\u001b[90m Float64 \u001b[0m\u001b[90m Float64 \u001b[0m\u001b[90m Float64 \u001b[0m\u001b[90m Float64 \u001b[0m\u001b[90m Cat…  \u001b[0m\n",
       "─────┼──────────────────────────────────────────────────────────────────────\n",
       "   1 │   12.8     13.47   0.886     5.16     3.126    4.873    4.914  3\n",
       "   2 │   12.37    13.47   0.8567    5.204    2.96     3.919    5.001  3\n",
       "   3 │   14.99    14.56   0.8883    5.57     3.377    2.958    5.175  1\n",
       "   4 │   11.18    13.04   0.8266    5.22     2.693    3.332    5.001  3\n",
       "   5 │   11.48    13.05   0.8473    5.18     2.758    5.876    5.002  3"
      ]
     },
     "metadata": {},
     "output_type": "display_data"
    }
   ],
   "source": [
    "# Iris: 61, Seeds: 1499, Blood transfusion: 1464, Monks: 334, Diabetes: 37, ilpd: 1480\n",
    "\n",
    "# load dataset\n",
    "# dataset = get_dataset(61)\n",
    "\n",
    "# it does not work for the seeds table dataset!\n",
    "dataset = get_dataset(1499)\n",
    "\n",
    "# does not work either on dataset 1464!\n",
    "\n",
    "# shuffle the dataset\n",
    "dataset_shuffled = dataset[shuffle(1:end), :]\n",
    "\n",
    "# split into train and test sets (90:10)\n",
    "split_index = floor(Int, size(dataset_shuffled, 1) * 0.90)\n",
    "train_df = dataset_shuffled[1:split_index, :]\n",
    "test_df = dataset_shuffled[split_index+1:end, :]\n",
    "\n",
    "# show first five entries\n",
    "first(dataset_shuffled, 5)"
   ]
  },
  {
   "cell_type": "code",
   "execution_count": 10,
   "metadata": {},
   "outputs": [
    {
     "name": "stdout",
     "output_type": "stream",
     "text": [
      "size: (210, 8)"
     ]
    },
    {
     "data": {
      "text/html": [
       "<div><div style = \"float: left;\"><span>8×7 DataFrame</span></div><div style = \"clear: both;\"></div></div><div class = \"data-frame\" style = \"overflow-x: scroll;\"><table class = \"data-frame\" style = \"margin-bottom: 6px;\"><thead><tr class = \"header\"><th class = \"rowNumber\" style = \"font-weight: bold; text-align: right;\">Row</th><th style = \"text-align: left;\">variable</th><th style = \"text-align: left;\">mean</th><th style = \"text-align: left;\">min</th><th style = \"text-align: left;\">median</th><th style = \"text-align: left;\">max</th><th style = \"text-align: left;\">nmissing</th><th style = \"text-align: left;\">eltype</th></tr><tr class = \"subheader headerLastRow\"><th class = \"rowNumber\" style = \"font-weight: bold; text-align: right;\"></th><th title = \"Symbol\" style = \"text-align: left;\">Symbol</th><th title = \"Union{Nothing, Float64}\" style = \"text-align: left;\">Union…</th><th title = \"Any\" style = \"text-align: left;\">Any</th><th title = \"Union{Nothing, Float64}\" style = \"text-align: left;\">Union…</th><th title = \"Any\" style = \"text-align: left;\">Any</th><th title = \"Int64\" style = \"text-align: left;\">Int64</th><th title = \"DataType\" style = \"text-align: left;\">DataType</th></tr></thead><tbody><tr><td class = \"rowNumber\" style = \"font-weight: bold; text-align: right;\">1</td><td style = \"text-align: left;\">V1</td><td style = \"text-align: left;\">14.8475</td><td style = \"text-align: left;\">10.59</td><td style = \"text-align: left;\">14.355</td><td style = \"text-align: left;\">21.18</td><td style = \"text-align: right;\">0</td><td style = \"text-align: left;\">Float64</td></tr><tr><td class = \"rowNumber\" style = \"font-weight: bold; text-align: right;\">2</td><td style = \"text-align: left;\">V2</td><td style = \"text-align: left;\">14.5593</td><td style = \"text-align: left;\">12.41</td><td style = \"text-align: left;\">14.32</td><td style = \"text-align: left;\">17.25</td><td style = \"text-align: right;\">0</td><td style = \"text-align: left;\">Float64</td></tr><tr><td class = \"rowNumber\" style = \"font-weight: bold; text-align: right;\">3</td><td style = \"text-align: left;\">V3</td><td style = \"text-align: left;\">0.870999</td><td style = \"text-align: left;\">0.8081</td><td style = \"text-align: left;\">0.87345</td><td style = \"text-align: left;\">0.9183</td><td style = \"text-align: right;\">0</td><td style = \"text-align: left;\">Float64</td></tr><tr><td class = \"rowNumber\" style = \"font-weight: bold; text-align: right;\">4</td><td style = \"text-align: left;\">V4</td><td style = \"text-align: left;\">5.62853</td><td style = \"text-align: left;\">4.899</td><td style = \"text-align: left;\">5.5235</td><td style = \"text-align: left;\">6.675</td><td style = \"text-align: right;\">0</td><td style = \"text-align: left;\">Float64</td></tr><tr><td class = \"rowNumber\" style = \"font-weight: bold; text-align: right;\">5</td><td style = \"text-align: left;\">V5</td><td style = \"text-align: left;\">3.2586</td><td style = \"text-align: left;\">2.63</td><td style = \"text-align: left;\">3.237</td><td style = \"text-align: left;\">4.033</td><td style = \"text-align: right;\">0</td><td style = \"text-align: left;\">Float64</td></tr><tr><td class = \"rowNumber\" style = \"font-weight: bold; text-align: right;\">6</td><td style = \"text-align: left;\">V6</td><td style = \"text-align: left;\">3.7002</td><td style = \"text-align: left;\">0.7651</td><td style = \"text-align: left;\">3.599</td><td style = \"text-align: left;\">8.456</td><td style = \"text-align: right;\">0</td><td style = \"text-align: left;\">Float64</td></tr><tr><td class = \"rowNumber\" style = \"font-weight: bold; text-align: right;\">7</td><td style = \"text-align: left;\">V7</td><td style = \"text-align: left;\">5.40807</td><td style = \"text-align: left;\">4.519</td><td style = \"text-align: left;\">5.223</td><td style = \"text-align: left;\">6.55</td><td style = \"text-align: right;\">0</td><td style = \"text-align: left;\">Float64</td></tr><tr><td class = \"rowNumber\" style = \"font-weight: bold; text-align: right;\">8</td><td style = \"text-align: left;\">Class</td><td style = \"font-style: italic; text-align: left;\"></td><td style = \"text-align: left;\">1</td><td style = \"font-style: italic; text-align: left;\"></td><td style = \"text-align: left;\">3</td><td style = \"text-align: right;\">0</td><td style = \"text-align: left;\">CategoricalValue{String, UInt32}</td></tr></tbody></table></div>"
      ],
      "text/latex": [
       "\\begin{tabular}{r|ccccccc}\n",
       "\t& variable & mean & min & median & max & nmissing & eltype\\\\\n",
       "\t\\hline\n",
       "\t& Symbol & Union… & Any & Union… & Any & Int64 & DataType\\\\\n",
       "\t\\hline\n",
       "\t1 & V1 & 14.8475 & 10.59 & 14.355 & 21.18 & 0 & Float64 \\\\\n",
       "\t2 & V2 & 14.5593 & 12.41 & 14.32 & 17.25 & 0 & Float64 \\\\\n",
       "\t3 & V3 & 0.870999 & 0.8081 & 0.87345 & 0.9183 & 0 & Float64 \\\\\n",
       "\t4 & V4 & 5.62853 & 4.899 & 5.5235 & 6.675 & 0 & Float64 \\\\\n",
       "\t5 & V5 & 3.2586 & 2.63 & 3.237 & 4.033 & 0 & Float64 \\\\\n",
       "\t6 & V6 & 3.7002 & 0.7651 & 3.599 & 8.456 & 0 & Float64 \\\\\n",
       "\t7 & V7 & 5.40807 & 4.519 & 5.223 & 6.55 & 0 & Float64 \\\\\n",
       "\t8 & Class &  & 1 &  & 3 & 0 & CategoricalValue\\{String, UInt32\\} \\\\\n",
       "\\end{tabular}\n"
      ],
      "text/plain": [
       "\u001b[1m8×7 DataFrame\u001b[0m\n",
       "\u001b[1m Row \u001b[0m│\u001b[1m variable \u001b[0m\u001b[1m mean     \u001b[0m\u001b[1m min    \u001b[0m\u001b[1m median  \u001b[0m\u001b[1m max    \u001b[0m\u001b[1m nmissing \u001b[0m\u001b[1m eltype          \u001b[0m ⋯\n",
       "     │\u001b[90m Symbol   \u001b[0m\u001b[90m Union…   \u001b[0m\u001b[90m Any    \u001b[0m\u001b[90m Union…  \u001b[0m\u001b[90m Any    \u001b[0m\u001b[90m Int64    \u001b[0m\u001b[90m DataType        \u001b[0m ⋯\n",
       "─────┼──────────────────────────────────────────────────────────────────────────\n",
       "   1 │ V1        14.8475   10.59   14.355   21.18          0  Float64          ⋯\n",
       "   2 │ V2        14.5593   12.41   14.32    17.25          0  Float64\n",
       "   3 │ V3        0.870999  0.8081  0.87345  0.9183         0  Float64\n",
       "   4 │ V4        5.62853   4.899   5.5235   6.675          0  Float64\n",
       "   5 │ V5        3.2586    2.63    3.237    4.033          0  Float64          ⋯\n",
       "   6 │ V6        3.7002    0.7651  3.599    8.456          0  Float64\n",
       "   7 │ V7        5.40807   4.519   5.223    6.55           0  Float64\n",
       "   8 │ Class    \u001b[90m          \u001b[0m 1      \u001b[90m         \u001b[0m 3              0  CategoricalValue\n",
       "\u001b[36m                                                                1 column omitted\u001b[0m"
      ]
     },
     "metadata": {},
     "output_type": "display_data"
    }
   ],
   "source": [
    "# show metadata\n",
    "print(\"size: \", size(dataset_shuffled))\n",
    "describe(dataset_shuffled)"
   ]
  },
  {
   "cell_type": "code",
   "execution_count": 11,
   "metadata": {},
   "outputs": [
    {
     "name": "stdout",
     "output_type": "stream",
     "text": [
      "train:test ratio = 9:1"
     ]
    }
   ],
   "source": [
    "# split into features and labels\n",
    "train_X = train_df[:, 1:end-1]\n",
    "train_Y = train_df[:, end]\n",
    "test_X = test_df[:, 1:end-1]\n",
    "test_Y = test_df[:, end]\n",
    "\n",
    "# print ratio train/test\n",
    "ratio = trunc(Int, 10.0 * (size(train_df)[1] / (size(train_df)[1] + size(test_df)[1])))\n",
    "print(\"train:test ratio = \", ratio , \":\", (10-ratio))"
   ]
  },
  {
   "attachments": {},
   "cell_type": "markdown",
   "metadata": {},
   "source": [
    "## 2. Defining grammar"
   ]
  },
  {
   "cell_type": "code",
   "execution_count": 12,
   "metadata": {},
   "outputs": [
    {
     "name": "stdout",
     "output_type": "stream",
     "text": [
      "-1582767325906075506"
     ]
    },
    {
     "data": {
      "text/plain": [
       "1: START = Pipeline([CLASSIF])\n",
       "2: START = Pipeline([PRE, CLASSIF])\n",
       "3: PRE = PREPROC\n",
       "4: PRE = FSELECT\n",
       "5: PRE = (\"seq\", Pipeline([PRE, PRE]))\n",
       "6: PRE = (\"par\", FeatureUnion([PRE, PRE]))\n",
       "7: PREPROC = (\"StandardScaler\" * string(rand(Int)), StandardScaler())\n",
       "8: PREPROC = (\"RobustScaler\", RobustScaler())\n",
       "9: PREPROC = (\"MinMaxScaler\", MinMaxScaler())\n",
       "10: PREPROC = (\"MaxAbsScaler\", MaxAbsScaler())\n",
       "11: PREPROC = (\"PCA\", PCA())\n",
       "12: PREPROC = (\"Binarizer\", Binarizer())\n",
       "13: PREPROC = (\"PolynomialFeatures\", PolynomialFeatures())\n",
       "14: FSELECT = (\"VarianceThreshold\", VarianceThreshold())\n",
       "15: FSELECT = (\"SelectPercentile\", SelectPercentile())\n",
       "16: FSELECT = (\"SelectFwe\", SelectFwe())\n",
       "17: FSELECT = (\"Recursive Feature Elimination\", RFE(LinearSVC()))\n",
       "18: CLASSIF = (\"DecisionTree\", DecisionTreeClassifier())\n",
       "19: CLASSIF = (\"RandomForest\", RandomForestClassifier())\n",
       "20: CLASSIF = (\"Gradient Boosting Classifier\", GradientBoostingClassifier())\n",
       "21: CLASSIF = (\"LogisticRegression\", LogisticRegression())\n",
       "22: CLASSIF = (\"NearestNeighborClassifier\", NearestNeighbors())\n"
      ]
     },
     "metadata": {},
     "output_type": "display_data"
    }
   ],
   "source": [
    "using .Random\n",
    "print(rand(Int))\n",
    "\n",
    "grammar = Herb.HerbGrammar.@cfgrammar begin\n",
    "\n",
    "    # this is the version with multiple classifiers possible\n",
    "    # START   = CLASSIF | sequence(PRE, CLASSIF)\n",
    "    # PRE     = PREPROC | FSELECT | sequence(PRE, PRE) | parallel(BRANCH, BRANCH)\n",
    "    # BRANCH  = PRE | CLASSIF | sequence(PRE, CLASSIF) \n",
    "\n",
    "    # this is the version with only one classifier\n",
    "    START   = Pipeline([CLASSIF]) | Pipeline([PRE, CLASSIF])\n",
    "    PRE     = PREPROC | FSELECT | (\"seq\", Pipeline([PRE, PRE]))  | (\"par\", FeatureUnion([PRE, PRE])) \n",
    "\n",
    "    # preprocessing functions\n",
    "    PREPROC =   \n",
    "        (\"StandardScaler\" * string(rand(Int)), StandardScaler()) |\n",
    "        (\"RobustScaler\", RobustScaler()) |\n",
    "        (\"MinMaxScaler\", MinMaxScaler()) |\n",
    "        (\"MaxAbsScaler\", MaxAbsScaler()) |\n",
    "        (\"PCA\", PCA()) |\n",
    "        (\"Binarizer\", Binarizer()) |\n",
    "        (\"PolynomialFeatures\", PolynomialFeatures())\n",
    "\n",
    "    # feature selection functions\n",
    "    FSELECT =  \n",
    "        (\"VarianceThreshold\", VarianceThreshold()) |\n",
    "        # (\"SelectKBest\",  SelectKBest()) |\n",
    "        (\"SelectPercentile\",  SelectPercentile()) |\n",
    "        (\"SelectFwe\",  SelectFwe()) |\n",
    "        (\"Recursive Feature Elimination\",  RFE(LinearSVC())) \n",
    "\n",
    "    # classifiers\n",
    "    CLASSIF =\n",
    "        (\"DecisionTree\", DecisionTreeClassifier()) |\n",
    "        (\"RandomForest\", RandomForestClassifier()) |\n",
    "        (\"Gradient Boosting Classifier\", GradientBoostingClassifier()) |\n",
    "        (\"LogisticRegression\", LogisticRegression()) |\n",
    "        (\"NearestNeighborClassifier\", NearestNeighbors())\n",
    "end\n"
   ]
  },
  {
   "cell_type": "code",
   "execution_count": 13,
   "metadata": {},
   "outputs": [
    {
     "data": {
      "text/plain": [
       "insert_name_indexes (generic function with 1 method)"
      ]
     },
     "metadata": {},
     "output_type": "display_data"
    }
   ],
   "source": [
    "function insert_name_indexes(p)\n",
    "    p_start = \"\"\n",
    "    i = 1\n",
    "    while i <= 100\n",
    "        try\n",
    "            p = replace(p, \"\"\"\",\"\"\" => string(i)*\"\"\"\",\"\"\", count=1)\n",
    "            p_split = split(p, string(i) * \"\"\"\", \"\"\")\n",
    "            p_start *= p_split[1] * string(i) * \"\"\"\", \"\"\"\n",
    "            p = p_split[2]\n",
    "            i += 1\n",
    "        catch\n",
    "            break\n",
    "        end\n",
    "    end\n",
    "    return split(p_start, string(i))[1]\n",
    "end"
   ]
  },
  {
   "cell_type": "code",
   "execution_count": 14,
   "metadata": {},
   "outputs": [
    {
     "name": "stdout",
     "output_type": "stream",
     "text": [
      "Pipeline(["
     ]
    },
    {
     "name": "stdout",
     "output_type": "stream",
     "text": [
      "(\"seq\", Pipeline([(\"PCA\", PCA()), (\"MinMaxScaler\", MinMaxScaler())])), (\"DecisionTree\", DecisionTreeClassifier())])\n",
      "2{5{3{11}3{9}}18}\n",
      "290"
     ]
    }
   ],
   "source": [
    "# all pipelines that can be assembled in x steps\n",
    "cfe = Herb.HerbSearch.ContextFreeEnumerator(grammar, 4, :START)\n",
    "\n",
    "# Find start program\n",
    "start_program = nothing\n",
    "c = 0\n",
    "i = abs(rand(Int) % 1000)\n",
    "for pipeline in cfe\n",
    "    if c == i\n",
    "        start_program = pipeline\n",
    "        println(Herb.HerbSearch.rulenode2expr(pipeline, grammar))\n",
    "        println(start_program)\n",
    "        break\n",
    "    end\n",
    "    c = c + 1\n",
    "end\n",
    "print(i)"
   ]
  },
  {
   "cell_type": "code",
   "execution_count": 19,
   "metadata": {},
   "outputs": [
    {
     "data": {
      "text/plain": [
       "find_best_neighbour_in_neighbourhood (generic function with 1 method)"
      ]
     },
     "metadata": {},
     "output_type": "display_data"
    }
   ],
   "source": [
    "function vlns(grammar, enumeration_depth)\n",
    "    current_program = start_program\n",
    "    current_cost = 1.1\n",
    "    i = 0\n",
    "    not_improved_counter = 0\n",
    "    while i < 100\n",
    "        println(\"iteration: \", i)\n",
    "        previous_cost = current_cost\n",
    "        current_program, current_cost = find_best_neighbour_in_neighbourhood(current_program, grammar, enumeration_depth)\n",
    "\n",
    "        if current_cost == previous_cost\n",
    "            not_improved_counter += 1\n",
    "            if not_improved_counter == 10\n",
    "                println(\"stopping because hasn't inproved in 10 iterations\")\n",
    "                break\n",
    "            end\n",
    "        else\n",
    "            not_improved_counter = 0\n",
    "        end\n",
    "        if current_cost == 0.0\n",
    "            println(\"stopping because cost is 0.0\")\n",
    "            break\n",
    "        end\n",
    "        i += 1\n",
    "    end\n",
    "    pipeline = eval(Meta.parse(insert_name_indexes(string(Herb.HerbSearch.rulenode2expr(current_program, grammar)))))\n",
    "    current_program_cost = pipeline_cost_function(pipeline, train_X, train_Y, test_X, test_Y)\n",
    "    println(\"final program: \", current_program)\n",
    "    println(\"final cost: \", current_program_cost)\n",
    "    return current_program, current_program_cost\n",
    "end\n",
    "    \n",
    "\n",
    "function find_best_neighbour_in_neighbourhood(current_program, grammar, enumeration_depth)\n",
    "    # println(\"Start vlns iteration\")\n",
    "    # println(\"current_program = \", current_program)\n",
    "    # println(\"current_cost = \", pipeline_cost_function(eval(Herb.HerbSearch.rulenode2expr(current_program, grammar)), train_X, train_Y, test_X, test_Y))\n",
    "    # 1. Construct neighbourhood\n",
    "    neighbourhood_node_loc, dict = Herb.HerbSearch.constructNeighbourhoodRuleSubset(current_program, grammar)\n",
    "    replacement_expressions = Herb.HerbSearch.enumerate_neighbours_propose(enumeration_depth)(current_program, \n",
    "                                                                                                neighbourhood_node_loc, \n",
    "                                                                                                grammar,\n",
    "                                                                                                5, # max_depth = max depth of pipeline, depth of subprogram is bound by this\n",
    "                                                                                                dict)\n",
    "    for replacement_expression in replacement_expressions\n",
    "        # println(\"replacement expression: \", replacement_expression)\n",
    "    end\n",
    "    # 2. Find best neighbour\n",
    "    best_program = deepcopy(current_program)\n",
    "    pipeline = eval(Meta.parse(insert_name_indexes(string(Herb.HerbSearch.rulenode2expr(best_program, grammar)))))\n",
    "    best_program_cost = pipeline_cost_function(pipeline, train_X, train_Y, test_X, test_Y)\n",
    "    possible_program = current_program\n",
    "    neighbours_tried = 0\n",
    "    for replacement_expression in replacement_expressions\n",
    "        if (neighbours_tried % 10) == 0\n",
    "            println(\"tried \", neighbours_tried, \" neighbours\")\n",
    "            if neighbours_tried == 30\n",
    "                break\n",
    "            end\n",
    "        end\n",
    "        # change current_program to one of its neighbours \n",
    "        if neighbourhood_node_loc.i == 0\n",
    "            possible_program = replacement_expression\n",
    "        else\n",
    "            neighbourhood_node_loc.parent.children[neighbourhood_node_loc.i] = replacement_expression\n",
    "        end\n",
    "        pipeline = eval(Meta.parse(insert_name_indexes(string(Herb.HerbSearch.rulenode2expr(possible_program, grammar)))))\n",
    "        possible_program_cost = pipeline_cost_function(pipeline, train_X, train_Y, test_X, test_Y)\n",
    "        # println(\"possible pipeline: \", possible_program)#Herb.HerbSearch.rulenode2expr(pl, grammar)) \n",
    "        # println(\"possible pipeline cost: \", possible_program_cost)\n",
    "        if possible_program_cost < best_program_cost\n",
    "            # println(\"Found a better pipeline!: \", possible_program)\n",
    "            best_program = deepcopy(current_program)\n",
    "            best_program_cost = possible_program_cost        \n",
    "        end\n",
    "        neighbours_tried += 1\n",
    "    end\n",
    "    # println(\"Finished vlns iteration\")\n",
    "    # println(\"best_program = \", best_program)\n",
    "    # println(\"best_cost = \", best_program_cost)\n",
    "    # println()\n",
    "    return best_program, best_program_cost\n",
    "end"
   ]
  },
  {
   "cell_type": "code",
   "execution_count": 20,
   "metadata": {},
   "outputs": [
    {
     "name": "stdout",
     "output_type": "stream",
     "text": [
      "iteration: 0\n",
      "tried 0 neighbours"
     ]
    },
    {
     "name": "stdout",
     "output_type": "stream",
     "text": [
      "\n"
     ]
    },
    {
     "name": "stdout",
     "output_type": "stream",
     "text": [
      "tried 10 neighbours\n",
      "iteration: 1\n",
      "tried 0 neighbours\n"
     ]
    },
    {
     "name": "stdout",
     "output_type": "stream",
     "text": [
      "iteration: 2\n"
     ]
    },
    {
     "name": "stdout",
     "output_type": "stream",
     "text": [
      "tried 0 neighbours\n"
     ]
    },
    {
     "name": "stdout",
     "output_type": "stream",
     "text": [
      "iteration: 3\n"
     ]
    },
    {
     "name": "stdout",
     "output_type": "stream",
     "text": [
      "tried 0 neighbours\n"
     ]
    },
    {
     "name": "stdout",
     "output_type": "stream",
     "text": [
      "tried 10 neighbours"
     ]
    },
    {
     "name": "stdout",
     "output_type": "stream",
     "text": [
      "\n"
     ]
    },
    {
     "name": "stdout",
     "output_type": "stream",
     "text": [
      "tried 20 neighbours\n"
     ]
    },
    {
     "name": "stdout",
     "output_type": "stream",
     "text": [
      "tried 30 neighbours\n",
      "final program: 2{5{6{3{9}3{13}}3{13}}18}\n",
      "final cost: 0.09523809523809523\n"
     ]
    },
    {
     "data": {
      "text/plain": [
       "(2{5{6{3{9}3{13}}3{13}}18}, 0.09523809523809523)"
      ]
     },
     "metadata": {},
     "output_type": "display_data"
    }
   ],
   "source": [
    "vlns(grammar, 4) # enumeration_depth = max depth of subprogram that is being replaced, regardless of the NodeLoc"
   ]
  },
  {
   "attachments": {},
   "cell_type": "markdown",
   "metadata": {},
   "source": [
    "## 3. Search"
   ]
  },
  {
   "cell_type": "code",
   "execution_count": 16,
   "metadata": {},
   "outputs": [
    {
     "data": {
      "text/plain": [
       "evaluate_pipeline"
      ]
     },
     "metadata": {},
     "output_type": "display_data"
    }
   ],
   "source": [
    "\"\"\"\n",
    "Fits the pipeline to the training set and measures the accuracy on test set.\n",
    "input:  pipeline, train_X, train_Y, test_X, test_Y\n",
    "output: accuracy of pipeline\n",
    "\"\"\"\n",
    "function evaluate_pipeline(pipeline, train_X, train_Y, test_X, test_Y)\n",
    "\n",
    "    # # this gives the following warning often, so it is suppressed for now.\n",
    "    # # ConvergenceWarning: lbfgs failed to converge\n",
    "    @suppress_err begin\n",
    "        try\n",
    "            # fit the pipeline\n",
    "            # print(pipeline)\n",
    "            # print(\" - \")\n",
    "            model = ScikitLearn.fit!(pipeline, Matrix(train_X), Array(train_Y))\n",
    "\n",
    "            # make predictions\n",
    "            predictions = ScikitLearn.predict(model, Matrix(test_X))\n",
    "\n",
    "            # measure the accuracy\n",
    "            accuracy = mean(predictions .== test_Y)\n",
    "            return accuracy\n",
    "        catch e\n",
    "            # println(\"Caught error [in evaluate_pipeline()]: \", e)\n",
    "            return 0.0\n",
    "        end\n",
    "    end\n",
    "end"
   ]
  },
  {
   "cell_type": "code",
   "execution_count": 17,
   "metadata": {},
   "outputs": [
    {
     "data": {
      "text/plain": [
       "pipeline_cost_function"
      ]
     },
     "metadata": {},
     "output_type": "display_data"
    }
   ],
   "source": [
    "\"\"\"Trains the pipeline and returns 1-accuracy\"\"\"\n",
    "function pipeline_cost_function(pipeline, train_X, train_Y, test_X, test_Y)\n",
    "    return 1.0 - evaluate_pipeline(pipeline, train_X, train_Y, test_X, test_Y)\n",
    "end"
   ]
  },
  {
   "cell_type": "code",
   "execution_count": null,
   "metadata": {},
   "outputs": [],
   "source": [
    "\"\"\"This function enumerates the grammar and finds the best pipeline. \"\"\"\n",
    "function find_best_pipeline_with_bfs_search(grammar, train_X, train_Y, test_X, test_Y, search_depth)\n",
    "    best_accuracy = -1.0\n",
    "    best_pipeline = nothing\n",
    "\n",
    "    # enumerate the gramamar\n",
    "    enumerator = Herb.HerbSearch.ContextFreeEnumerator(grammar, search_depth, :START)\n",
    "    for rule in enumerator\n",
    "        try\n",
    "            # get pipeline and calculate accuracy\n",
    "            pipeline = eval(Herb.HerbSearch.rulenode2expr(rule, grammar))\n",
    "            accuracy = evaluate_pipeline(pipeline, train_X, train_Y, test_X, test_Y)\n",
    "\n",
    "            # update best pipeline\n",
    "            if (accuracy > best_accuracy) \n",
    "                best_accuracy = accuracy\n",
    "                best_pipeline = pipeline\n",
    "            end\n",
    "            \n",
    "            # print accuracy of pipeline\n",
    "            print(\"\\n accuracy: \", round(accuracy, digits=2), \" by \", string(pipeline))\n",
    "        catch\n",
    "            continue\n",
    "        end\n",
    "    end\n",
    "    return (best_accuracy, best_pipeline)\n",
    "end"
   ]
  },
  {
   "cell_type": "code",
   "execution_count": null,
   "metadata": {},
   "outputs": [],
   "source": [
    "# find the best pipeline and accuracy with depth 2\n",
    "(best_accuracy, best_pipeline) = find_best_pipeline_with_bfs_search(grammar, train_X, train_Y, test_X, test_Y, 2)\n",
    "\n",
    "# print result\n",
    "println(\"\\n\\nBest pipeline: \", round(best_accuracy, digits=2))\n",
    "print(best_pipeline)"
   ]
  },
  {
   "cell_type": "code",
   "execution_count": null,
   "metadata": {},
   "outputs": [],
   "source": [
    "test_pipeline = Pipeline([(\"DecisionTree\", DecisionTreeClassifier())])\n",
    "pipeline_cost_function(test_pipeline, train_X, train_Y, test_X, test_Y)"
   ]
  },
  {
   "cell_type": "code",
   "execution_count": null,
   "metadata": {},
   "outputs": [],
   "source": [
    "\"\"\"This function enumerates the grammar and finds the best pipeline. \"\"\"\n",
    "function find_best_pipeline_with_vlsn(grammar, train_X, train_Y, test_X, test_Y, search_depth)\n",
    "    best_accuracy = -1.0\n",
    "    best_pipeline = nothing\n",
    "\n",
    "    # enumerate the gramamar\n",
    "    # enumerator = Herb.HerbSearch.ContextFreeEnumerator(grammar, search_depth, :START)\n",
    "    enumerator = Herb.HerbSearch.get_vlsn_enumerator(grammar, [], search_depth, :START, pipeline_cost_function)\n",
    "    for rule in enumerator\n",
    "        try\n",
    "            # get pipeline and calculate accuracy\n",
    "            pipeline = eval(Herb.HerbSearch.rulenode2expr(rule, grammar))\n",
    "            accuracy = evaluate_pipeline(pipeline, train_X, train_Y, test_X, test_Y)\n",
    "\n",
    "            # update best pipeline\n",
    "            if (accuracy > best_accuracy) \n",
    "                best_accuracy = accuracy\n",
    "                best_pipeline = pipeline\n",
    "            end\n",
    "            \n",
    "            # print accuracy of pipeline\n",
    "            print(\"\\n accuracy: \", round(accuracy, digits=2), \" by \", string(pipeline))\n",
    "        catch\n",
    "            continue\n",
    "        end\n",
    "    end\n",
    "    return (best_accuracy, best_pipeline)\n",
    "end"
   ]
  },
  {
   "cell_type": "code",
   "execution_count": null,
   "metadata": {},
   "outputs": [],
   "source": [
    "find_best_pipeline_with_vlsn(grammar, train_X, train_Y, test_X, test_Y, 2)"
   ]
  },
  {
   "cell_type": "code",
   "execution_count": null,
   "metadata": {},
   "outputs": [],
   "source": [
    "function p_cost_f(pipeline)\n",
    "    # pipeline = eval(pipeline)\n",
    "    return pipeline_cost_function(pipeline, train_X, train_Y, test_X, test_Y)\n",
    "end\n",
    "\n",
    "enumerator = Herb.HerbSearch.get_vlsn_enumerator(grammar, [], 2, :START, p_cost_f)\n",
    "# Herb.HerbSearch.get_mh_enumerator()\n",
    "c = 0\n",
    "for rule in enumerator\n",
    "    println(Herb.HerbSearch.rulenode2expr(rule, grammar))\n",
    "    c = c + 1\n",
    "    if c == 20\n",
    "        break\n",
    "    end\n",
    "end"
   ]
  },
  {
   "cell_type": "code",
   "execution_count": null,
   "metadata": {},
   "outputs": [],
   "source": []
  },
  {
   "cell_type": "code",
   "execution_count": null,
   "metadata": {},
   "outputs": [],
   "source": []
  },
  {
   "cell_type": "code",
   "execution_count": null,
   "metadata": {},
   "outputs": [],
   "source": []
  },
  {
   "cell_type": "code",
   "execution_count": null,
   "metadata": {},
   "outputs": [],
   "source": []
  },
  {
   "cell_type": "code",
   "execution_count": null,
   "metadata": {},
   "outputs": [],
   "source": []
  }
 ],
 "metadata": {
  "kernelspec": {
   "display_name": "Julia 1.8.5",
   "language": "julia",
   "name": "julia-1.8"
  },
  "language_info": {
   "file_extension": ".jl",
   "mimetype": "application/julia",
   "name": "julia",
   "version": "1.8.5"
  },
  "orig_nbformat": 4
 },
 "nbformat": 4,
 "nbformat_minor": 2
}
