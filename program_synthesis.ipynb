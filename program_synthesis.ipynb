{
 "cells": [
  {
   "attachments": {},
   "cell_type": "markdown",
   "metadata": {},
   "source": [
    "# Full notebook\n",
    "This notebook has the whole process put together:\n",
    "1. Loading dataset\n",
    "2. Defining grammar\n",
    "3. Searching through the grammar and evaluating candidate pipelines"
   ]
  },
  {
   "attachments": {},
   "cell_type": "markdown",
   "metadata": {},
   "source": [
    "## 0. Imports"
   ]
  },
  {
   "cell_type": "code",
   "execution_count": 1,
   "metadata": {},
   "outputs": [],
   "source": [
    "# # uncomment the following if not all packages are added.\n",
    "\n",
    "# import Pkg\n",
    "# using Pkg\n",
    "# Pkg.add(\"HTTP\")\n",
    "# Pkg.add(\"JSON\")\n",
    "# Pkg.add(\"DataFrames\")\n",
    "# Pkg.add(\"OpenML\")\n",
    "# Pkg.add(\"DataFrames\") \n",
    "# Pkg.add(\"CSV\") \n",
    "# Pkg.add(\"Suppressor\")\n",
    "# Pkg.add(\"StatsBase\")\n",
    "# Pkg.add(\"ScikitLearn\")"
   ]
  },
  {
   "cell_type": "code",
   "execution_count": 2,
   "metadata": {},
   "outputs": [],
   "source": []
  },
  {
   "cell_type": "code",
   "execution_count": 3,
   "metadata": {},
   "outputs": [
    {
     "data": {
      "text/plain": [
       "get_class_type_dataset (generic function with 1 method)"
      ]
     },
     "metadata": {},
     "output_type": "display_data"
    }
   ],
   "source": [
    "using ScikitLearn\n",
    "using ScikitLearn.Pipelines: Pipeline, FeatureUnion\n",
    "using ScikitLearn.CrossValidation: cross_val_score\n",
    "using XGBoost\n",
    "using Revise\n",
    "using Random\n",
    "using Statistics: mean\n",
    "using ExprRules: get_executable\n",
    "using Suppressor\n",
    "using Random\n",
    "using Dates\n",
    "\n",
    "include(\"./lib/Herb.jl/src/Herb.jl\")\n",
    "include(\"./lib/HerbGrammar.jl/src/HerbGrammar.jl\")\n",
    "include(\"./lib/HerbData.jl/src/HerbData.jl\")\n",
    "include(\"./lib/HerbEvaluation.jl/src/HerbEvaluation.jl\")\n",
    "include(\"./lib/HerbConstraints.jl/src/HerbConstraints.jl\")\n",
    "include(\"./lib/HerbSearch.jl/src/HerbSearch.jl\")\n",
    "include(\"helper.jl\")"
   ]
  },
  {
   "cell_type": "code",
   "execution_count": 4,
   "metadata": {},
   "outputs": [
    {
     "data": {
      "text/plain": [
       "PyObject <class 'sklearn.svm._classes.LinearSVC'>"
      ]
     },
     "metadata": {},
     "output_type": "display_data"
    }
   ],
   "source": [
    "# import the sk-learn functions\n",
    "@sk_import decomposition: (PCA)\n",
    "@sk_import preprocessing: (StandardScaler, RobustScaler, MinMaxScaler, MaxAbsScaler, Binarizer, PolynomialFeatures)\n",
    "@sk_import feature_selection: (VarianceThreshold, SelectKBest, SelectPercentile, SelectFwe, RFE)\n",
    "@sk_import tree: (DecisionTreeClassifier)\n",
    "@sk_import ensemble: (RandomForestClassifier, GradientBoostingClassifier)\n",
    "@sk_import linear_model: (LogisticRegression)\n",
    "@sk_import neighbors: (NearestNeighbors)\n",
    "@sk_import svm: (LinearSVC)"
   ]
  },
  {
   "attachments": {},
   "cell_type": "markdown",
   "metadata": {},
   "source": [
    "## 1. Loading datasets"
   ]
  },
  {
   "cell_type": "code",
   "execution_count": 5,
   "metadata": {},
   "outputs": [
    {
     "data": {
      "text/html": [
       "<div><div style = \"float: left;\"><span>5×9 DataFrame</span></div><div style = \"clear: both;\"></div></div><div class = \"data-frame\" style = \"overflow-x: scroll;\"><table class = \"data-frame\" style = \"margin-bottom: 6px;\"><thead><tr class = \"header\"><th class = \"rowNumber\" style = \"font-weight: bold; text-align: right;\">Row</th><th style = \"text-align: left;\">preg</th><th style = \"text-align: left;\">plas</th><th style = \"text-align: left;\">pres</th><th style = \"text-align: left;\">skin</th><th style = \"text-align: left;\">insu</th><th style = \"text-align: left;\">mass</th><th style = \"text-align: left;\">pedi</th><th style = \"text-align: left;\">age</th><th style = \"text-align: left;\">class</th></tr><tr class = \"subheader headerLastRow\"><th class = \"rowNumber\" style = \"font-weight: bold; text-align: right;\"></th><th title = \"Float64\" style = \"text-align: left;\">Float64</th><th title = \"Float64\" style = \"text-align: left;\">Float64</th><th title = \"Float64\" style = \"text-align: left;\">Float64</th><th title = \"Float64\" style = \"text-align: left;\">Float64</th><th title = \"Float64\" style = \"text-align: left;\">Float64</th><th title = \"Float64\" style = \"text-align: left;\">Float64</th><th title = \"Float64\" style = \"text-align: left;\">Float64</th><th title = \"Float64\" style = \"text-align: left;\">Float64</th><th title = \"CategoricalArrays.CategoricalValue{String, UInt32}\" style = \"text-align: left;\">Cat…</th></tr></thead><tbody><tr><td class = \"rowNumber\" style = \"font-weight: bold; text-align: right;\">1</td><td style = \"text-align: right;\">2.0</td><td style = \"text-align: right;\">121.0</td><td style = \"text-align: right;\">70.0</td><td style = \"text-align: right;\">32.0</td><td style = \"text-align: right;\">95.0</td><td style = \"text-align: right;\">39.1</td><td style = \"text-align: right;\">0.886</td><td style = \"text-align: right;\">23.0</td><td style = \"text-align: left;\">tested_negative</td></tr><tr><td class = \"rowNumber\" style = \"font-weight: bold; text-align: right;\">2</td><td style = \"text-align: right;\">5.0</td><td style = \"text-align: right;\">111.0</td><td style = \"text-align: right;\">72.0</td><td style = \"text-align: right;\">28.0</td><td style = \"text-align: right;\">0.0</td><td style = \"text-align: right;\">23.9</td><td style = \"text-align: right;\">0.407</td><td style = \"text-align: right;\">27.0</td><td style = \"text-align: left;\">tested_negative</td></tr><tr><td class = \"rowNumber\" style = \"font-weight: bold; text-align: right;\">3</td><td style = \"text-align: right;\">2.0</td><td style = \"text-align: right;\">122.0</td><td style = \"text-align: right;\">60.0</td><td style = \"text-align: right;\">18.0</td><td style = \"text-align: right;\">106.0</td><td style = \"text-align: right;\">29.8</td><td style = \"text-align: right;\">0.717</td><td style = \"text-align: right;\">22.0</td><td style = \"text-align: left;\">tested_negative</td></tr><tr><td class = \"rowNumber\" style = \"font-weight: bold; text-align: right;\">4</td><td style = \"text-align: right;\">2.0</td><td style = \"text-align: right;\">75.0</td><td style = \"text-align: right;\">64.0</td><td style = \"text-align: right;\">24.0</td><td style = \"text-align: right;\">55.0</td><td style = \"text-align: right;\">29.7</td><td style = \"text-align: right;\">0.37</td><td style = \"text-align: right;\">33.0</td><td style = \"text-align: left;\">tested_negative</td></tr><tr><td class = \"rowNumber\" style = \"font-weight: bold; text-align: right;\">5</td><td style = \"text-align: right;\">10.0</td><td style = \"text-align: right;\">139.0</td><td style = \"text-align: right;\">80.0</td><td style = \"text-align: right;\">0.0</td><td style = \"text-align: right;\">0.0</td><td style = \"text-align: right;\">27.1</td><td style = \"text-align: right;\">1.441</td><td style = \"text-align: right;\">57.0</td><td style = \"text-align: left;\">tested_negative</td></tr></tbody></table></div>"
      ],
      "text/latex": [
       "\\begin{tabular}{r|ccccccccc}\n",
       "\t& preg & plas & pres & skin & insu & mass & pedi & age & class\\\\\n",
       "\t\\hline\n",
       "\t& Float64 & Float64 & Float64 & Float64 & Float64 & Float64 & Float64 & Float64 & Cat…\\\\\n",
       "\t\\hline\n",
       "\t1 & 2.0 & 121.0 & 70.0 & 32.0 & 95.0 & 39.1 & 0.886 & 23.0 & tested\\_negative \\\\\n",
       "\t2 & 5.0 & 111.0 & 72.0 & 28.0 & 0.0 & 23.9 & 0.407 & 27.0 & tested\\_negative \\\\\n",
       "\t3 & 2.0 & 122.0 & 60.0 & 18.0 & 106.0 & 29.8 & 0.717 & 22.0 & tested\\_negative \\\\\n",
       "\t4 & 2.0 & 75.0 & 64.0 & 24.0 & 55.0 & 29.7 & 0.37 & 33.0 & tested\\_negative \\\\\n",
       "\t5 & 10.0 & 139.0 & 80.0 & 0.0 & 0.0 & 27.1 & 1.441 & 57.0 & tested\\_negative \\\\\n",
       "\\end{tabular}\n"
      ],
      "text/plain": [
       "\u001b[1m5×9 DataFrame\u001b[0m\n",
       "\u001b[1m Row \u001b[0m│\u001b[1m preg    \u001b[0m\u001b[1m plas    \u001b[0m\u001b[1m pres    \u001b[0m\u001b[1m skin    \u001b[0m\u001b[1m insu    \u001b[0m\u001b[1m mass    \u001b[0m\u001b[1m pedi    \u001b[0m\u001b[1m age     \u001b[0m\u001b[1m\u001b[0m ⋯\n",
       "     │\u001b[90m Float64 \u001b[0m\u001b[90m Float64 \u001b[0m\u001b[90m Float64 \u001b[0m\u001b[90m Float64 \u001b[0m\u001b[90m Float64 \u001b[0m\u001b[90m Float64 \u001b[0m\u001b[90m Float64 \u001b[0m\u001b[90m Float64 \u001b[0m\u001b[90m\u001b[0m ⋯\n",
       "─────┼──────────────────────────────────────────────────────────────────────────\n",
       "   1 │     2.0    121.0     70.0     32.0     95.0     39.1    0.886     23.0  ⋯\n",
       "   2 │     5.0    111.0     72.0     28.0      0.0     23.9    0.407     27.0\n",
       "   3 │     2.0    122.0     60.0     18.0    106.0     29.8    0.717     22.0\n",
       "   4 │     2.0     75.0     64.0     24.0     55.0     29.7    0.37      33.0\n",
       "   5 │    10.0    139.0     80.0      0.0      0.0     27.1    1.441     57.0  ⋯\n",
       "\u001b[36m                                                                1 column omitted\u001b[0m"
      ]
     },
     "metadata": {},
     "output_type": "display_data"
    }
   ],
   "source": [
    "# Datasets: seeds (1499), diabetes (37), tic-tac-toe (50), steel-plates-fault (1504), \n",
    "\n",
    "# load dataset\n",
    "# dataset = get_dataset(61)\n",
    "\n",
    "# it does not work for the seeds table dataset!\n",
    "dataset = get_dataset(37)\n",
    "\n",
    "# does not work either on dataset 1464!\n",
    "\n",
    "# shuffle the dataset\n",
    "dataset_shuffled = dataset[shuffle(1:end), :]\n",
    "\n",
    "# split into train and test sets (90:10)\n",
    "split_index = floor(Int, size(dataset_shuffled, 1) * 0.90)\n",
    "train_df = dataset_shuffled[1:split_index, :]\n",
    "test_df = dataset_shuffled[split_index+1:end, :]\n",
    "\n",
    "# show first five entries\n",
    "first(dataset_shuffled, 5)"
   ]
  },
  {
   "cell_type": "code",
   "execution_count": 6,
   "metadata": {},
   "outputs": [
    {
     "name": "stdout",
     "output_type": "stream",
     "text": [
      "size: (768, 9)"
     ]
    },
    {
     "data": {
      "text/html": [
       "<div><div style = \"float: left;\"><span>9×7 DataFrame</span></div><div style = \"clear: both;\"></div></div><div class = \"data-frame\" style = \"overflow-x: scroll;\"><table class = \"data-frame\" style = \"margin-bottom: 6px;\"><thead><tr class = \"header\"><th class = \"rowNumber\" style = \"font-weight: bold; text-align: right;\">Row</th><th style = \"text-align: left;\">variable</th><th style = \"text-align: left;\">mean</th><th style = \"text-align: left;\">min</th><th style = \"text-align: left;\">median</th><th style = \"text-align: left;\">max</th><th style = \"text-align: left;\">nmissing</th><th style = \"text-align: left;\">eltype</th></tr><tr class = \"subheader headerLastRow\"><th class = \"rowNumber\" style = \"font-weight: bold; text-align: right;\"></th><th title = \"Symbol\" style = \"text-align: left;\">Symbol</th><th title = \"Union{Nothing, Float64}\" style = \"text-align: left;\">Union…</th><th title = \"Any\" style = \"text-align: left;\">Any</th><th title = \"Union{Nothing, Float64}\" style = \"text-align: left;\">Union…</th><th title = \"Any\" style = \"text-align: left;\">Any</th><th title = \"Int64\" style = \"text-align: left;\">Int64</th><th title = \"DataType\" style = \"text-align: left;\">DataType</th></tr></thead><tbody><tr><td class = \"rowNumber\" style = \"font-weight: bold; text-align: right;\">1</td><td style = \"text-align: left;\">preg</td><td style = \"text-align: left;\">3.84505</td><td style = \"text-align: left;\">0.0</td><td style = \"text-align: left;\">3.0</td><td style = \"text-align: left;\">17.0</td><td style = \"text-align: right;\">0</td><td style = \"text-align: left;\">Float64</td></tr><tr><td class = \"rowNumber\" style = \"font-weight: bold; text-align: right;\">2</td><td style = \"text-align: left;\">plas</td><td style = \"text-align: left;\">120.895</td><td style = \"text-align: left;\">0.0</td><td style = \"text-align: left;\">117.0</td><td style = \"text-align: left;\">199.0</td><td style = \"text-align: right;\">0</td><td style = \"text-align: left;\">Float64</td></tr><tr><td class = \"rowNumber\" style = \"font-weight: bold; text-align: right;\">3</td><td style = \"text-align: left;\">pres</td><td style = \"text-align: left;\">69.1055</td><td style = \"text-align: left;\">0.0</td><td style = \"text-align: left;\">72.0</td><td style = \"text-align: left;\">122.0</td><td style = \"text-align: right;\">0</td><td style = \"text-align: left;\">Float64</td></tr><tr><td class = \"rowNumber\" style = \"font-weight: bold; text-align: right;\">4</td><td style = \"text-align: left;\">skin</td><td style = \"text-align: left;\">20.5365</td><td style = \"text-align: left;\">0.0</td><td style = \"text-align: left;\">23.0</td><td style = \"text-align: left;\">99.0</td><td style = \"text-align: right;\">0</td><td style = \"text-align: left;\">Float64</td></tr><tr><td class = \"rowNumber\" style = \"font-weight: bold; text-align: right;\">5</td><td style = \"text-align: left;\">insu</td><td style = \"text-align: left;\">79.7995</td><td style = \"text-align: left;\">0.0</td><td style = \"text-align: left;\">30.5</td><td style = \"text-align: left;\">846.0</td><td style = \"text-align: right;\">0</td><td style = \"text-align: left;\">Float64</td></tr><tr><td class = \"rowNumber\" style = \"font-weight: bold; text-align: right;\">6</td><td style = \"text-align: left;\">mass</td><td style = \"text-align: left;\">31.9926</td><td style = \"text-align: left;\">0.0</td><td style = \"text-align: left;\">32.0</td><td style = \"text-align: left;\">67.1</td><td style = \"text-align: right;\">0</td><td style = \"text-align: left;\">Float64</td></tr><tr><td class = \"rowNumber\" style = \"font-weight: bold; text-align: right;\">7</td><td style = \"text-align: left;\">pedi</td><td style = \"text-align: left;\">0.471876</td><td style = \"text-align: left;\">0.078</td><td style = \"text-align: left;\">0.3725</td><td style = \"text-align: left;\">2.42</td><td style = \"text-align: right;\">0</td><td style = \"text-align: left;\">Float64</td></tr><tr><td class = \"rowNumber\" style = \"font-weight: bold; text-align: right;\">8</td><td style = \"text-align: left;\">age</td><td style = \"text-align: left;\">33.2409</td><td style = \"text-align: left;\">21.0</td><td style = \"text-align: left;\">29.0</td><td style = \"text-align: left;\">81.0</td><td style = \"text-align: right;\">0</td><td style = \"text-align: left;\">Float64</td></tr><tr><td class = \"rowNumber\" style = \"font-weight: bold; text-align: right;\">9</td><td style = \"text-align: left;\">class</td><td style = \"font-style: italic; text-align: left;\"></td><td style = \"text-align: left;\">tested_negative</td><td style = \"font-style: italic; text-align: left;\"></td><td style = \"text-align: left;\">tested_positive</td><td style = \"text-align: right;\">0</td><td style = \"text-align: left;\">CategoricalValue{String, UInt32}</td></tr></tbody></table></div>"
      ],
      "text/latex": [
       "\\begin{tabular}{r|ccccccc}\n",
       "\t& variable & mean & min & median & max & nmissing & eltype\\\\\n",
       "\t\\hline\n",
       "\t& Symbol & Union… & Any & Union… & Any & Int64 & DataType\\\\\n",
       "\t\\hline\n",
       "\t1 & preg & 3.84505 & 0.0 & 3.0 & 17.0 & 0 & Float64 \\\\\n",
       "\t2 & plas & 120.895 & 0.0 & 117.0 & 199.0 & 0 & Float64 \\\\\n",
       "\t3 & pres & 69.1055 & 0.0 & 72.0 & 122.0 & 0 & Float64 \\\\\n",
       "\t4 & skin & 20.5365 & 0.0 & 23.0 & 99.0 & 0 & Float64 \\\\\n",
       "\t5 & insu & 79.7995 & 0.0 & 30.5 & 846.0 & 0 & Float64 \\\\\n",
       "\t6 & mass & 31.9926 & 0.0 & 32.0 & 67.1 & 0 & Float64 \\\\\n",
       "\t7 & pedi & 0.471876 & 0.078 & 0.3725 & 2.42 & 0 & Float64 \\\\\n",
       "\t8 & age & 33.2409 & 21.0 & 29.0 & 81.0 & 0 & Float64 \\\\\n",
       "\t9 & class &  & tested\\_negative &  & tested\\_positive & 0 & CategoricalValue\\{String, UInt32\\} \\\\\n",
       "\\end{tabular}\n"
      ],
      "text/plain": [
       "\u001b[1m9×7 DataFrame\u001b[0m\n",
       "\u001b[1m Row \u001b[0m│\u001b[1m variable \u001b[0m\u001b[1m mean     \u001b[0m\u001b[1m min             \u001b[0m\u001b[1m median \u001b[0m\u001b[1m max             \u001b[0m\u001b[1m nmissing \u001b[0m\u001b[1m\u001b[0m ⋯\n",
       "     │\u001b[90m Symbol   \u001b[0m\u001b[90m Union…   \u001b[0m\u001b[90m Any             \u001b[0m\u001b[90m Union… \u001b[0m\u001b[90m Any             \u001b[0m\u001b[90m Int64    \u001b[0m\u001b[90m\u001b[0m ⋯\n",
       "─────┼──────────────────────────────────────────────────────────────────────────\n",
       "   1 │ preg      3.84505   0.0              3.0     17.0                    0  ⋯\n",
       "   2 │ plas      120.895   0.0              117.0   199.0                   0\n",
       "   3 │ pres      69.1055   0.0              72.0    122.0                   0\n",
       "   4 │ skin      20.5365   0.0              23.0    99.0                    0\n",
       "   5 │ insu      79.7995   0.0              30.5    846.0                   0  ⋯\n",
       "   6 │ mass      31.9926   0.0              32.0    67.1                    0\n",
       "   7 │ pedi      0.471876  0.078            0.3725  2.42                    0\n",
       "   8 │ age       33.2409   21.0             29.0    81.0                    0\n",
       "   9 │ class    \u001b[90m          \u001b[0m tested_negative \u001b[90m        \u001b[0m tested_positive         0  ⋯\n",
       "\u001b[36m                                                                1 column omitted\u001b[0m"
      ]
     },
     "metadata": {},
     "output_type": "display_data"
    }
   ],
   "source": [
    "# show metadata\n",
    "print(\"size: \", size(dataset_shuffled))\n",
    "describe(dataset_shuffled)"
   ]
  },
  {
   "cell_type": "code",
   "execution_count": 7,
   "metadata": {},
   "outputs": [
    {
     "name": "stdout",
     "output_type": "stream",
     "text": [
      "train:test ratio = 8:2"
     ]
    }
   ],
   "source": [
    "# split into features and labels\n",
    "train_X = train_df[:, 1:end-1]\n",
    "train_Y = train_df[:, end]\n",
    "test_X = test_df[:, 1:end-1]\n",
    "test_Y = test_df[:, end]\n",
    "\n",
    "# print ratio train/test\n",
    "ratio = trunc(Int, 10.0 * (size(train_df)[1] / (size(train_df)[1] + size(test_df)[1])))\n",
    "print(\"train:test ratio = \", ratio , \":\", (10-ratio))"
   ]
  },
  {
   "attachments": {},
   "cell_type": "markdown",
   "metadata": {},
   "source": [
    "## 2. Defining grammar"
   ]
  },
  {
   "cell_type": "code",
   "execution_count": 8,
   "metadata": {},
   "outputs": [
    {
     "data": {
      "text/plain": [
       "1: START = Pipeline([CLASSIF])\n",
       "2: START = Pipeline([PRE, CLASSIF])\n",
       "3: PRE = PREPROC\n",
       "4: PRE = FSELECT\n",
       "5: PRE = (\"seq\", Pipeline([PRE, PRE]))\n",
       "6: PRE = (\"par\", FeatureUnion([PRE, PRE]))\n",
       "7: PREPROC = (\"StandardScaler\" * string(rand(Int)), StandardScaler())\n",
       "8: PREPROC = (\"RobustScaler\", RobustScaler())\n",
       "9: PREPROC = (\"MinMaxScaler\", MinMaxScaler())\n",
       "10: PREPROC = (\"MaxAbsScaler\", MaxAbsScaler())\n",
       "11: PREPROC = (\"PCA\", PCA())\n",
       "12: PREPROC = (\"Binarizer\", Binarizer())\n",
       "13: PREPROC = (\"PolynomialFeatures\", PolynomialFeatures())\n",
       "14: FSELECT = (\"VarianceThreshold\", VarianceThreshold())\n",
       "15: FSELECT = (\"SelectPercentile\", SelectPercentile())\n",
       "16: FSELECT = (\"SelectFwe\", SelectFwe())\n",
       "17: FSELECT = (\"Recursive Feature Elimination\", RFE(LinearSVC()))\n",
       "18: CLASSIF = (\"DecisionTree\", DecisionTreeClassifier())\n",
       "19: CLASSIF = (\"RandomForest\", RandomForestClassifier())\n",
       "20: CLASSIF = (\"Gradient Boosting Classifier\", GradientBoostingClassifier())\n",
       "21: CLASSIF = (\"LogisticRegression\", LogisticRegression())\n",
       "22: CLASSIF = (\"NearestNeighborClassifier\", NearestNeighbors())\n"
      ]
     },
     "metadata": {},
     "output_type": "display_data"
    }
   ],
   "source": [
    "grammar = Herb.HerbGrammar.@cfgrammar begin\n",
    "\n",
    "    # this is the version with multiple classifiers possible\n",
    "    # START   = CLASSIF | sequence(PRE, CLASSIF)\n",
    "    # PRE     = PREPROC | FSELECT | sequence(PRE, PRE) | parallel(BRANCH, BRANCH)\n",
    "    # BRANCH  = PRE | CLASSIF | sequence(PRE, CLASSIF) \n",
    "\n",
    "    # this is the version with only one classifier\n",
    "    START   = Pipeline([CLASSIF]) | Pipeline([PRE, CLASSIF])\n",
    "    PRE     = PREPROC | FSELECT | (\"seq\", Pipeline([PRE, PRE]))  | (\"par\", FeatureUnion([PRE, PRE])) \n",
    "\n",
    "    # preprocessing functions\n",
    "    PREPROC =   \n",
    "        (\"StandardScaler\" * string(rand(Int)), StandardScaler()) |\n",
    "        (\"RobustScaler\", RobustScaler()) |\n",
    "        (\"MinMaxScaler\", MinMaxScaler()) |\n",
    "        (\"MaxAbsScaler\", MaxAbsScaler()) |\n",
    "        (\"PCA\", PCA()) |\n",
    "        (\"Binarizer\", Binarizer()) |\n",
    "        (\"PolynomialFeatures\", PolynomialFeatures())\n",
    "\n",
    "    # feature selection functions\n",
    "    FSELECT =  \n",
    "        (\"VarianceThreshold\", VarianceThreshold()) |\n",
    "        # (\"SelectKBest\",  SelectKBest()) |\n",
    "        (\"SelectPercentile\",  SelectPercentile()) |\n",
    "        (\"SelectFwe\",  SelectFwe()) |\n",
    "        (\"Recursive Feature Elimination\",  RFE(LinearSVC())) \n",
    "\n",
    "    # classifiers\n",
    "    CLASSIF =\n",
    "        (\"DecisionTree\", DecisionTreeClassifier()) |\n",
    "        (\"RandomForest\", RandomForestClassifier()) |\n",
    "        (\"Gradient Boosting Classifier\", GradientBoostingClassifier()) |\n",
    "        (\"LogisticRegression\", LogisticRegression()) |\n",
    "        (\"NearestNeighborClassifier\", NearestNeighbors())\n",
    "end"
   ]
  },
  {
   "cell_type": "code",
   "execution_count": 9,
   "metadata": {},
   "outputs": [
    {
     "data": {
      "text/plain": [
       "insert_name_indexes (generic function with 1 method)"
      ]
     },
     "metadata": {},
     "output_type": "display_data"
    }
   ],
   "source": [
    "function insert_name_indexes(p)\n",
    "    p_start = \"\"\n",
    "    i = 1\n",
    "    while i <= 100\n",
    "        try\n",
    "            p = replace(p, \"\"\"\",\"\"\" => string(i)*\"\"\"\",\"\"\", count=1)\n",
    "            p_split = split(p, string(i) * \"\"\"\", \"\"\")\n",
    "            p_start *= p_split[1] * string(i) * \"\"\"\", \"\"\"\n",
    "            p = p_split[2]\n",
    "            i += 1\n",
    "        catch\n",
    "            break\n",
    "        end\n",
    "    end\n",
    "    return split(p_start, string(i))[1]\n",
    "end"
   ]
  },
  {
   "cell_type": "code",
   "execution_count": 10,
   "metadata": {},
   "outputs": [
    {
     "data": {
      "text/plain": [
       "get_random_pipeline (generic function with 1 method)"
      ]
     },
     "metadata": {},
     "output_type": "display_data"
    }
   ],
   "source": [
    "function get_random_pipeline(grammar, max_depth, start_symbol)\n",
    "    # all pipelines that can be assembled in max_depth steps\n",
    "    cfe = Herb.HerbSearch.ContextFreeEnumerator(grammar, max_depth, :START)\n",
    "    cfe_size = deepcopy(cfe)\n",
    "    \n",
    "    # find size\n",
    "    size = 0\n",
    "    for pipeline in cfe_size\n",
    "        size += 1\n",
    "    end\n",
    "\n",
    "    # Find start program\n",
    "    ret_pipeline = nothing\n",
    "    c = 0\n",
    "    i = abs(rand(Int) % size)\n",
    "    for pipeline in cfe\n",
    "        if c == i\n",
    "            ret_pipeline = pipeline\n",
    "            break\n",
    "        end\n",
    "        c = c + 1\n",
    "    end\n",
    "    return ret_pipeline\n",
    "end"
   ]
  },
  {
   "attachments": {},
   "cell_type": "markdown",
   "metadata": {},
   "source": [
    "## 3. Search"
   ]
  },
  {
   "cell_type": "code",
   "execution_count": 11,
   "metadata": {},
   "outputs": [
    {
     "data": {
      "text/plain": [
       "evaluate_pipeline"
      ]
     },
     "metadata": {},
     "output_type": "display_data"
    }
   ],
   "source": [
    "\"\"\"\n",
    "Fits the pipeline to the training set and measures the accuracy on test set.\n",
    "input:  pipeline, train_X, train_Y, test_X, test_Y\n",
    "output: accuracy of pipeline\n",
    "\"\"\"\n",
    "function evaluate_pipeline(pipeline, train_X, train_Y, test_X, test_Y)\n",
    "\n",
    "    # # this gives the following warning often, so it is suppressed for now.\n",
    "    # # ConvergenceWarning: lbfgs failed to converge\n",
    "    @suppress_err begin\n",
    "        try\n",
    "            # fit the pipeline\n",
    "            # print(pipeline)\n",
    "            # print(\" - \")\n",
    "            model = ScikitLearn.fit!(pipeline, Matrix(train_X), Array(train_Y))\n",
    "\n",
    "            # make predictions\n",
    "            predictions = ScikitLearn.predict(model, Matrix(test_X))\n",
    "\n",
    "            # measure the accuracy\n",
    "            accuracy = mean(predictions .== test_Y)\n",
    "            return accuracy\n",
    "        catch e\n",
    "            # println(\"Caught error [in evaluate_pipeline()]: \", e)\n",
    "            return 0.0\n",
    "        end\n",
    "    end\n",
    "end"
   ]
  },
  {
   "cell_type": "code",
   "execution_count": 12,
   "metadata": {},
   "outputs": [
    {
     "data": {
      "text/plain": [
       "pipeline_cost_function"
      ]
     },
     "metadata": {},
     "output_type": "display_data"
    }
   ],
   "source": [
    "\"\"\"Trains the pipeline and returns 1-accuracy\"\"\"\n",
    "function pipeline_cost_function(pipeline, train_X, train_Y, test_X, test_Y)\n",
    "    return 1.0 - evaluate_pipeline(pipeline, train_X, train_Y, test_X, test_Y)\n",
    "end"
   ]
  },
  {
   "cell_type": "code",
   "execution_count": 13,
   "metadata": {},
   "outputs": [
    {
     "data": {
      "text/plain": [
       "0.3116883116883117"
      ]
     },
     "metadata": {},
     "output_type": "display_data"
    }
   ],
   "source": [
    "test_pipeline = Pipeline([(\"DecisionTree\", DecisionTreeClassifier())])\n",
    "pipeline_cost_function(test_pipeline, train_X, train_Y, test_X, test_Y)"
   ]
  },
  {
   "cell_type": "code",
   "execution_count": 16,
   "metadata": {},
   "outputs": [
    {
     "data": {
      "text/plain": [
       "(2{3{11}20}, 0.8181818181818182)"
      ]
     },
     "metadata": {},
     "output_type": "display_data"
    }
   ],
   "source": [
    "using Random\n",
    "abstract type ExpressionIterator end\n",
    "\n",
    "\n",
    "# TreeNode definition.\n",
    "mutable struct TreeNode\n",
    "    state\n",
    "    visits::Int\n",
    "    wins::Float64\n",
    "    depth::Int\n",
    "    children::Array{TreeNode, 1}\n",
    "    parent::Union{TreeNode, Nothing}\n",
    "end\n",
    "\n",
    "# Create a new TreeNode.\n",
    "function TreeNode(state, depth, parent)\n",
    "    return TreeNode(state, 0, 0.0, depth, TreeNode[], parent)\n",
    "end\n",
    "\n",
    "# Select the child node with the highest UCT score.\n",
    "function select_child(node::TreeNode, c)\n",
    "    total_visits = sum(n.visits for n in values(node.children))\n",
    "    best_score = -Inf\n",
    "    best_child = nothing\n",
    "\n",
    "    for child in node.children\n",
    "        if child.visits == 0\n",
    "            score = Inf  # Set a high score for unvisited nodes\n",
    "        else\n",
    "            exploration_term = c * sqrt(log(total_visits) / child.visits)\n",
    "            score = child.wins / child.visits + exploration_term\n",
    "        end\n",
    "\n",
    "        if score > best_score\n",
    "            best_score = score\n",
    "            best_child = child\n",
    "        end\n",
    "    end\n",
    "\n",
    "    return best_child\n",
    "end\n",
    "\n",
    "# Expands a chosen node by adding all configurations as child nodes an picking one at random.\n",
    "function expand_node(node, grammar, mem)\n",
    "    # Checks in memory if the rules have already been enumerated once to save time.\n",
    "    if mem[node.depth+1] == nothing\n",
    "        enumerator = Herb.HerbSearch.ContextFreeEnumerator(grammar, node.depth+1, :START)\n",
    "        rules = []\n",
    "        for rule in enumerator\n",
    "            push!(rules, rule)\n",
    "        end\n",
    "        mem[node.depth+1] = rules\n",
    "        push!(mem, nothing)\n",
    "    else\n",
    "        rules = mem[node.depth+1]\n",
    "    end\n",
    "    \n",
    "    # Checks what the configuration of the current node is and filters out all configurations that do not match.\n",
    "    temp = [string(node.state.children[i])[1:end-1] for i in eachindex(node.state.children)]\n",
    "    filtered_rules = filter(x -> all(contains(string(x), s) for s in temp), rules)[2:end]\n",
    "    \n",
    "    # Create an array of child nodes and assign them to the current node.\n",
    "    child_nodes = TreeNode[]\n",
    "    for child in filtered_rules\n",
    "        push!(child_nodes , TreeNode(child, node.depth+1, node))\n",
    "    end\n",
    "    node.children = child_nodes\n",
    "    \n",
    "    return rand(node.children)\n",
    "end\n",
    "\n",
    "# The simulation step tries to evaluate a pipeline and returns its accuracy.\n",
    "function simulate(state)\n",
    "    accuracy = 0\n",
    "    try\n",
    "        #pipeline = eval(Herb.HerbSearch.rulenode2expr(state, grammar))\n",
    "        pipeline = eval(Meta.parse(insert_name_indexes(string(Herb.HerbSearch.rulenode2expr(state, grammar)))))\n",
    "        accuracy = evaluate_pipeline(pipeline, train_X, train_Y, test_X, test_Y)\n",
    "        #println(\"Accuracy: \", accuracy)\n",
    "    catch\n",
    "        accuracy = 0\n",
    "    end\n",
    "    return accuracy\n",
    "end\n",
    "\n",
    "# The backpropagation step updates the visits and wins fields of the given node and its parent node.\n",
    "function backpropagate(node::TreeNode, result)\n",
    "    while node != nothing\n",
    "        node.visits += 1\n",
    "        node.wins += result\n",
    "        node = node.parent\n",
    "    end\n",
    "end\n",
    "\n",
    "# Perform Monte Carlo Tree Search\n",
    "function mcts(max_iterations, grammar, c)\n",
    "    # Initialize the memory array for the memoization of certain configuration.\n",
    "    mem = []\n",
    "    push!(mem, nothing)\n",
    "    # Generate the root node.\n",
    "    root_node = select_initial_state(grammar, 2, :START, mem)\n",
    "    best_pipeline_score = 0 \n",
    "    best_pipeline_conf = nothing\n",
    "    for _ in 1:max_iterations\n",
    "        node = root_node\n",
    "        # Selection \n",
    "        while !isempty(node.children) \n",
    "            node = select_child(node, c)\n",
    "        end\n",
    "        # Expansion\n",
    "        if node.visits > 0\n",
    "            node = expand_node(node, grammar, mem)\n",
    "        end\n",
    "\n",
    "        # Simulation\n",
    "        reward = simulate(node.state)\n",
    "        if reward > best_pipeline_score\n",
    "            best_pipeline_score = reward\n",
    "            best_pipeline_conf = node.state\n",
    "        end\n",
    "\n",
    "        # Backpropagation\n",
    "        backpropagate(node, reward)\n",
    "    end\n",
    "    return best_pipeline_conf, best_pipeline_score\n",
    "end\n",
    "\n",
    "# Creates an inital state to use as a starting point for the algorithm. \n",
    "function select_initial_state(grammar, max_depth, start_symbol, mem)\n",
    "    initial_state = TreeNode(:EMPTY, 1, nothing)  # Create a root node with an empty symbol\n",
    "    # Expand the root node by adding the first layer of options\n",
    "    \n",
    "    child_nodes = TreeNode[]\n",
    "    enumerator = Herb.HerbSearch.ContextFreeEnumerator(grammar, max_depth, start_symbol)\n",
    "    rules = []\n",
    "    for expression in enumerator\n",
    "        child = TreeNode(expression, 2, initial_state)\n",
    "        push!(rules, expression)\n",
    "        push!(child_nodes, child)\n",
    "    end\n",
    "\n",
    "    push!(mem, rules)\n",
    "    push!(mem, nothing)\n",
    "\n",
    "    initial_state.children = child_nodes\n",
    "    \n",
    "    return initial_state\n",
    "end\n",
    "\n",
    "\n",
    "# Perform Monte Carlo Tree Search!\n",
    "best_pipeline = mcts(100, grammar, 1.42)"
   ]
  },
  {
   "cell_type": "code",
   "execution_count": 15,
   "metadata": {},
   "outputs": [
    {
     "data": {
      "text/plain": [
       "expand_node (generic function with 2 methods)"
      ]
     },
     "metadata": {},
     "output_type": "display_data"
    }
   ],
   "source": [
    "function expand_node(node, grammar)\n",
    "    if mem[node.depth+1] == nothing\n",
    "        enumerator = Herb.HerbSearch.ContextFreeEnumerator(grammar, node.depth+1, :START)\n",
    "        rules = []\n",
    "        for rule in enumerator\n",
    "            push!(rules, rule)\n",
    "        end\n",
    "        mem[node.depth+1] = rules\n",
    "        push!(mem, nothing)\n",
    "    else\n",
    "        rules = mem[node.depth+1]\n",
    "    end\n",
    "    \n",
    "    temp = [string(node.state.children[i])[1:end-1] for i in eachindex(node.state.children)]\n",
    "    #println(temp)\n",
    "    filtered_rules = filter(x -> all(contains(string(x), s) for s in temp), rules)[2:end]\n",
    "    #println(filtered_rules)\n",
    "    child_nodes = TreeNode[]\n",
    "    for child in filtered_rules\n",
    "        push!(child_nodes , TreeNode(child, node.depth+1, node))\n",
    "    end\n",
    "    #println(child_nodes)\n",
    "    node.children = child_nodes\n",
    "    \n",
    "    return rand(node.children)\n",
    "end\n",
    "\n",
    "#test_node = TreeNode(depth2, 2, nothing)\n",
    "\n",
    "#2{3{11}19}\n",
    "#depth2 = best_pipeline[1]\n",
    "#depth3 = node\n",
    "#depth4 = node\n",
    "#depth5 = node\n",
    "#node = expand_node(depth5, grammar)\n",
    "\n",
    "\n"
   ]
  }
 ],
 "metadata": {
  "kernelspec": {
   "display_name": "Julia 1.8.5",
   "language": "julia",
   "name": "julia-1.8"
  },
  "language_info": {
   "file_extension": ".jl",
   "mimetype": "application/julia",
   "name": "julia",
   "version": "1.8.5"
  },
  "orig_nbformat": 4
 },
 "nbformat": 4,
 "nbformat_minor": 2
}
