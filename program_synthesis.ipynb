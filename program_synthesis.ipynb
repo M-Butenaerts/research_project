{
 "cells": [
  {
   "attachments": {},
   "cell_type": "markdown",
   "metadata": {},
   "source": [
    "# Full notebook\n",
    "This notebook has the whole process put together:\n",
    "1. Loading dataset\n",
    "2. Defining grammar\n",
    "3. Searching through the grammar and evaluating candidate pipelines"
   ]
  },
  {
   "attachments": {},
   "cell_type": "markdown",
   "metadata": {},
   "source": [
    "## 0. Imports"
   ]
  },
  {
   "cell_type": "code",
   "execution_count": 3,
   "metadata": {},
   "outputs": [],
   "source": [
    "# uncomment the following if not all packages are added.\n",
    "\n",
    "# import Pkg\n",
    "# using Pkg\n",
    "# Pkg.add(\"HTTP\")\n",
    "# Pkg.add(\"JSON\")\n",
    "# Pkg.add(\"DataFrames\")\n",
    "# Pkg.add(\"OpenML\")\n",
    "# Pkg.add(\"DataFrames\") \n",
    "# Pkg.add(\"CSV\") \n",
    "# Pkg.add(\"Suppressor\")\n",
    "# Pkg.add(\"StatsBase\")"
   ]
  },
  {
   "cell_type": "code",
   "execution_count": 1,
   "metadata": {},
   "outputs": [
    {
     "data": {
      "text/plain": [
       "get_class_type_dataset (generic function with 1 method)"
      ]
     },
     "metadata": {},
     "output_type": "display_data"
    }
   ],
   "source": [
    "using ScikitLearn\n",
    "using ScikitLearn.Pipelines: Pipeline, FeatureUnion\n",
    "using ScikitLearn.CrossValidation: cross_val_score\n",
    "using XGBoost\n",
    "using Revise\n",
    "using Random\n",
    "using Statistics: mean\n",
    "using ExprRules: get_executable\n",
    "using Suppressor\n",
    "\n",
    "include(\"./Herb.jl/src/Herb.jl\")\n",
    "include(\"./Herb.jl/HerbGrammar.jl/src/HerbGrammar.jl\")\n",
    "include(\"./Herb.jl/HerbData.jl/src/HerbData.jl\")\n",
    "include(\"./Herb.jl/HerbEvaluation.jl/src/HerbEvaluation.jl\")\n",
    "include(\"./Herb.jl/HerbConstraints.jl/src/HerbConstraints.jl\")\n",
    "include(\"./Herb.jl/HerbSearch.jl/src/HerbSearch.jl\")\n",
    "include(\"helper.jl\")"
   ]
  },
  {
   "cell_type": "code",
   "execution_count": 2,
   "metadata": {},
   "outputs": [
    {
     "data": {
      "text/plain": [
       "PyObject <class 'sklearn.svm._classes.LinearSVC'>"
      ]
     },
     "metadata": {},
     "output_type": "display_data"
    }
   ],
   "source": [
    "# import the sk-learn functions\n",
    "@sk_import decomposition: (PCA)\n",
    "@sk_import preprocessing: (StandardScaler, RobustScaler, MinMaxScaler, MaxAbsScaler, Binarizer, PolynomialFeatures)\n",
    "@sk_import feature_selection: (VarianceThreshold, SelectKBest, SelectPercentile, SelectFwe, RFE)\n",
    "@sk_import tree: (DecisionTreeClassifier)\n",
    "@sk_import ensemble: (RandomForestClassifier, GradientBoostingClassifier)\n",
    "@sk_import linear_model: (LogisticRegression)\n",
    "@sk_import neighbors: (NearestNeighbors)\n",
    "@sk_import svm: (LinearSVC)"
   ]
  },
  {
   "attachments": {},
   "cell_type": "markdown",
   "metadata": {},
   "source": [
    "## 1. Loading datasets"
   ]
  },
  {
   "cell_type": "code",
   "execution_count": 31,
   "metadata": {},
   "outputs": [
    {
     "data": {
      "text/html": [
       "<div><div style = \"float: left;\"><span>5×5 DataFrame</span></div><div style = \"clear: both;\"></div></div><div class = \"data-frame\" style = \"overflow-x: scroll;\"><table class = \"data-frame\" style = \"margin-bottom: 6px;\"><thead><tr class = \"header\"><th class = \"rowNumber\" style = \"font-weight: bold; text-align: right;\">Row</th><th style = \"text-align: left;\">sepallength</th><th style = \"text-align: left;\">sepalwidth</th><th style = \"text-align: left;\">petallength</th><th style = \"text-align: left;\">petalwidth</th><th style = \"text-align: left;\">class</th></tr><tr class = \"subheader headerLastRow\"><th class = \"rowNumber\" style = \"font-weight: bold; text-align: right;\"></th><th title = \"Float64\" style = \"text-align: left;\">Float64</th><th title = \"Float64\" style = \"text-align: left;\">Float64</th><th title = \"Float64\" style = \"text-align: left;\">Float64</th><th title = \"Float64\" style = \"text-align: left;\">Float64</th><th title = \"CategoricalArrays.CategoricalValue{String, UInt32}\" style = \"text-align: left;\">Cat…</th></tr></thead><tbody><tr><td class = \"rowNumber\" style = \"font-weight: bold; text-align: right;\">1</td><td style = \"text-align: right;\">6.2</td><td style = \"text-align: right;\">2.9</td><td style = \"text-align: right;\">4.3</td><td style = \"text-align: right;\">1.3</td><td style = \"text-align: left;\">Iris-versicolor</td></tr><tr><td class = \"rowNumber\" style = \"font-weight: bold; text-align: right;\">2</td><td style = \"text-align: right;\">5.4</td><td style = \"text-align: right;\">3.4</td><td style = \"text-align: right;\">1.5</td><td style = \"text-align: right;\">0.4</td><td style = \"text-align: left;\">Iris-setosa</td></tr><tr><td class = \"rowNumber\" style = \"font-weight: bold; text-align: right;\">3</td><td style = \"text-align: right;\">5.2</td><td style = \"text-align: right;\">2.7</td><td style = \"text-align: right;\">3.9</td><td style = \"text-align: right;\">1.4</td><td style = \"text-align: left;\">Iris-versicolor</td></tr><tr><td class = \"rowNumber\" style = \"font-weight: bold; text-align: right;\">4</td><td style = \"text-align: right;\">5.6</td><td style = \"text-align: right;\">3.0</td><td style = \"text-align: right;\">4.1</td><td style = \"text-align: right;\">1.3</td><td style = \"text-align: left;\">Iris-versicolor</td></tr><tr><td class = \"rowNumber\" style = \"font-weight: bold; text-align: right;\">5</td><td style = \"text-align: right;\">6.3</td><td style = \"text-align: right;\">3.3</td><td style = \"text-align: right;\">4.7</td><td style = \"text-align: right;\">1.6</td><td style = \"text-align: left;\">Iris-versicolor</td></tr></tbody></table></div>"
      ],
      "text/latex": [
       "\\begin{tabular}{r|ccccc}\n",
       "\t& sepallength & sepalwidth & petallength & petalwidth & class\\\\\n",
       "\t\\hline\n",
       "\t& Float64 & Float64 & Float64 & Float64 & Cat…\\\\\n",
       "\t\\hline\n",
       "\t1 & 6.2 & 2.9 & 4.3 & 1.3 & Iris-versicolor \\\\\n",
       "\t2 & 5.4 & 3.4 & 1.5 & 0.4 & Iris-setosa \\\\\n",
       "\t3 & 5.2 & 2.7 & 3.9 & 1.4 & Iris-versicolor \\\\\n",
       "\t4 & 5.6 & 3.0 & 4.1 & 1.3 & Iris-versicolor \\\\\n",
       "\t5 & 6.3 & 3.3 & 4.7 & 1.6 & Iris-versicolor \\\\\n",
       "\\end{tabular}\n"
      ],
      "text/plain": [
       "\u001b[1m5×5 DataFrame\u001b[0m\n",
       "\u001b[1m Row \u001b[0m│\u001b[1m sepallength \u001b[0m\u001b[1m sepalwidth \u001b[0m\u001b[1m petallength \u001b[0m\u001b[1m petalwidth \u001b[0m\u001b[1m class           \u001b[0m\n",
       "     │\u001b[90m Float64     \u001b[0m\u001b[90m Float64    \u001b[0m\u001b[90m Float64     \u001b[0m\u001b[90m Float64    \u001b[0m\u001b[90m Cat…            \u001b[0m\n",
       "─────┼───────────────────────────────────────────────────────────────────\n",
       "   1 │         6.2         2.9          4.3         1.3  Iris-versicolor\n",
       "   2 │         5.4         3.4          1.5         0.4  Iris-setosa\n",
       "   3 │         5.2         2.7          3.9         1.4  Iris-versicolor\n",
       "   4 │         5.6         3.0          4.1         1.3  Iris-versicolor\n",
       "   5 │         6.3         3.3          4.7         1.6  Iris-versicolor"
      ]
     },
     "metadata": {},
     "output_type": "display_data"
    }
   ],
   "source": [
    "# load dataset\n",
    "dataset = get_dataset(61)\n",
    "\n",
    "# it does not work for the seeds table dataset!\n",
    "# dataset = get_dataset(1499)\n",
    "\n",
    "# does not work either on dataset 1464!\n",
    "\n",
    "# shuffle the dataset\n",
    "dataset_shuffled = dataset[shuffle(1:end), :]\n",
    "\n",
    "# split into train and test sets (90:10)\n",
    "split_index = floor(Int, size(dataset_shuffled, 1) * 0.90)\n",
    "train_df = dataset_shuffled[1:split_index, :]\n",
    "test_df = dataset_shuffled[split_index+1:end, :]\n",
    "\n",
    "# show first five entries\n",
    "first(dataset_shuffled, 5)"
   ]
  },
  {
   "cell_type": "code",
   "execution_count": 32,
   "metadata": {},
   "outputs": [
    {
     "name": "stdout",
     "output_type": "stream",
     "text": [
      "size: (150, 5)"
     ]
    },
    {
     "data": {
      "text/html": [
       "<div><div style = \"float: left;\"><span>5×7 DataFrame</span></div><div style = \"clear: both;\"></div></div><div class = \"data-frame\" style = \"overflow-x: scroll;\"><table class = \"data-frame\" style = \"margin-bottom: 6px;\"><thead><tr class = \"header\"><th class = \"rowNumber\" style = \"font-weight: bold; text-align: right;\">Row</th><th style = \"text-align: left;\">variable</th><th style = \"text-align: left;\">mean</th><th style = \"text-align: left;\">min</th><th style = \"text-align: left;\">median</th><th style = \"text-align: left;\">max</th><th style = \"text-align: left;\">nmissing</th><th style = \"text-align: left;\">eltype</th></tr><tr class = \"subheader headerLastRow\"><th class = \"rowNumber\" style = \"font-weight: bold; text-align: right;\"></th><th title = \"Symbol\" style = \"text-align: left;\">Symbol</th><th title = \"Union{Nothing, Float64}\" style = \"text-align: left;\">Union…</th><th title = \"Any\" style = \"text-align: left;\">Any</th><th title = \"Union{Nothing, Float64}\" style = \"text-align: left;\">Union…</th><th title = \"Any\" style = \"text-align: left;\">Any</th><th title = \"Int64\" style = \"text-align: left;\">Int64</th><th title = \"DataType\" style = \"text-align: left;\">DataType</th></tr></thead><tbody><tr><td class = \"rowNumber\" style = \"font-weight: bold; text-align: right;\">1</td><td style = \"text-align: left;\">sepallength</td><td style = \"text-align: left;\">5.84333</td><td style = \"text-align: left;\">4.3</td><td style = \"text-align: left;\">5.8</td><td style = \"text-align: left;\">7.9</td><td style = \"text-align: right;\">0</td><td style = \"text-align: left;\">Float64</td></tr><tr><td class = \"rowNumber\" style = \"font-weight: bold; text-align: right;\">2</td><td style = \"text-align: left;\">sepalwidth</td><td style = \"text-align: left;\">3.054</td><td style = \"text-align: left;\">2.0</td><td style = \"text-align: left;\">3.0</td><td style = \"text-align: left;\">4.4</td><td style = \"text-align: right;\">0</td><td style = \"text-align: left;\">Float64</td></tr><tr><td class = \"rowNumber\" style = \"font-weight: bold; text-align: right;\">3</td><td style = \"text-align: left;\">petallength</td><td style = \"text-align: left;\">3.75867</td><td style = \"text-align: left;\">1.0</td><td style = \"text-align: left;\">4.35</td><td style = \"text-align: left;\">6.9</td><td style = \"text-align: right;\">0</td><td style = \"text-align: left;\">Float64</td></tr><tr><td class = \"rowNumber\" style = \"font-weight: bold; text-align: right;\">4</td><td style = \"text-align: left;\">petalwidth</td><td style = \"text-align: left;\">1.19867</td><td style = \"text-align: left;\">0.1</td><td style = \"text-align: left;\">1.3</td><td style = \"text-align: left;\">2.5</td><td style = \"text-align: right;\">0</td><td style = \"text-align: left;\">Float64</td></tr><tr><td class = \"rowNumber\" style = \"font-weight: bold; text-align: right;\">5</td><td style = \"text-align: left;\">class</td><td style = \"font-style: italic; text-align: left;\"></td><td style = \"text-align: left;\">Iris-setosa</td><td style = \"font-style: italic; text-align: left;\"></td><td style = \"text-align: left;\">Iris-virginica</td><td style = \"text-align: right;\">0</td><td style = \"text-align: left;\">CategoricalValue{String, UInt32}</td></tr></tbody></table></div>"
      ],
      "text/latex": [
       "\\begin{tabular}{r|ccccccc}\n",
       "\t& variable & mean & min & median & max & nmissing & eltype\\\\\n",
       "\t\\hline\n",
       "\t& Symbol & Union… & Any & Union… & Any & Int64 & DataType\\\\\n",
       "\t\\hline\n",
       "\t1 & sepallength & 5.84333 & 4.3 & 5.8 & 7.9 & 0 & Float64 \\\\\n",
       "\t2 & sepalwidth & 3.054 & 2.0 & 3.0 & 4.4 & 0 & Float64 \\\\\n",
       "\t3 & petallength & 3.75867 & 1.0 & 4.35 & 6.9 & 0 & Float64 \\\\\n",
       "\t4 & petalwidth & 1.19867 & 0.1 & 1.3 & 2.5 & 0 & Float64 \\\\\n",
       "\t5 & class &  & Iris-setosa &  & Iris-virginica & 0 & CategoricalValue\\{String, UInt32\\} \\\\\n",
       "\\end{tabular}\n"
      ],
      "text/plain": [
       "\u001b[1m5×7 DataFrame\u001b[0m\n",
       "\u001b[1m Row \u001b[0m│\u001b[1m variable    \u001b[0m\u001b[1m mean    \u001b[0m\u001b[1m min         \u001b[0m\u001b[1m median \u001b[0m\u001b[1m max            \u001b[0m\u001b[1m nmissing \u001b[0m\u001b[1m el\u001b[0m ⋯\n",
       "     │\u001b[90m Symbol      \u001b[0m\u001b[90m Union…  \u001b[0m\u001b[90m Any         \u001b[0m\u001b[90m Union… \u001b[0m\u001b[90m Any            \u001b[0m\u001b[90m Int64    \u001b[0m\u001b[90m Da\u001b[0m ⋯\n",
       "─────┼──────────────────────────────────────────────────────────────────────────\n",
       "   1 │ sepallength  5.84333  4.3          5.8     7.9                    0  Fl ⋯\n",
       "   2 │ sepalwidth   3.054    2.0          3.0     4.4                    0  Fl\n",
       "   3 │ petallength  3.75867  1.0          4.35    6.9                    0  Fl\n",
       "   4 │ petalwidth   1.19867  0.1          1.3     2.5                    0  Fl\n",
       "   5 │ class       \u001b[90m         \u001b[0m Iris-setosa \u001b[90m        \u001b[0m Iris-virginica         0  Ca ⋯\n",
       "\u001b[36m                                                                1 column omitted\u001b[0m"
      ]
     },
     "metadata": {},
     "output_type": "display_data"
    }
   ],
   "source": [
    "# show metadata\n",
    "print(\"size: \", size(dataset_shuffled))\n",
    "describe(dataset_shuffled)"
   ]
  },
  {
   "cell_type": "code",
   "execution_count": 33,
   "metadata": {},
   "outputs": [
    {
     "name": "stdout",
     "output_type": "stream",
     "text": [
      "train:test ratio = 2:8"
     ]
    }
   ],
   "source": [
    "# split into features and labels\n",
    "train_X = train_df[:, 1:end-1]\n",
    "train_Y = train_df[:, end]\n",
    "test_X = test_df[:, 1:end-1]\n",
    "test_Y = test_df[:, end]\n",
    "\n",
    "# print ratio train/test\n",
    "ratio = trunc(Int, 10.0 * (size(train_df)[1] / (size(train_df)[1] + size(test_df)[1])))\n",
    "print(\"train:test ratio = \", ratio , \":\", (10-ratio))"
   ]
  },
  {
   "attachments": {},
   "cell_type": "markdown",
   "metadata": {},
   "source": [
    "## 2. Defining grammar"
   ]
  },
  {
   "cell_type": "code",
   "execution_count": 34,
   "metadata": {},
   "outputs": [
    {
     "data": {
      "text/plain": [
       "1: START = Pipeline([CLASSIF])\n",
       "2: START = Pipeline([PRE, CLASSIF])\n",
       "3: PRE = PREPROC\n",
       "4: PRE = FSELECT\n",
       "5: PRE = (\"seq\", Pipeline([PRE, PRE]))\n",
       "6: PRE = (\"par\", FeatureUnion([PRE, PRE]))\n",
       "7: PREPROC = (\"StandardScaler\", StandardScaler())\n",
       "8: PREPROC = (\"RobustScaler\", RobustScaler())\n",
       "9: PREPROC = (\"MinMaxScaler\", MinMaxScaler())\n",
       "10: PREPROC = (\"MaxAbsScaler\", MaxAbsScaler())\n",
       "11: PREPROC = (\"PCA\", PCA())\n",
       "12: PREPROC = (\"Binarizer\", Binarizer())\n",
       "13: PREPROC = (\"PolynomialFeatures\", PolynomialFeatures())\n",
       "14: FSELECT = (\"VarianceThreshold\", VarianceThreshold())\n",
       "15: FSELECT = (\"SelectPercentile\", SelectPercentile())\n",
       "16: FSELECT = (\"SelectFwe\", SelectFwe())\n",
       "17: FSELECT = (\"Recursive Feature Elimination\", RFE(LinearSVC()))\n",
       "18: CLASSIF = (\"DecisionTree\", DecisionTreeClassifier())\n",
       "19: CLASSIF = (\"RandomForest\", RandomForestClassifier())\n",
       "20: CLASSIF = (\"Gradient Boosting Classifier\", GradientBoostingClassifier())\n",
       "21: CLASSIF = (\"LogisticRegression\", LogisticRegression())\n",
       "22: CLASSIF = (\"NearestNeighborClassifier\", NearestNeighbors())\n"
      ]
     },
     "metadata": {},
     "output_type": "display_data"
    }
   ],
   "source": [
    "grammar = Herb.HerbGrammar.@cfgrammar begin\n",
    "\n",
    "    # this is the version with multiple classifiers possible\n",
    "    # START   = CLASSIF | sequence(PRE, CLASSIF)\n",
    "    # PRE     = PREPROC | FSELECT | sequence(PRE, PRE) | parallel(BRANCH, BRANCH)\n",
    "    # BRANCH  = PRE | CLASSIF | sequence(PRE, CLASSIF) \n",
    "\n",
    "    # this is the version with only one classifier\n",
    "    START   = Pipeline([CLASSIF]) | Pipeline([PRE, CLASSIF])\n",
    "    PRE     = PREPROC | FSELECT | (\"seq\", Pipeline([PRE, PRE]))  | (\"par\", FeatureUnion([PRE, PRE])) \n",
    "\n",
    "    # preprocessing functions\n",
    "    PREPROC =   \n",
    "        (\"StandardScaler\", StandardScaler()) |\n",
    "        (\"RobustScaler\", RobustScaler()) |\n",
    "        (\"MinMaxScaler\", MinMaxScaler()) |\n",
    "        (\"MaxAbsScaler\", MaxAbsScaler()) |\n",
    "        (\"PCA\", PCA()) |\n",
    "        (\"Binarizer\", Binarizer()) |\n",
    "        (\"PolynomialFeatures\", PolynomialFeatures())\n",
    "\n",
    "    # feature selection functions\n",
    "    FSELECT =  \n",
    "        (\"VarianceThreshold\", VarianceThreshold()) |\n",
    "        # (\"SelectKBest\",  SelectKBest()) |\n",
    "        (\"SelectPercentile\",  SelectPercentile()) |\n",
    "        (\"SelectFwe\",  SelectFwe()) |\n",
    "        (\"Recursive Feature Elimination\",  RFE(LinearSVC())) \n",
    "\n",
    "    # classifiers\n",
    "    CLASSIF =\n",
    "        (\"DecisionTree\", DecisionTreeClassifier()) |\n",
    "        (\"RandomForest\", RandomForestClassifier()) |\n",
    "        (\"Gradient Boosting Classifier\", GradientBoostingClassifier()) |\n",
    "        (\"LogisticRegression\", LogisticRegression()) |\n",
    "        (\"NearestNeighborClassifier\", NearestNeighbors())\n",
    "end\n"
   ]
  },
  {
   "cell_type": "code",
   "execution_count": 43,
   "metadata": {},
   "outputs": [
    {
     "name": "stdout",
     "output_type": "stream",
     "text": [
      "Pipeline([(\"SelectFwe\", SelectFwe()), (\"DecisionTree\", DecisionTreeClassifier())])\n",
      "2{4{16}18}\n",
      "2{4{16}18}"
     ]
    }
   ],
   "source": [
    "# print out all pipelines that can be assembled in two steps\n",
    "cfe_print = Herb.HerbSearch.ContextFreeEnumerator(grammar, 4, :START)\n",
    "\n",
    "# Start programm vinden\n",
    "pl = nothing\n",
    "c = 0\n",
    "for rule in cfe_print\n",
    "    c = c + 1\n",
    "    if c == 51\n",
    "        pl = rule\n",
    "        println(Herb.HerbSearch.rulenode2expr(rule, grammar))\n",
    "        println(pl)\n",
    "        break\n",
    "    end\n",
    "end\n",
    "pl1 = pl\n",
    "print(pl1)"
   ]
  },
  {
   "cell_type": "code",
   "execution_count": 44,
   "metadata": {},
   "outputs": [
    {
     "data": {
      "text/plain": [
       "find_best_neighbour_in_neighbourhood (generic function with 1 method)"
      ]
     },
     "metadata": {},
     "output_type": "display_data"
    }
   ],
   "source": [
    "function vlns(grammar, enumeration_depth)\n",
    "    current_program = pl1\n",
    "    i = 0\n",
    "    while i < 5\n",
    "        current_program, current_cost = find_best_neighbour_in_neighbourhood(current_program, grammar, enumeration_depth)\n",
    "        i += 1\n",
    "    end\n",
    "    current_program_cost = pipeline_cost_function(eval(Herb.HerbSearch.rulenode2expr(current_program, grammar)), train_X, train_Y, test_X, test_Y)\n",
    "    println(\"final program: \", current_program)\n",
    "    println(\"final cost: \", current_program_cost)\n",
    "    return current_program, current_program_cost\n",
    "end\n",
    "    \n",
    "\n",
    "function find_best_neighbour_in_neighbourhood(current_program, grammar, enumeration_depth)\n",
    "    println(\"Start vlns iteration\")\n",
    "    println(\"current_program = \", current_program)\n",
    "    println(\"current_cost = \", pipeline_cost_function(eval(Herb.HerbSearch.rulenode2expr(current_program, grammar)), train_X, train_Y, test_X, test_Y))\n",
    "    # 1. Construct neighbourhood\n",
    "    neighbourhood_node_loc, dict = Herb.HerbSearch.constructNeighbourhoodRuleSubset(current_program, grammar)\n",
    "    replacement_expressions = Herb.HerbSearch.enumerate_neighbours_propose(enumeration_depth)(current_program, \n",
    "                                                                                                neighbourhood_node_loc, \n",
    "                                                                                                grammar,\n",
    "                                                                                                3, \n",
    "                                                                                                dict)\n",
    "    for replacement_expression in replacement_expressions\n",
    "        # println(\"replacement expression: \", replacement_expression)\n",
    "    end\n",
    "    # 2. Find best neighbour\n",
    "    best_program = deepcopy(current_program)\n",
    "    best_program_cost = pipeline_cost_function(eval(Herb.HerbSearch.rulenode2expr(best_program, grammar)), train_X, train_Y, test_X, test_Y)\n",
    "    possible_program = current_program\n",
    "    for replacement_expression in replacement_expressions\n",
    "        # change current_program to one of its neighbours \n",
    "        if neighbourhood_node_loc.i == 0\n",
    "            possible_program = replacement_expression\n",
    "        else\n",
    "            neighbourhood_node_loc.parent.children[neighbourhood_node_loc.i] = replacement_expression\n",
    "        end\n",
    "        possible_program_cost = pipeline_cost_function(eval(Herb.HerbSearch.rulenode2expr(possible_program, grammar)), train_X, train_Y, test_X, test_Y)\n",
    "        println(\"possible pipeline: \", possible_program)#Herb.HerbSearch.rulenode2expr(pl, grammar)) \n",
    "        println(\"possible pipeline cost: \", possible_program_cost)\n",
    "        if possible_program_cost < best_program_cost\n",
    "            println(\"Found a better pipeline!: \", possible_program)\n",
    "            best_program = deepcopy(current_program)\n",
    "            best_program_cost = possible_program_cost        \n",
    "        end\n",
    "    end\n",
    "    println(\"Finished vlns iteration\")\n",
    "    println(\"best_program = \", best_program)\n",
    "    println(\"best_cost = \", best_program_cost)\n",
    "    println()\n",
    "    return best_program, best_program_cost\n",
    "end"
   ]
  },
  {
   "cell_type": "code",
   "execution_count": 45,
   "metadata": {},
   "outputs": [
    {
     "name": "stdout",
     "output_type": "stream",
     "text": [
      "Start vlns iteration\n",
      "current_program = 2{4{16}18}\n",
      "current_cost = 0.050000000000000044\n",
      "possible pipeline: 2{4{17}18}\n",
      "possible pipeline cost: 0.050000000000000044\n",
      "possible pipeline: 2{3{13}18}\n",
      "possible pipeline cost: 0.050000000000000044\n",
      "possible pipeline: 2{3{10}18}\n",
      "possible pipeline cost: 0.050000000000000044\n",
      "possible pipeline: 2{3{9}18}\n",
      "possible pipeline cost: 0.050000000000000044\n",
      "possible pipeline: 2{3{8}18}\n",
      "possible pipeline cost: 0.050000000000000044\n",
      "possible pipeline: 2{3{7}18}\n",
      "possible pipeline cost: 0.050000000000000044\n",
      "possible pipeline: 2{3{12}18}\n",
      "possible pipeline cost: 0.6916666666666667\n",
      "possible pipeline: 2{4{16}18}\n",
      "possible pipeline cost: 0.050000000000000044\n",
      "possible pipeline: 2{3{11}18}\n",
      "possible pipeline cost: 0.1166666666666667\n",
      "possible pipeline: 2{4{15}18}\n",
      "possible pipeline cost: 0.050000000000000044\n",
      "possible pipeline: 2{4{14}18}\n",
      "possible pipeline cost: 0.050000000000000044\n",
      "Finished vlns iteration\n",
      "best_program = 2{4{16}18}\n",
      "best_cost = 0.050000000000000044\n",
      "\n",
      "Start vlns iteration\n",
      "current_program = 2{4{16}18}\n",
      "current_cost = 0.050000000000000044\n",
      "possible pipeline: 2{4{14}18}\n",
      "possible pipeline cost: 0.050000000000000044\n",
      "possible pipeline: 2{4{17}18}\n",
      "possible pipeline cost: 0.050000000000000044\n",
      "possible pipeline: 2{4{16}18}\n",
      "possible pipeline cost: 0.050000000000000044\n",
      "possible pipeline: 2{4{15}18}\n",
      "possible pipeline cost: 0.050000000000000044\n",
      "Finished vlns iteration\n",
      "best_program = 2{4{16}18}\n",
      "best_cost = 0.050000000000000044\n",
      "\n",
      "Start vlns iteration\n",
      "current_program = 2{4{16}18}\n",
      "current_cost = 0.050000000000000044\n"
     ]
    },
    {
     "name": "stderr",
     "output_type": "stream",
     "text": [
      "C:\\Users\\aukes\\.julia\\conda\\3\\x86_64\\lib\\site-packages\\sklearn\\svm\\_base.py:1244: ConvergenceWarning: Liblinear failed to converge, increase the number of iterations.\r\n",
      "  warnings.warn(\r\n",
      "C:\\Users\\aukes\\.julia\\conda\\3\\x86_64\\lib\\site-packages\\sklearn\\svm\\_base.py:1244: ConvergenceWarning: Liblinear failed to converge, increase the number of iterations.\r\n",
      "  warnings.warn(\r\n",
      "C:\\Users\\aukes\\.julia\\conda\\3\\x86_64\\lib\\site-packages\\sklearn\\svm\\_base.py:1244: ConvergenceWarning: Liblinear failed to converge, increase the number of iterations.\r\n",
      "  warnings.warn(\r\n",
      "C:\\Users\\aukes\\.julia\\conda\\3\\x86_64\\lib\\site-packages\\sklearn\\svm\\_base.py:1244: ConvergenceWarning: Liblinear failed to converge, increase the number of iterations.\r\n",
      "  warnings.warn(\r\n"
     ]
    },
    {
     "name": "stdout",
     "output_type": "stream",
     "text": [
      "possible pipeline: 2{4{17}18}\n",
      "possible pipeline cost: 0.050000000000000044\n",
      "possible pipeline: 2{3{13}18}\n",
      "possible pipeline cost: 0.050000000000000044\n",
      "possible pipeline: 2{3{10}18}\n",
      "possible pipeline cost: 0.050000000000000044\n",
      "possible pipeline: 2{3{9}18}\n",
      "possible pipeline cost: 0.050000000000000044\n",
      "possible pipeline: 2{3{8}18}\n",
      "possible pipeline cost: 0.050000000000000044\n",
      "possible pipeline: 2{3{7}18}\n",
      "possible pipeline cost: 0.050000000000000044\n",
      "possible pipeline: 2{3{12}18}\n",
      "possible pipeline cost: 0.6916666666666667\n",
      "possible pipeline: 2{4{16}18}\n",
      "possible pipeline cost: 0.050000000000000044\n",
      "possible pipeline: 2{3{11}18}\n",
      "possible pipeline cost: 0.17500000000000004\n",
      "possible pipeline: 2{4{15}18}\n",
      "possible pipeline cost: 0.050000000000000044\n",
      "possible pipeline: 2{4{14}18}\n",
      "possible pipeline cost: 0.050000000000000044\n",
      "Finished vlns iteration\n",
      "best_program = 2{4{16}18}\n",
      "best_cost = 0.050000000000000044\n",
      "\n",
      "Start vlns iteration\n",
      "current_program = 2{4{16}18}\n",
      "current_cost = 0.050000000000000044\n",
      "Caught error [in evaluate_pipeline()]: KeyError(:predict)\n",
      "possible pipeline: 1{22}\n",
      "possible pipeline cost: 1.0"
     ]
    },
    {
     "name": "stderr",
     "output_type": "stream",
     "text": [
      "C:\\Users\\aukes\\.julia\\conda\\3\\x86_64\\lib\\site-packages\\sklearn\\svm\\_base.py:1244: ConvergenceWarning: Liblinear failed to converge, increase the number of iterations.\r\n",
      "  warnings.warn(\r\n"
     ]
    },
    {
     "name": "stdout",
     "output_type": "stream",
     "text": [
      "\n",
      "possible pipeline: 1{19}\n",
      "possible pipeline cost: 0.050000000000000044\n",
      "possible pipeline: 1{18}\n",
      "possible pipeline cost: 0.050000000000000044\n",
      "possible pipeline: 1{21}\n",
      "possible pipeline cost: 0.050000000000000044\n"
     ]
    },
    {
     "name": "stdout",
     "output_type": "stream",
     "text": [
      "possible pipeline: 1{20}\n",
      "possible pipeline cost: 0.050000000000000044\n",
      "Finished vlns iteration\n",
      "best_program = 2{4{16}18}\n",
      "best_cost = 0.050000000000000044\n",
      "\n",
      "Start vlns iteration\n",
      "current_program = 2{4{16}18}\n",
      "current_cost = 0.050000000000000044\n",
      "possible pipeline: 2{4{17}18}\n",
      "possible pipeline cost: 0.050000000000000044\n",
      "possible pipeline: 2{3{13}18}\n",
      "possible pipeline cost: 0.050000000000000044\n",
      "possible pipeline: 2{3{10}18}\n",
      "possible pipeline cost: 0.050000000000000044\n",
      "possible pipeline: 2{3{9}18}\n",
      "possible pipeline cost: 0.050000000000000044\n",
      "possible pipeline: 2{3{8}18}\n",
      "possible pipeline cost: 0.050000000000000044\n",
      "possible pipeline: 2{3{7}18}\n",
      "possible pipeline cost: 0.050000000000000044\n",
      "possible pipeline: 2{3{12}18}\n",
      "possible pipeline cost: 0.6916666666666667\n",
      "possible pipeline: 2{4{16}18}\n",
      "possible pipeline cost: 0.050000000000000044\n",
      "possible pipeline: 2{3{11}18}\n",
      "possible pipeline cost: 0.1166666666666667\n",
      "possible pipeline: 2{4{15}18}\n",
      "possible pipeline cost: 0.050000000000000044\n",
      "possible pipeline: 2{4{14}18}\n",
      "possible pipeline cost: 0.050000000000000044\n",
      "Finished vlns iteration\n",
      "best_program = 2{4{16}18}\n",
      "best_cost = 0.050000000000000044\n",
      "\n",
      "final program: 2{4{16}18}\n",
      "final cost: 0.050000000000000044\n"
     ]
    },
    {
     "name": "stderr",
     "output_type": "stream",
     "text": [
      "C:\\Users\\aukes\\.julia\\conda\\3\\x86_64\\lib\\site-packages\\sklearn\\svm\\_base.py:1244: ConvergenceWarning: Liblinear failed to converge, increase the number of iterations.\r\n",
      "  warnings.warn(\r\n",
      "C:\\Users\\aukes\\.julia\\conda\\3\\x86_64\\lib\\site-packages\\sklearn\\svm\\_base.py:1244: ConvergenceWarning: Liblinear failed to converge, increase the number of iterations.\r\n",
      "  warnings.warn(\r\n"
     ]
    },
    {
     "data": {
      "text/plain": [
       "(2{4{16}18}, 0.050000000000000044)"
      ]
     },
     "metadata": {},
     "output_type": "display_data"
    }
   ],
   "source": [
    "vlns(grammar, 2)"
   ]
  },
  {
   "attachments": {},
   "cell_type": "markdown",
   "metadata": {},
   "source": [
    "## 3. Search"
   ]
  },
  {
   "cell_type": "code",
   "execution_count": 25,
   "metadata": {},
   "outputs": [
    {
     "data": {
      "text/plain": [
       "evaluate_pipeline"
      ]
     },
     "metadata": {},
     "output_type": "display_data"
    }
   ],
   "source": [
    "\"\"\"\n",
    "Fits the pipeline to the training set and measures the accuracy on test set.\n",
    "input:  pipeline, train_X, train_Y, test_X, test_Y\n",
    "output: accuracy of pipeline\n",
    "\"\"\"\n",
    "function evaluate_pipeline(pipeline, train_X, train_Y, test_X, test_Y)\n",
    "\n",
    "    # # this gives the following warning often, so it is suppressed for now.\n",
    "    # # ConvergenceWarning: lbfgs failed to converge\n",
    "    # @suppress_err begin\n",
    "    try\n",
    "        # fit the pipeline\n",
    "        # print(pipeline)\n",
    "        # print(\" - \")\n",
    "        model = ScikitLearn.fit!(pipeline, Matrix(train_X), Array(train_Y))\n",
    "\n",
    "        # make predictions\n",
    "        predictions = ScikitLearn.predict(model, Matrix(test_X))\n",
    "\n",
    "        # measure the accuracy\n",
    "        accuracy = mean(predictions .== test_Y)\n",
    "        return accuracy\n",
    "    catch e\n",
    "        println(\"Caught error [in evaluate_pipeline()]: \", e)\n",
    "        return 0.0\n",
    "    end\n",
    "end"
   ]
  },
  {
   "cell_type": "code",
   "execution_count": 10,
   "metadata": {},
   "outputs": [
    {
     "data": {
      "text/plain": [
       "pipeline_cost_function"
      ]
     },
     "metadata": {},
     "output_type": "display_data"
    }
   ],
   "source": [
    "\"\"\"Trains the pipeline and returns 1-accuracy\"\"\"\n",
    "function pipeline_cost_function(pipeline, train_X, train_Y, test_X, test_Y)\n",
    "    return 1.0 - evaluate_pipeline(pipeline, train_X, train_Y, test_X, test_Y)\n",
    "end"
   ]
  },
  {
   "cell_type": "code",
   "execution_count": 11,
   "metadata": {},
   "outputs": [
    {
     "data": {
      "text/plain": [
       "find_best_pipeline_with_bfs_search"
      ]
     },
     "metadata": {},
     "output_type": "display_data"
    }
   ],
   "source": [
    "\"\"\"This function enumerates the grammar and finds the best pipeline. \"\"\"\n",
    "function find_best_pipeline_with_bfs_search(grammar, train_X, train_Y, test_X, test_Y, search_depth)\n",
    "    best_accuracy = -1.0\n",
    "    best_pipeline = nothing\n",
    "\n",
    "    # enumerate the gramamar\n",
    "    enumerator = Herb.HerbSearch.ContextFreeEnumerator(grammar, search_depth, :START)\n",
    "    for rule in enumerator\n",
    "        try\n",
    "            # get pipeline and calculate accuracy\n",
    "            pipeline = eval(Herb.HerbSearch.rulenode2expr(rule, grammar))\n",
    "            accuracy = evaluate_pipeline(pipeline, train_X, train_Y, test_X, test_Y)\n",
    "\n",
    "            # update best pipeline\n",
    "            if (accuracy > best_accuracy) \n",
    "                best_accuracy = accuracy\n",
    "                best_pipeline = pipeline\n",
    "            end\n",
    "            \n",
    "            # print accuracy of pipeline\n",
    "            print(\"\\n accuracy: \", round(accuracy, digits=2), \" by \", string(pipeline))\n",
    "        catch\n",
    "            continue\n",
    "        end\n",
    "    end\n",
    "    return (best_accuracy, best_pipeline)\n",
    "end"
   ]
  },
  {
   "cell_type": "code",
   "execution_count": null,
   "metadata": {},
   "outputs": [],
   "source": [
    "# find the best pipeline and accuracy with depth 2\n",
    "(best_accuracy, best_pipeline) = find_best_pipeline_with_bfs_search(grammar, train_X, train_Y, test_X, test_Y, 2)\n",
    "\n",
    "# print result\n",
    "println(\"\\n\\nBest pipeline: \", round(best_accuracy, digits=2))\n",
    "print(best_pipeline)"
   ]
  },
  {
   "cell_type": "code",
   "execution_count": null,
   "metadata": {},
   "outputs": [],
   "source": [
    "test_pipeline = Pipeline([(\"DecisionTree\", DecisionTreeClassifier())])\n",
    "pipeline_cost_function(test_pipeline, train_X, train_Y, test_X, test_Y)"
   ]
  },
  {
   "cell_type": "code",
   "execution_count": null,
   "metadata": {},
   "outputs": [],
   "source": [
    "\"\"\"This function enumerates the grammar and finds the best pipeline. \"\"\"\n",
    "function find_best_pipeline_with_vlsn(grammar, train_X, train_Y, test_X, test_Y, search_depth)\n",
    "    best_accuracy = -1.0\n",
    "    best_pipeline = nothing\n",
    "\n",
    "    # enumerate the gramamar\n",
    "    # enumerator = Herb.HerbSearch.ContextFreeEnumerator(grammar, search_depth, :START)\n",
    "    enumerator = Herb.HerbSearch.get_vlsn_enumerator(grammar, [], search_depth, :START, pipeline_cost_function)\n",
    "    for rule in enumerator\n",
    "        try\n",
    "            # get pipeline and calculate accuracy\n",
    "            pipeline = eval(Herb.HerbSearch.rulenode2expr(rule, grammar))\n",
    "            accuracy = evaluate_pipeline(pipeline, train_X, train_Y, test_X, test_Y)\n",
    "\n",
    "            # update best pipeline\n",
    "            if (accuracy > best_accuracy) \n",
    "                best_accuracy = accuracy\n",
    "                best_pipeline = pipeline\n",
    "            end\n",
    "            \n",
    "            # print accuracy of pipeline\n",
    "            print(\"\\n accuracy: \", round(accuracy, digits=2), \" by \", string(pipeline))\n",
    "        catch\n",
    "            continue\n",
    "        end\n",
    "    end\n",
    "    return (best_accuracy, best_pipeline)\n",
    "end"
   ]
  },
  {
   "cell_type": "code",
   "execution_count": null,
   "metadata": {},
   "outputs": [],
   "source": [
    "find_best_pipeline_with_vlsn(grammar, train_X, train_Y, test_X, test_Y, 2)"
   ]
  },
  {
   "cell_type": "code",
   "execution_count": null,
   "metadata": {},
   "outputs": [],
   "source": [
    "function p_cost_f(pipeline)\n",
    "    # pipeline = eval(pipeline)\n",
    "    return pipeline_cost_function(pipeline, train_X, train_Y, test_X, test_Y)\n",
    "end\n",
    "\n",
    "enumerator = Herb.HerbSearch.get_vlsn_enumerator(grammar, [], 2, :START, p_cost_f)\n",
    "# Herb.HerbSearch.get_mh_enumerator()\n",
    "c = 0\n",
    "for rule in enumerator\n",
    "    println(Herb.HerbSearch.rulenode2expr(rule, grammar))\n",
    "    c = c + 1\n",
    "    if c == 20\n",
    "        break\n",
    "    end\n",
    "end"
   ]
  },
  {
   "cell_type": "code",
   "execution_count": null,
   "metadata": {},
   "outputs": [],
   "source": []
  },
  {
   "cell_type": "code",
   "execution_count": null,
   "metadata": {},
   "outputs": [],
   "source": []
  }
 ],
 "metadata": {
  "kernelspec": {
   "display_name": "Julia 1.8.5",
   "language": "julia",
   "name": "julia-1.8"
  },
  "language_info": {
   "file_extension": ".jl",
   "mimetype": "application/julia",
   "name": "julia",
   "version": "1.8.5"
  },
  "orig_nbformat": 4
 },
 "nbformat": 4,
 "nbformat_minor": 2
}
