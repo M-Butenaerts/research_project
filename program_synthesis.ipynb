{
 "cells": [
  {
   "attachments": {},
   "cell_type": "markdown",
   "metadata": {},
   "source": [
    "# Full notebook\n",
    "This notebook has the whole process put together:\n",
    "1. Loading dataset\n",
    "2. Defining grammar\n",
    "3. Searching through the grammar and evaluating candidate pipelines"
   ]
  },
  {
   "attachments": {},
   "cell_type": "markdown",
   "metadata": {},
   "source": [
    "## 0. Imports"
   ]
  },
  {
   "cell_type": "code",
   "execution_count": 1,
   "metadata": {},
   "outputs": [],
   "source": [
    "# # uncomment the following if not all packages are added.\n",
    "\n",
    "# import Pkg\n",
    "# using Pkg\n",
    "# Pkg.add(\"HTTP\")\n",
    "# Pkg.add(\"JSON\")\n",
    "# Pkg.add(\"DataFrames\")\n",
    "# Pkg.add(\"OpenML\")\n",
    "# Pkg.add(\"DataFrames\") \n",
    "# Pkg.add(\"CSV\") \n",
    "# Pkg.add(\"Suppressor\")\n",
    "# Pkg.add(\"StatsBase\")\n",
    "# Pkg.add(\"ScikitLearn\")"
   ]
  },
  {
   "cell_type": "code",
   "execution_count": 2,
   "metadata": {},
   "outputs": [],
   "source": []
  },
  {
   "cell_type": "code",
   "execution_count": 3,
   "metadata": {},
   "outputs": [
    {
     "data": {
      "text/plain": [
       "get_class_type_dataset (generic function with 1 method)"
      ]
     },
     "metadata": {},
     "output_type": "display_data"
    }
   ],
   "source": [
    "using ScikitLearn\n",
    "using ScikitLearn.Pipelines: Pipeline, FeatureUnion\n",
    "using ScikitLearn.CrossValidation: cross_val_score\n",
    "using XGBoost\n",
    "using Revise\n",
    "using Random\n",
    "using Statistics: mean\n",
    "using ExprRules: get_executable\n",
    "using Suppressor\n",
    "using Random\n",
    "using Dates\n",
    "\n",
    "include(\"./lib/Herb.jl/src/Herb.jl\")\n",
    "include(\"./lib/HerbGrammar.jl/src/HerbGrammar.jl\")\n",
    "include(\"./lib/HerbData.jl/src/HerbData.jl\")\n",
    "include(\"./lib/HerbEvaluation.jl/src/HerbEvaluation.jl\")\n",
    "include(\"./lib/HerbConstraints.jl/src/HerbConstraints.jl\")\n",
    "include(\"./lib/HerbSearch.jl/src/HerbSearch.jl\")\n",
    "include(\"helper.jl\")"
   ]
  },
  {
   "cell_type": "code",
   "execution_count": 4,
   "metadata": {},
   "outputs": [
    {
     "data": {
      "text/plain": [
       "PyObject <class 'sklearn.svm._classes.LinearSVC'>"
      ]
     },
     "metadata": {},
     "output_type": "display_data"
    }
   ],
   "source": [
    "# import the sk-learn functions\n",
    "@sk_import decomposition: (PCA)\n",
    "@sk_import preprocessing: (StandardScaler, RobustScaler, MinMaxScaler, MaxAbsScaler, Binarizer, PolynomialFeatures)\n",
    "@sk_import feature_selection: (VarianceThreshold, SelectKBest, SelectPercentile, SelectFwe, RFE)\n",
    "@sk_import tree: (DecisionTreeClassifier)\n",
    "@sk_import ensemble: (RandomForestClassifier, GradientBoostingClassifier)\n",
    "@sk_import linear_model: (LogisticRegression)\n",
    "@sk_import neighbors: (NearestNeighbors)\n",
    "@sk_import svm: (LinearSVC)"
   ]
  },
  {
   "attachments": {},
   "cell_type": "markdown",
   "metadata": {},
   "source": [
    "## 1. Loading datasets"
   ]
  },
  {
   "cell_type": "code",
   "execution_count": 5,
   "metadata": {},
   "outputs": [
    {
     "data": {
      "text/html": [
       "<div><div style = \"float: left;\"><span>5×8 DataFrame</span></div><div style = \"clear: both;\"></div></div><div class = \"data-frame\" style = \"overflow-x: scroll;\"><table class = \"data-frame\" style = \"margin-bottom: 6px;\"><thead><tr class = \"header\"><th class = \"rowNumber\" style = \"font-weight: bold; text-align: right;\">Row</th><th style = \"text-align: left;\">V1</th><th style = \"text-align: left;\">V2</th><th style = \"text-align: left;\">V3</th><th style = \"text-align: left;\">V4</th><th style = \"text-align: left;\">V5</th><th style = \"text-align: left;\">V6</th><th style = \"text-align: left;\">V7</th><th style = \"text-align: left;\">Class</th></tr><tr class = \"subheader headerLastRow\"><th class = \"rowNumber\" style = \"font-weight: bold; text-align: right;\"></th><th title = \"Float64\" style = \"text-align: left;\">Float64</th><th title = \"Float64\" style = \"text-align: left;\">Float64</th><th title = \"Float64\" style = \"text-align: left;\">Float64</th><th title = \"Float64\" style = \"text-align: left;\">Float64</th><th title = \"Float64\" style = \"text-align: left;\">Float64</th><th title = \"Float64\" style = \"text-align: left;\">Float64</th><th title = \"Float64\" style = \"text-align: left;\">Float64</th><th title = \"CategoricalArrays.CategoricalValue{String, UInt32}\" style = \"text-align: left;\">Cat…</th></tr></thead><tbody><tr><td class = \"rowNumber\" style = \"font-weight: bold; text-align: right;\">1</td><td style = \"text-align: right;\">17.99</td><td style = \"text-align: right;\">15.86</td><td style = \"text-align: right;\">0.8992</td><td style = \"text-align: right;\">5.89</td><td style = \"text-align: right;\">3.694</td><td style = \"text-align: right;\">2.068</td><td style = \"text-align: right;\">5.837</td><td style = \"text-align: left;\">2</td></tr><tr><td class = \"rowNumber\" style = \"font-weight: bold; text-align: right;\">2</td><td style = \"text-align: right;\">15.88</td><td style = \"text-align: right;\">14.9</td><td style = \"text-align: right;\">0.8988</td><td style = \"text-align: right;\">5.618</td><td style = \"text-align: right;\">3.507</td><td style = \"text-align: right;\">0.7651</td><td style = \"text-align: right;\">5.091</td><td style = \"text-align: left;\">1</td></tr><tr><td class = \"rowNumber\" style = \"font-weight: bold; text-align: right;\">3</td><td style = \"text-align: right;\">10.8</td><td style = \"text-align: right;\">12.57</td><td style = \"text-align: right;\">0.859</td><td style = \"text-align: right;\">4.981</td><td style = \"text-align: right;\">2.821</td><td style = \"text-align: right;\">4.773</td><td style = \"text-align: right;\">5.063</td><td style = \"text-align: left;\">3</td></tr><tr><td class = \"rowNumber\" style = \"font-weight: bold; text-align: right;\">4</td><td style = \"text-align: right;\">15.26</td><td style = \"text-align: right;\">14.85</td><td style = \"text-align: right;\">0.8696</td><td style = \"text-align: right;\">5.714</td><td style = \"text-align: right;\">3.242</td><td style = \"text-align: right;\">4.543</td><td style = \"text-align: right;\">5.314</td><td style = \"text-align: left;\">1</td></tr><tr><td class = \"rowNumber\" style = \"font-weight: bold; text-align: right;\">5</td><td style = \"text-align: right;\">16.63</td><td style = \"text-align: right;\">15.46</td><td style = \"text-align: right;\">0.8747</td><td style = \"text-align: right;\">6.053</td><td style = \"text-align: right;\">3.465</td><td style = \"text-align: right;\">2.04</td><td style = \"text-align: right;\">5.877</td><td style = \"text-align: left;\">1</td></tr></tbody></table></div>"
      ],
      "text/latex": [
       "\\begin{tabular}{r|cccccccc}\n",
       "\t& V1 & V2 & V3 & V4 & V5 & V6 & V7 & Class\\\\\n",
       "\t\\hline\n",
       "\t& Float64 & Float64 & Float64 & Float64 & Float64 & Float64 & Float64 & Cat…\\\\\n",
       "\t\\hline\n",
       "\t1 & 17.99 & 15.86 & 0.8992 & 5.89 & 3.694 & 2.068 & 5.837 & 2 \\\\\n",
       "\t2 & 15.88 & 14.9 & 0.8988 & 5.618 & 3.507 & 0.7651 & 5.091 & 1 \\\\\n",
       "\t3 & 10.8 & 12.57 & 0.859 & 4.981 & 2.821 & 4.773 & 5.063 & 3 \\\\\n",
       "\t4 & 15.26 & 14.85 & 0.8696 & 5.714 & 3.242 & 4.543 & 5.314 & 1 \\\\\n",
       "\t5 & 16.63 & 15.46 & 0.8747 & 6.053 & 3.465 & 2.04 & 5.877 & 1 \\\\\n",
       "\\end{tabular}\n"
      ],
      "text/plain": [
       "\u001b[1m5×8 DataFrame\u001b[0m\n",
       "\u001b[1m Row \u001b[0m│\u001b[1m V1      \u001b[0m\u001b[1m V2      \u001b[0m\u001b[1m V3      \u001b[0m\u001b[1m V4      \u001b[0m\u001b[1m V5      \u001b[0m\u001b[1m V6      \u001b[0m\u001b[1m V7      \u001b[0m\u001b[1m Class \u001b[0m\n",
       "     │\u001b[90m Float64 \u001b[0m\u001b[90m Float64 \u001b[0m\u001b[90m Float64 \u001b[0m\u001b[90m Float64 \u001b[0m\u001b[90m Float64 \u001b[0m\u001b[90m Float64 \u001b[0m\u001b[90m Float64 \u001b[0m\u001b[90m Cat…  \u001b[0m\n",
       "─────┼──────────────────────────────────────────────────────────────────────\n",
       "   1 │   17.99    15.86   0.8992    5.89     3.694   2.068     5.837  2\n",
       "   2 │   15.88    14.9    0.8988    5.618    3.507   0.7651    5.091  1\n",
       "   3 │   10.8     12.57   0.859     4.981    2.821   4.773     5.063  3\n",
       "   4 │   15.26    14.85   0.8696    5.714    3.242   4.543     5.314  1\n",
       "   5 │   16.63    15.46   0.8747    6.053    3.465   2.04      5.877  1"
      ]
     },
     "metadata": {},
     "output_type": "display_data"
    }
   ],
   "source": [
    "# Datasets: seeds (1499), diabetes (37), tic-tac-toe (50), steel-plates-fault (1504), \n",
    "\n",
    "# load dataset\n",
    "# dataset = get_dataset(61)\n",
    "\n",
    "# it does not work for the seeds table dataset!\n",
    "dataset = get_dataset(1499)\n",
    "\n",
    "# does not work either on dataset 1464!\n",
    "\n",
    "# shuffle the dataset\n",
    "dataset_shuffled = dataset[shuffle(1:end), :]\n",
    "\n",
    "# split into train and test sets (90:10)\n",
    "split_index = floor(Int, size(dataset_shuffled, 1) * 0.90)\n",
    "train_df = dataset_shuffled[1:split_index, :]\n",
    "test_df = dataset_shuffled[split_index+1:end, :]\n",
    "\n",
    "# show first five entries\n",
    "first(dataset_shuffled, 5)"
   ]
  },
  {
   "cell_type": "code",
   "execution_count": 6,
   "metadata": {},
   "outputs": [
    {
     "name": "stdout",
     "output_type": "stream",
     "text": [
      "size: (210, 8)"
     ]
    },
    {
     "data": {
      "text/html": [
       "<div><div style = \"float: left;\"><span>8×7 DataFrame</span></div><div style = \"clear: both;\"></div></div><div class = \"data-frame\" style = \"overflow-x: scroll;\"><table class = \"data-frame\" style = \"margin-bottom: 6px;\"><thead><tr class = \"header\"><th class = \"rowNumber\" style = \"font-weight: bold; text-align: right;\">Row</th><th style = \"text-align: left;\">variable</th><th style = \"text-align: left;\">mean</th><th style = \"text-align: left;\">min</th><th style = \"text-align: left;\">median</th><th style = \"text-align: left;\">max</th><th style = \"text-align: left;\">nmissing</th><th style = \"text-align: left;\">eltype</th></tr><tr class = \"subheader headerLastRow\"><th class = \"rowNumber\" style = \"font-weight: bold; text-align: right;\"></th><th title = \"Symbol\" style = \"text-align: left;\">Symbol</th><th title = \"Union{Nothing, Float64}\" style = \"text-align: left;\">Union…</th><th title = \"Any\" style = \"text-align: left;\">Any</th><th title = \"Union{Nothing, Float64}\" style = \"text-align: left;\">Union…</th><th title = \"Any\" style = \"text-align: left;\">Any</th><th title = \"Int64\" style = \"text-align: left;\">Int64</th><th title = \"DataType\" style = \"text-align: left;\">DataType</th></tr></thead><tbody><tr><td class = \"rowNumber\" style = \"font-weight: bold; text-align: right;\">1</td><td style = \"text-align: left;\">V1</td><td style = \"text-align: left;\">14.8475</td><td style = \"text-align: left;\">10.59</td><td style = \"text-align: left;\">14.355</td><td style = \"text-align: left;\">21.18</td><td style = \"text-align: right;\">0</td><td style = \"text-align: left;\">Float64</td></tr><tr><td class = \"rowNumber\" style = \"font-weight: bold; text-align: right;\">2</td><td style = \"text-align: left;\">V2</td><td style = \"text-align: left;\">14.5593</td><td style = \"text-align: left;\">12.41</td><td style = \"text-align: left;\">14.32</td><td style = \"text-align: left;\">17.25</td><td style = \"text-align: right;\">0</td><td style = \"text-align: left;\">Float64</td></tr><tr><td class = \"rowNumber\" style = \"font-weight: bold; text-align: right;\">3</td><td style = \"text-align: left;\">V3</td><td style = \"text-align: left;\">0.870999</td><td style = \"text-align: left;\">0.8081</td><td style = \"text-align: left;\">0.87345</td><td style = \"text-align: left;\">0.9183</td><td style = \"text-align: right;\">0</td><td style = \"text-align: left;\">Float64</td></tr><tr><td class = \"rowNumber\" style = \"font-weight: bold; text-align: right;\">4</td><td style = \"text-align: left;\">V4</td><td style = \"text-align: left;\">5.62853</td><td style = \"text-align: left;\">4.899</td><td style = \"text-align: left;\">5.5235</td><td style = \"text-align: left;\">6.675</td><td style = \"text-align: right;\">0</td><td style = \"text-align: left;\">Float64</td></tr><tr><td class = \"rowNumber\" style = \"font-weight: bold; text-align: right;\">5</td><td style = \"text-align: left;\">V5</td><td style = \"text-align: left;\">3.2586</td><td style = \"text-align: left;\">2.63</td><td style = \"text-align: left;\">3.237</td><td style = \"text-align: left;\">4.033</td><td style = \"text-align: right;\">0</td><td style = \"text-align: left;\">Float64</td></tr><tr><td class = \"rowNumber\" style = \"font-weight: bold; text-align: right;\">6</td><td style = \"text-align: left;\">V6</td><td style = \"text-align: left;\">3.7002</td><td style = \"text-align: left;\">0.7651</td><td style = \"text-align: left;\">3.599</td><td style = \"text-align: left;\">8.456</td><td style = \"text-align: right;\">0</td><td style = \"text-align: left;\">Float64</td></tr><tr><td class = \"rowNumber\" style = \"font-weight: bold; text-align: right;\">7</td><td style = \"text-align: left;\">V7</td><td style = \"text-align: left;\">5.40807</td><td style = \"text-align: left;\">4.519</td><td style = \"text-align: left;\">5.223</td><td style = \"text-align: left;\">6.55</td><td style = \"text-align: right;\">0</td><td style = \"text-align: left;\">Float64</td></tr><tr><td class = \"rowNumber\" style = \"font-weight: bold; text-align: right;\">8</td><td style = \"text-align: left;\">Class</td><td style = \"font-style: italic; text-align: left;\"></td><td style = \"text-align: left;\">1</td><td style = \"font-style: italic; text-align: left;\"></td><td style = \"text-align: left;\">3</td><td style = \"text-align: right;\">0</td><td style = \"text-align: left;\">CategoricalValue{String, UInt32}</td></tr></tbody></table></div>"
      ],
      "text/latex": [
       "\\begin{tabular}{r|ccccccc}\n",
       "\t& variable & mean & min & median & max & nmissing & eltype\\\\\n",
       "\t\\hline\n",
       "\t& Symbol & Union… & Any & Union… & Any & Int64 & DataType\\\\\n",
       "\t\\hline\n",
       "\t1 & V1 & 14.8475 & 10.59 & 14.355 & 21.18 & 0 & Float64 \\\\\n",
       "\t2 & V2 & 14.5593 & 12.41 & 14.32 & 17.25 & 0 & Float64 \\\\\n",
       "\t3 & V3 & 0.870999 & 0.8081 & 0.87345 & 0.9183 & 0 & Float64 \\\\\n",
       "\t4 & V4 & 5.62853 & 4.899 & 5.5235 & 6.675 & 0 & Float64 \\\\\n",
       "\t5 & V5 & 3.2586 & 2.63 & 3.237 & 4.033 & 0 & Float64 \\\\\n",
       "\t6 & V6 & 3.7002 & 0.7651 & 3.599 & 8.456 & 0 & Float64 \\\\\n",
       "\t7 & V7 & 5.40807 & 4.519 & 5.223 & 6.55 & 0 & Float64 \\\\\n",
       "\t8 & Class &  & 1 &  & 3 & 0 & CategoricalValue\\{String, UInt32\\} \\\\\n",
       "\\end{tabular}\n"
      ],
      "text/plain": [
       "\u001b[1m8×7 DataFrame\u001b[0m\n",
       "\u001b[1m Row \u001b[0m│\u001b[1m variable \u001b[0m\u001b[1m mean     \u001b[0m\u001b[1m min    \u001b[0m\u001b[1m median  \u001b[0m\u001b[1m max    \u001b[0m\u001b[1m nmissing \u001b[0m\u001b[1m eltype          \u001b[0m ⋯\n",
       "     │\u001b[90m Symbol   \u001b[0m\u001b[90m Union…   \u001b[0m\u001b[90m Any    \u001b[0m\u001b[90m Union…  \u001b[0m\u001b[90m Any    \u001b[0m\u001b[90m Int64    \u001b[0m\u001b[90m DataType        \u001b[0m ⋯\n",
       "─────┼──────────────────────────────────────────────────────────────────────────\n",
       "   1 │ V1        14.8475   10.59   14.355   21.18          0  Float64          ⋯\n",
       "   2 │ V2        14.5593   12.41   14.32    17.25          0  Float64\n",
       "   3 │ V3        0.870999  0.8081  0.87345  0.9183         0  Float64\n",
       "   4 │ V4        5.62853   4.899   5.5235   6.675          0  Float64\n",
       "   5 │ V5        3.2586    2.63    3.237    4.033          0  Float64          ⋯\n",
       "   6 │ V6        3.7002    0.7651  3.599    8.456          0  Float64\n",
       "   7 │ V7        5.40807   4.519   5.223    6.55           0  Float64\n",
       "   8 │ Class    \u001b[90m          \u001b[0m 1      \u001b[90m         \u001b[0m 3              0  CategoricalValue\n",
       "\u001b[36m                                                                1 column omitted\u001b[0m"
      ]
     },
     "metadata": {},
     "output_type": "display_data"
    }
   ],
   "source": [
    "# show metadata\n",
    "print(\"size: \", size(dataset_shuffled))\n",
    "describe(dataset_shuffled)"
   ]
  },
  {
   "cell_type": "code",
   "execution_count": 7,
   "metadata": {},
   "outputs": [
    {
     "name": "stdout",
     "output_type": "stream",
     "text": [
      "train:test ratio = 9:1"
     ]
    }
   ],
   "source": [
    "# split into features and labels\n",
    "train_X = train_df[:, 1:end-1]\n",
    "train_Y = train_df[:, end]\n",
    "test_X = test_df[:, 1:end-1]\n",
    "test_Y = test_df[:, end]\n",
    "\n",
    "# print ratio train/test\n",
    "ratio = trunc(Int, 10.0 * (size(train_df)[1] / (size(train_df)[1] + size(test_df)[1])))\n",
    "print(\"train:test ratio = \", ratio , \":\", (10-ratio))"
   ]
  },
  {
   "attachments": {},
   "cell_type": "markdown",
   "metadata": {},
   "source": [
    "## 2. Defining grammar"
   ]
  },
  {
   "cell_type": "code",
   "execution_count": 8,
   "metadata": {},
   "outputs": [
    {
     "data": {
      "text/plain": [
       "1: START = Pipeline([CLASSIF])\n",
       "2: START = Pipeline([PRE, CLASSIF])\n",
       "3: PRE = PREPROC\n",
       "4: PRE = FSELECT\n",
       "5: PRE = (\"seq\", Pipeline([PRE, PRE]))\n",
       "6: PRE = (\"par\", FeatureUnion([PRE, PRE]))\n",
       "7: PREPROC = (\"StandardScaler\" * string(rand(Int)), StandardScaler())\n",
       "8: PREPROC = (\"RobustScaler\", RobustScaler())\n",
       "9: PREPROC = (\"MinMaxScaler\", MinMaxScaler())\n",
       "10: PREPROC = (\"MaxAbsScaler\", MaxAbsScaler())\n",
       "11: PREPROC = (\"PCA\", PCA())\n",
       "12: PREPROC = (\"Binarizer\", Binarizer())\n",
       "13: PREPROC = (\"PolynomialFeatures\", PolynomialFeatures())\n",
       "14: FSELECT = (\"VarianceThreshold\", VarianceThreshold())\n",
       "15: FSELECT = (\"SelectPercentile\", SelectPercentile())\n",
       "16: FSELECT = (\"SelectFwe\", SelectFwe())\n",
       "17: FSELECT = (\"Recursive Feature Elimination\", RFE(LinearSVC()))\n",
       "18: CLASSIF = (\"DecisionTree\", DecisionTreeClassifier())\n",
       "19: CLASSIF = (\"RandomForest\", RandomForestClassifier())\n",
       "20: CLASSIF = (\"Gradient Boosting Classifier\", GradientBoostingClassifier())\n",
       "21: CLASSIF = (\"LogisticRegression\", LogisticRegression())\n",
       "22: CLASSIF = (\"NearestNeighborClassifier\", NearestNeighbors())\n"
      ]
     },
     "metadata": {},
     "output_type": "display_data"
    }
   ],
   "source": [
    "grammar = Herb.HerbGrammar.@cfgrammar begin\n",
    "\n",
    "    # this is the version with multiple classifiers possible\n",
    "    # START   = CLASSIF | sequence(PRE, CLASSIF)\n",
    "    # PRE     = PREPROC | FSELECT | sequence(PRE, PRE) | parallel(BRANCH, BRANCH)\n",
    "    # BRANCH  = PRE | CLASSIF | sequence(PRE, CLASSIF) \n",
    "\n",
    "    # this is the version with only one classifier\n",
    "    START   = Pipeline([CLASSIF]) | Pipeline([PRE, CLASSIF])\n",
    "    PRE     = PREPROC | FSELECT | (\"seq\", Pipeline([PRE, PRE]))  | (\"par\", FeatureUnion([PRE, PRE])) \n",
    "\n",
    "    # preprocessing functions\n",
    "    PREPROC =   \n",
    "        (\"StandardScaler\" * string(rand(Int)), StandardScaler()) |\n",
    "        (\"RobustScaler\", RobustScaler()) |\n",
    "        (\"MinMaxScaler\", MinMaxScaler()) |\n",
    "        (\"MaxAbsScaler\", MaxAbsScaler()) |\n",
    "        (\"PCA\", PCA()) |\n",
    "        (\"Binarizer\", Binarizer()) |\n",
    "        (\"PolynomialFeatures\", PolynomialFeatures())\n",
    "\n",
    "    # feature selection functions\n",
    "    FSELECT =  \n",
    "        (\"VarianceThreshold\", VarianceThreshold()) |\n",
    "        # (\"SelectKBest\",  SelectKBest()) |\n",
    "        (\"SelectPercentile\",  SelectPercentile()) |\n",
    "        (\"SelectFwe\",  SelectFwe()) |\n",
    "        (\"Recursive Feature Elimination\",  RFE(LinearSVC())) \n",
    "\n",
    "    # classifiers\n",
    "    CLASSIF =\n",
    "        (\"DecisionTree\", DecisionTreeClassifier()) |\n",
    "        (\"RandomForest\", RandomForestClassifier()) |\n",
    "        (\"Gradient Boosting Classifier\", GradientBoostingClassifier()) |\n",
    "        (\"LogisticRegression\", LogisticRegression()) |\n",
    "        (\"NearestNeighborClassifier\", NearestNeighbors())\n",
    "end"
   ]
  },
  {
   "cell_type": "code",
   "execution_count": 9,
   "metadata": {},
   "outputs": [
    {
     "data": {
      "text/plain": [
       "insert_name_indexes (generic function with 1 method)"
      ]
     },
     "metadata": {},
     "output_type": "display_data"
    }
   ],
   "source": [
    "function insert_name_indexes(p)\n",
    "    p_start = \"\"\n",
    "    i = 1\n",
    "    while i <= 100\n",
    "        try\n",
    "            p = replace(p, \"\"\"\",\"\"\" => string(i)*\"\"\"\",\"\"\", count=1)\n",
    "            p_split = split(p, string(i) * \"\"\"\", \"\"\")\n",
    "            p_start *= p_split[1] * string(i) * \"\"\"\", \"\"\"\n",
    "            p = p_split[2]\n",
    "            i += 1\n",
    "        catch\n",
    "            break\n",
    "        end\n",
    "    end\n",
    "    return split(p_start, string(i))[1]\n",
    "end"
   ]
  },
  {
   "cell_type": "code",
   "execution_count": 10,
   "metadata": {},
   "outputs": [
    {
     "data": {
      "text/plain": [
       "get_random_pipeline (generic function with 1 method)"
      ]
     },
     "metadata": {},
     "output_type": "display_data"
    }
   ],
   "source": [
    "function get_random_pipeline(grammar, max_depth, start_symbol)\n",
    "    # all pipelines that can be assembled in max_depth steps\n",
    "    cfe = Herb.HerbSearch.ContextFreeEnumerator(grammar, max_depth, :START)\n",
    "    cfe_size = deepcopy(cfe)\n",
    "    \n",
    "    # find size\n",
    "    size = 0\n",
    "    for pipeline in cfe_size\n",
    "        size += 1\n",
    "    end\n",
    "\n",
    "    # Find start program\n",
    "    ret_pipeline = nothing\n",
    "    c = 0\n",
    "    i = abs(rand(Int) % size)\n",
    "    for pipeline in cfe\n",
    "        if c == i\n",
    "            ret_pipeline = pipeline\n",
    "            break\n",
    "        end\n",
    "        c = c + 1\n",
    "    end\n",
    "    return ret_pipeline\n",
    "end"
   ]
  },
  {
   "attachments": {},
   "cell_type": "markdown",
   "metadata": {},
   "source": [
    "## 3. Search"
   ]
  },
  {
   "cell_type": "code",
   "execution_count": 11,
   "metadata": {},
   "outputs": [
    {
     "data": {
      "text/plain": [
       "evaluate_pipeline"
      ]
     },
     "metadata": {},
     "output_type": "display_data"
    }
   ],
   "source": [
    "\"\"\"\n",
    "Fits the pipeline to the training set and measures the accuracy on test set.\n",
    "input:  pipeline, train_X, train_Y, test_X, test_Y\n",
    "output: accuracy of pipeline\n",
    "\"\"\"\n",
    "function evaluate_pipeline(pipeline, train_X, train_Y, test_X, test_Y)\n",
    "\n",
    "    # # this gives the following warning often, so it is suppressed for now.\n",
    "    # # ConvergenceWarning: lbfgs failed to converge\n",
    "    @suppress_err begin\n",
    "        try\n",
    "            # fit the pipeline\n",
    "            # print(pipeline)\n",
    "            # print(\" - \")\n",
    "            model = ScikitLearn.fit!(pipeline, Matrix(train_X), Array(train_Y))\n",
    "\n",
    "            # make predictions\n",
    "            predictions = ScikitLearn.predict(model, Matrix(test_X))\n",
    "\n",
    "            # measure the accuracy\n",
    "            accuracy = mean(predictions .== test_Y)\n",
    "            return accuracy\n",
    "        catch e\n",
    "            # println(\"Caught error [in evaluate_pipeline()]: \", e)\n",
    "            return 0.0\n",
    "        end\n",
    "    end\n",
    "end"
   ]
  },
  {
   "cell_type": "code",
   "execution_count": 12,
   "metadata": {},
   "outputs": [
    {
     "data": {
      "text/plain": [
       "pipeline_cost_function"
      ]
     },
     "metadata": {},
     "output_type": "display_data"
    }
   ],
   "source": [
    "\"\"\"Trains the pipeline and returns 1-accuracy\"\"\"\n",
    "function pipeline_cost_function(pipeline, train_X, train_Y, test_X, test_Y)\n",
    "    return 1.0 - evaluate_pipeline(pipeline, train_X, train_Y, test_X, test_Y)\n",
    "end"
   ]
  },
  {
   "cell_type": "code",
   "execution_count": 13,
   "metadata": {},
   "outputs": [
    {
     "data": {
      "text/plain": [
       "find_best_pipeline_with_bfs_search"
      ]
     },
     "metadata": {},
     "output_type": "display_data"
    }
   ],
   "source": [
    "\"\"\"This function enumerates the grammar and finds the best pipeline. \"\"\"\n",
    "function find_best_pipeline_with_bfs_search(grammar, train_X, train_Y, test_X, test_Y, search_depth)\n",
    "    best_accuracy = -1.0\n",
    "    best_pipeline = nothing\n",
    "\n",
    "    # enumerate the gramamar\n",
    "    enumerator = Herb.HerbSearch.ContextFreeEnumerator(grammar, search_depth, :START)\n",
    "    for rule in enumerator\n",
    "        try\n",
    "            # get pipeline and calculate accuracy\n",
    "            pipeline = eval(Herb.HerbSearch.rulenode2expr(rule, grammar))\n",
    "            accuracy = evaluate_pipeline(pipeline, train_X, train_Y, test_X, test_Y)\n",
    "\n",
    "            # update best pipeline\n",
    "            if (accuracy > best_accuracy) \n",
    "                best_accuracy = accuracy\n",
    "                best_pipeline = pipeline\n",
    "            end\n",
    "            \n",
    "            # print accuracy of pipeline\n",
    "            print(\"\\n accuracy: \", round(accuracy, digits=2), \" by \", string(pipeline))\n",
    "        catch\n",
    "            continue\n",
    "        end\n",
    "    end\n",
    "    return (best_accuracy, best_pipeline)\n",
    "end"
   ]
  },
  {
   "cell_type": "code",
   "execution_count": 14,
   "metadata": {},
   "outputs": [
    {
     "name": "stdout",
     "output_type": "stream",
     "text": [
      "\n",
      " accuracy: 0.76 by "
     ]
    },
    {
     "name": "stdout",
     "output_type": "stream",
     "text": [
      "Pipeline(Tuple{Any, Any}[(\"DecisionTree\", PyObject DecisionTreeClassifier())], Any[PyObject DecisionTreeClassifier()])\n",
      " accuracy: 0.81 by Pipeline(Tuple{Any, Any}[(\"RandomForest\", PyObject RandomForestClassifier())], Any[PyObject RandomForestClassifier()])"
     ]
    },
    {
     "name": "stdout",
     "output_type": "stream",
     "text": [
      "\n",
      " accuracy: 0.76 by Pipeline(Tuple{Any, Any}[(\"Gradient Boosting Classifier\", PyObject GradientBoostingClassifier())], Any[PyObject GradientBoostingClassifier()])\n",
      " accuracy: 0.81 by Pipeline(Tuple{Any, Any}[(\"LogisticRegression\", PyObject LogisticRegression())], Any[PyObject LogisticRegression()])\n",
      " accuracy: 0.0 by Pipeline(Tuple{Any, Any}[(\"NearestNeighborClassifier\", PyObject NearestNeighbors())], Any[PyObject NearestNeighbors()])\n",
      "\n",
      "Best pipeline: 0.81\n"
     ]
    },
    {
     "name": "stdout",
     "output_type": "stream",
     "text": [
      "Pipeline("
     ]
    },
    {
     "name": "stdout",
     "output_type": "stream",
     "text": [
      "Tuple{Any, Any}["
     ]
    },
    {
     "name": "stdout",
     "output_type": "stream",
     "text": [
      "(\"RandomForest\", PyObject RandomForestClassifier())]"
     ]
    },
    {
     "name": "stdout",
     "output_type": "stream",
     "text": [
      ", Any[PyObject RandomForestClassifier()])"
     ]
    }
   ],
   "source": [
    "# find the best pipeline and accuracy with depth 2\n",
    "(best_accuracy, best_pipeline) = find_best_pipeline_with_bfs_search(grammar, train_X, train_Y, test_X, test_Y, 2)\n",
    "\n",
    "# print result\n",
    "println(\"\\n\\nBest pipeline: \", round(best_accuracy, digits=2))\n",
    "print(best_pipeline)"
   ]
  },
  {
   "cell_type": "code",
   "execution_count": 15,
   "metadata": {},
   "outputs": [
    {
     "data": {
      "text/plain": [
       "0.23809523809523814"
      ]
     },
     "metadata": {},
     "output_type": "display_data"
    }
   ],
   "source": [
    "test_pipeline = Pipeline([(\"DecisionTree\", DecisionTreeClassifier())])\n",
    "pipeline_cost_function(test_pipeline, train_X, train_Y, test_X, test_Y)"
   ]
  },
  {
   "cell_type": "code",
   "execution_count": 24,
   "metadata": {},
   "outputs": [
    {
     "data": {
      "text/plain": [
       "(2{5{3{11}3{9}}21}, 1.0)"
      ]
     },
     "metadata": {},
     "output_type": "display_data"
    }
   ],
   "source": [
    "using Random\n",
    "abstract type ExpressionIterator end\n",
    "\n",
    "\n",
    "# TreeNode definition.\n",
    "mutable struct TreeNode\n",
    "    state\n",
    "    visits::Int\n",
    "    wins::Float64\n",
    "    depth::Int\n",
    "    children::Array{TreeNode, 1}\n",
    "    parent::Union{TreeNode, Nothing}\n",
    "end\n",
    "\n",
    "# Create a new TreeNode.\n",
    "function TreeNode(state, depth, parent)\n",
    "    return TreeNode(state, 0, 0.0, depth, TreeNode[], parent)\n",
    "end\n",
    "\n",
    "# Select the child node with the highest UCT score.\n",
    "function select_child(node::TreeNode, c)\n",
    "    total_visits = sum(n.visits for n in values(node.children))\n",
    "    best_score = -Inf\n",
    "    best_child = nothing\n",
    "\n",
    "    for child in node.children\n",
    "        if child.visits == 0\n",
    "            score = Inf  # Set a high score for unvisited nodes\n",
    "        else\n",
    "            exploration_term = c * sqrt(log(total_visits) / child.visits)\n",
    "            score = child.wins / child.visits + exploration_term\n",
    "        end\n",
    "\n",
    "        if score > best_score\n",
    "            best_score = score\n",
    "            best_child = child\n",
    "        end\n",
    "    end\n",
    "\n",
    "    return best_child\n",
    "end\n",
    "\n",
    "# Expands a chosen node by adding all configurations as child nodes an picking one at random.\n",
    "function expand_node(node, grammar)\n",
    "    # Checks in memory if the rules have already been enumerated once to save time.\n",
    "    if mem[node.depth+1] == nothing\n",
    "        enumerator = Herb.HerbSearch.ContextFreeEnumerator(grammar, node.depth+1, :START)\n",
    "        rules = []\n",
    "        for rule in enumerator\n",
    "            push!(rules, rule)\n",
    "        end\n",
    "        mem[node.depth+1] = rules\n",
    "        push!(mem, nothing)\n",
    "    else\n",
    "        rules = mem[node.depth+1]\n",
    "    end\n",
    "    \n",
    "    # Checks what the configuration of the current node is and filters out all configurations that do not match.\n",
    "    temp = [string(node.state.children[i])[1:end-1] for i in eachindex(node.state.children)]\n",
    "    filtered_rules = filter(x -> all(contains(string(x), s) for s in temp), rules)[2:end]\n",
    "    \n",
    "    # Create an array of child nodes and assign them to the current node.\n",
    "    child_nodes = TreeNode[]\n",
    "    for child in filtered_rules\n",
    "        push!(child_nodes , TreeNode(child, node.depth+1, node))\n",
    "    end\n",
    "    node.children = child_nodes\n",
    "    \n",
    "    return rand(node.children)\n",
    "end\n",
    "\n",
    "# The simulation step tries to evaluate a pipeline and returns its accuracy.\n",
    "function simulate(state)\n",
    "    accuracy = 0\n",
    "    try\n",
    "        #pipeline = eval(Herb.HerbSearch.rulenode2expr(state, grammar))\n",
    "        pipeline = eval(Meta.parse(insert_name_indexes(string(Herb.HerbSearch.rulenode2expr(state, grammar)))))\n",
    "        accuracy = evaluate_pipeline(pipeline, train_X, train_Y, test_X, test_Y)\n",
    "        #println(\"Accuracy: \", accuracy)\n",
    "    catch\n",
    "        accuracy = 0\n",
    "    end\n",
    "    return accuracy\n",
    "end\n",
    "\n",
    "# The backpropagation step updates the visits and wins fields of the given node and its parent node.\n",
    "function backpropagate(node::TreeNode, result)\n",
    "    while node != nothing\n",
    "        node.visits += 1\n",
    "        node.wins += result\n",
    "        node = node.parent\n",
    "    end\n",
    "end\n",
    "\n",
    "# Perform Monte Carlo Tree Search\n",
    "function mcts(root_state, max_iterations, grammar, c)\n",
    "    best_pipeline_score = 0 \n",
    "    best_pipeline_conf = nothing\n",
    "    for _ in 1:max_iterations\n",
    "        node = root_node\n",
    "        # Selection \n",
    "        while !isempty(node.children) \n",
    "            node = select_child(node, c)\n",
    "        end\n",
    "        # Expansion\n",
    "        if node.visits > 0\n",
    "            node = expand_node(node, grammar)\n",
    "        end\n",
    "\n",
    "        # Simulation\n",
    "        reward = simulate(node.state)\n",
    "        if reward > best_pipeline_score\n",
    "            best_pipeline_score = reward\n",
    "            best_pipeline_conf = node.state\n",
    "        end\n",
    "\n",
    "        # Backpropagation\n",
    "        backpropagate(node, reward)\n",
    "    end\n",
    "    return best_pipeline_conf, best_pipeline_score\n",
    "end\n",
    "\n",
    "# Creates an inital state to use as a starting point for the algorithm. \n",
    "function select_initial_state(grammar, max_depth, start_symbol)\n",
    "    initial_state = TreeNode(:EMPTY, 1, nothing)  # Create a root node with an empty symbol\n",
    "    # Expand the root node by adding the first layer of options\n",
    "    \n",
    "    child_nodes = TreeNode[]\n",
    "    enumerator = Herb.HerbSearch.ContextFreeEnumerator(grammar, max_depth, start_symbol)\n",
    "    rules = []\n",
    "    for expression in enumerator\n",
    "        child = TreeNode(expression, 2, initial_state)\n",
    "        push!(rules, expression)\n",
    "        push!(child_nodes, child)\n",
    "    end\n",
    "\n",
    "    push!(mem, rules)\n",
    "    push!(mem, nothing)\n",
    "\n",
    "    initial_state.children = child_nodes\n",
    "    \n",
    "    return initial_state\n",
    "end\n",
    "\n",
    "# Initialize the memory array for the memoization of certain configuration.\n",
    "mem = []\n",
    "push!(mem, nothing)\n",
    "# Generate the root node.\n",
    "root_node = select_initial_state(grammar, 2, :START)\n",
    "\n",
    "# Perform Monte Carlo Tree Search!\n",
    "best_pipeline = mcts(root_node, 1000, grammar, 1.42)\n"
   ]
  },
  {
   "cell_type": "code",
   "execution_count": 17,
   "metadata": {},
   "outputs": [
    {
     "data": {
      "text/plain": [
       "expand_node (generic function with 1 method)"
      ]
     },
     "metadata": {},
     "output_type": "display_data"
    }
   ],
   "source": [
    "function expand_node(node, grammar)\n",
    "    if mem[node.depth+1] == nothing\n",
    "        enumerator = Herb.HerbSearch.ContextFreeEnumerator(grammar, node.depth+1, :START)\n",
    "        rules = []\n",
    "        for rule in enumerator\n",
    "            push!(rules, rule)\n",
    "        end\n",
    "        mem[node.depth+1] = rules\n",
    "        push!(mem, nothing)\n",
    "    else\n",
    "        rules = mem[node.depth+1]\n",
    "    end\n",
    "    \n",
    "    temp = [string(node.state.children[i])[1:end-1] for i in eachindex(node.state.children)]\n",
    "    #println(temp)\n",
    "    filtered_rules = filter(x -> all(contains(string(x), s) for s in temp), rules)[2:end]\n",
    "    #println(filtered_rules)\n",
    "    child_nodes = TreeNode[]\n",
    "    for child in filtered_rules\n",
    "        push!(child_nodes , TreeNode(child, node.depth+1, node))\n",
    "    end\n",
    "    #println(child_nodes)\n",
    "    node.children = child_nodes\n",
    "    \n",
    "    return rand(node.children)\n",
    "end\n",
    "\n",
    "#test_node = TreeNode(depth2, 2, nothing)\n",
    "\n",
    "#2{3{11}19}\n",
    "#depth2 = best_pipeline[1]\n",
    "#depth3 = node\n",
    "#depth4 = node\n",
    "#depth5 = node\n",
    "#node = expand_node(depth5, grammar)\n",
    "\n",
    "\n"
   ]
  }
 ],
 "metadata": {
  "kernelspec": {
   "display_name": "Julia 1.8.5",
   "language": "julia",
   "name": "julia-1.8"
  },
  "language_info": {
   "file_extension": ".jl",
   "mimetype": "application/julia",
   "name": "julia",
   "version": "1.8.5"
  },
  "orig_nbformat": 4
 },
 "nbformat": 4,
 "nbformat_minor": 2
}
